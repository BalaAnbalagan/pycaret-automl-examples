{
 "cells": [
  {
   "cell_type": "markdown",
   "metadata": {},
   "source": [
    "---\n",
    "\n",
    "## Cell 0: Setup Virtual Environment (Local Environment Only)\n",
    "\n",
    "### What\n",
    "We're creating a dedicated virtual environment for this project to isolate dependencies and ensure reproducibility.\n",
    "\n",
    "### Why\n",
    "Using a virtual environment is a best practice because:\n",
    "- Isolates project dependencies from system Python\n",
    "- Prevents version conflicts with other projects\n",
    "- Makes the project portable and reproducible\n",
    "- Allows specific package versions without affecting other projects\n",
    "\n",
    "### Technical Details\n",
    "**For Local Development**:\n",
    "1. Create a virtual environment using Python 3.9+\n",
    "2. Activate the virtual environment\n",
    "3. Install PyCaret with specific compatible versions\n",
    "\n",
    "**For Google Colab**: Skip this cell (Colab manages its own environment)\n",
    "\n",
    "### Instructions\n",
    "\n",
    "**Option 1: Using venv (recommended)**\n",
    "```bash\n",
    "# Navigate to your project directory\n",
    "cd /Users/banbalagan/Projects/pycaret-automl-examples\n",
    "\n",
    "# Create virtual environment\n",
    "python3.9 -m venv venv\n",
    "\n",
    "# Activate virtual environment\n",
    "# On macOS/Linux:\n",
    "source venv/bin/activate\n",
    "# On Windows:\n",
    "# venv\\Scripts\\activate\n",
    "\n",
    "# Verify Python version\n",
    "python --version\n",
    "\n",
    "# Continue to next cell for package installation\n",
    "```\n",
    "\n",
    "**Option 2: Using conda**\n",
    "```bash\n",
    "# Create conda environment\n",
    "conda create -n pycaret-env python=3.9 -y\n",
    "\n",
    "# Activate environment\n",
    "conda activate pycaret-env\n",
    "```\n",
    "\n",
    "### Expected Output\n",
    "After activation, your terminal prompt should show `(venv)` or `(pycaret-env)` prefix, indicating the virtual environment is active.\n",
    "\n",
    "### Important Notes\n",
    "- Run this in your terminal BEFORE opening Jupyter Notebook\n",
    "- After creating/activating the virtual environment, install Jupyter in it:\n",
    "  ```bash\n",
    "  pip install jupyter notebook\n",
    "  ```\n",
    "- Then launch Jupyter from within the activated environment:\n",
    "  ```bash\n",
    "  jupyter notebook\n",
    "  ```\n",
    "- Select the kernel that corresponds to your virtual environment in Jupyter"
   ]
  },
  {
   "cell_type": "markdown",
   "metadata": {},
   "source": [
    "---\n",
    "\n",
    "## Cell 1: Install and Import Required Libraries\n",
    "\n",
    "### What\n",
    "We're installing PyCaret with compatible dependencies and importing all necessary Python libraries for our analysis.\n",
    "\n",
    "### Why\n",
    "Google Colab comes with pre-installed packages that can conflict with PyCaret's dependencies. For local environments, we install specific package versions to ensure stability and reproducibility.\n",
    "\n",
    "### Technical Details\n",
    "- **Google Colab**: Install compatible versions to avoid runtime crashes\n",
    "- **Local Environment**: Install PyCaret with specific versions (Option 2 - recommended)\n",
    "- Import all necessary libraries for data analysis and machine learning\n",
    "\n",
    "### Expected Output\n",
    "- **Google Colab**: Installation messages and a reminder to restart the runtime\n",
    "- **Local Environment**: Clean installation of all required packages\n",
    "\n",
    "### IMPORTANT (Google Colab Users)\n",
    "⚠️ After running this cell in Colab, you MUST restart the runtime:\n",
    "- Click: **Runtime → Restart runtime** (or Ctrl+M .)\n",
    "- After restart, skip this cell and run all other cells normally"
   ]
  },
  {
   "cell_type": "code",
   "execution_count": null,
   "metadata": {},
   "outputs": [],
   "source": [
    "# ============================================================\n",
    "# INSTALLATION CELL - Environment Detection & Package Setup\n",
    "# ============================================================\n",
    "\n",
    "import sys\n",
    "import os\n",
    "\n",
    "# Check if running in Colab\n",
    "IN_COLAB = 'google.colab' in sys.modules\n",
    "\n",
    "if IN_COLAB:\n",
    "    print(\"=\" * 60)\n",
    "    print(\"🔧 Google Colab Detected\")\n",
    "    print(\"=\" * 60)\n",
    "    print(\"📦 Installing PyCaret with compatible dependencies...\")\n",
    "    print(\"⏳ This will take 2-3 minutes, please be patient...\")\n",
    "\n",
    "    # Upgrade pip first\n",
    "    !pip install -q --upgrade pip\n",
    "\n",
    "    # Install compatible base packages FIRST (prevents conflicts)\n",
    "    print(\"Step 1/3: Installing base packages with compatible versions...\")\n",
    "    !pip install -q --upgrade \\\n",
    "        numpy>=1.23.0,<2.0.0 \\\n",
    "        pandas>=2.0.0,<2.3.0 \\\n",
    "        scipy>=1.10.0,<1.14.0 \\\n",
    "        scikit-learn>=1.3.0,<1.6.0 \\\n",
    "        matplotlib>=3.7.0,<3.9.0\n",
    "\n",
    "    # Install PyCaret (will use already installed base packages)\n",
    "    print(\"Step 2/3: Installing PyCaret...\")\n",
    "    !pip install -q pycaret\n",
    "\n",
    "    # Install additional ML packages\n",
    "    print(\"Step 3/3: Installing additional ML packages...\")\n",
    "    !pip install -q \\\n",
    "        category-encoders \\\n",
    "        lightgbm \\\n",
    "        xgboost \\\n",
    "        catboost \\\n",
    "        optuna \\\n",
    "        plotly \\\n",
    "        kaleido\n",
    "\n",
    "    print(\"\\n\" + \"=\" * 60)\n",
    "    print(\"✅ Installation Complete!\")\n",
    "    print(\"=\" * 60)\n",
    "    print(\"⚠️  CRITICAL: You MUST restart the runtime now!\")\n",
    "    print(\"   👉 Click: Runtime → Restart runtime (or Ctrl+M .)\")\n",
    "    print(\"🔄 After restart:\")\n",
    "    print(\"   1. Skip this installation cell\")\n",
    "    print(\"   2. Run all other cells normally\")\n",
    "    print(\"   3. Everything will work without crashes!\")\n",
    "    print(\"=\" * 60)\n",
    "\n",
    "else:\n",
    "    print(\"=\" * 60)\n",
    "    print(\"📍 Local Environment Detected\")\n",
    "    print(\"=\" * 60)\n",
    "    print(\"Installing PyCaret with specific compatible versions...\")\n",
    "    print(\"Using Option 2: Controlled dependency installation\\n\")\n",
    "    \n",
    "    # Upgrade pip first\n",
    "    !pip install -q --upgrade pip\n",
    "    \n",
    "    # Install base packages with specific versions (Option 2)\n",
    "    print(\"Step 1/4: Installing base packages...\")\n",
    "    !pip install -q \\\n",
    "        numpy>=1.23.0,<2.0.0 \\\n",
    "        pandas>=2.0.0,<2.3.0 \\\n",
    "        scipy>=1.10.0,<1.14.0 \\\n",
    "        scikit-learn>=1.3.0,<1.6.0 \\\n",
    "        matplotlib>=3.7.0,<3.9.0 \\\n",
    "        seaborn>=0.12.0\n",
    "    \n",
    "    # Install PyCaret\n",
    "    print(\"Step 2/4: Installing PyCaret...\")\n",
    "    !pip install -q pycaret\n",
    "    \n",
    "    # Install additional ML packages\n",
    "    print(\"Step 3/4: Installing additional ML libraries...\")\n",
    "    !pip install -q \\\n",
    "        category-encoders \\\n",
    "        lightgbm \\\n",
    "        xgboost \\\n",
    "        catboost \\\n",
    "        optuna \\\n",
    "        plotly \\\n",
    "        kaleido\n",
    "    \n",
    "    # Install notebook support packages\n",
    "    print(\"Step 4/4: Installing notebook support packages...\")\n",
    "    !pip install -q ipywidgets\n",
    "    \n",
    "    print(\"\\n\" + \"=\" * 60)\n",
    "    print(\"✅ Installation Complete!\")\n",
    "    print(\"=\" * 60)\n",
    "    print(\"All packages installed successfully in your virtual environment.\")\n",
    "    print(\"You can now proceed with running the rest of the notebook.\")\n",
    "    print(\"=\" * 60)\n",
    "\n",
    "# Import libraries after installation\n",
    "print(\"\\n📚 Importing libraries...\")\n",
    "import pandas as pd\n",
    "import numpy as np\n",
    "import matplotlib.pyplot as plt\n",
    "import seaborn as sns\n",
    "import warnings\n",
    "warnings.filterwarnings('ignore')\n",
    "\n",
    "# Set visualization style\n",
    "sns.set_style('whitegrid')\n",
    "plt.rcParams['figure.figsize'] = (10, 6)\n",
    "\n",
    "print(\"\\n✓ Libraries imported successfully!\")\n",
    "print(f\"   - Python version: {sys.version.split()[0]}\")\n",
    "print(f\"   - Pandas version: {pd.__version__}\")\n",
    "print(f\"   - NumPy version: {np.__version__}\")\n",
    "print(f\"   - Working directory: {os.getcwd()}\")\n",
    "\n",
    "# Check if running in virtual environment\n",
    "if hasattr(sys, 'real_prefix') or (hasattr(sys, 'base_prefix') and sys.base_prefix != sys.prefix):\n",
    "    print(f\"   - Virtual environment: Active ✓\")\n",
    "    print(f\"   - Environment path: {sys.prefix}\")\n",
    "else:\n",
    "    print(\"   - Virtual environment: Not detected (consider using venv)\")\n",
    "    \n",
    "print(\"\\n\" + \"=\" * 60)"
   ]
  },
  {
   "cell_type": "markdown",
   "metadata": {},
   "source": [
    "---\n",
    "\n",
    "## Cell 2: Load Wholesale Customers Dataset\n",
    "\n",
    "### What\n",
    "Loading the wholesale customers dataset with annual spending patterns.\n",
    "\n",
    "### Why\n",
    "This dataset is perfect for clustering:\n",
    "- **Continuous features**: Spending amounts\n",
    "- **Natural groupings**: Different customer types exist\n",
    "- **Business relevance**: Real-world segmentation problem\n",
    "- **No labels**: Truly unsupervised\n",
    "\n",
    "### Technical Details\n",
    "- **Local Environment**: Loads from the project's datasets folder\n",
    "- **Google Colab**: Loads from a public URL\n",
    "- Features represent annual spending in monetary units across 6 product categories\n",
    "\n",
    "### Dataset Locations\n",
    "- **Local Path**: `/Users/banbalagan/Projects/pycaret-automl-examples/datasets/clustering/Wholesale customers data.csv`\n",
    "- **Remote URL**: For Colab users or if local file is not available\n",
    "\n",
    "### Expected Output\n",
    "Dataset with 440 customers and 8 columns."
   ]
  },
  {
   "cell_type": "code",
   "execution_count": 1,
   "metadata": {},
   "outputs": [
    {
     "name": "stdout",
     "output_type": "stream",
     "text": [
      "============================================================\n",
      "📂 Loading dataset from local path...\n",
      "============================================================\n",
      "Path: /Users/banbalagan/Projects/pycaret-automl-examples/datasets/clustering/Wholesale customers data.csv\n",
      "\n",
      "✓ Dataset loaded successfully from local file!\n",
      "\n",
      "============================================================\n",
      "DATASET INFORMATION\n",
      "============================================================\n",
      "Shape: 440 customers, 8 features\n",
      "Memory usage: 27.62 KB\n",
      "\n",
      "============================================================\n",
      "COLUMN NAMES\n",
      "============================================================\n",
      "Features: ['Channel', 'Region', 'Fresh', 'Milk', 'Grocery', 'Frozen', 'Detergents_Paper', 'Delicassen']\n",
      "\n",
      "============================================================\n",
      "FIRST 5 ROWS\n",
      "============================================================\n"
     ]
    },
    {
     "data": {
      "text/html": [
       "<div>\n",
       "<style scoped>\n",
       "    .dataframe tbody tr th:only-of-type {\n",
       "        vertical-align: middle;\n",
       "    }\n",
       "\n",
       "    .dataframe tbody tr th {\n",
       "        vertical-align: top;\n",
       "    }\n",
       "\n",
       "    .dataframe thead th {\n",
       "        text-align: right;\n",
       "    }\n",
       "</style>\n",
       "<table border=\"1\" class=\"dataframe\">\n",
       "  <thead>\n",
       "    <tr style=\"text-align: right;\">\n",
       "      <th></th>\n",
       "      <th>Channel</th>\n",
       "      <th>Region</th>\n",
       "      <th>Fresh</th>\n",
       "      <th>Milk</th>\n",
       "      <th>Grocery</th>\n",
       "      <th>Frozen</th>\n",
       "      <th>Detergents_Paper</th>\n",
       "      <th>Delicassen</th>\n",
       "    </tr>\n",
       "  </thead>\n",
       "  <tbody>\n",
       "    <tr>\n",
       "      <th>0</th>\n",
       "      <td>2</td>\n",
       "      <td>3</td>\n",
       "      <td>12669</td>\n",
       "      <td>9656</td>\n",
       "      <td>7561</td>\n",
       "      <td>214</td>\n",
       "      <td>2674</td>\n",
       "      <td>1338</td>\n",
       "    </tr>\n",
       "    <tr>\n",
       "      <th>1</th>\n",
       "      <td>2</td>\n",
       "      <td>3</td>\n",
       "      <td>7057</td>\n",
       "      <td>9810</td>\n",
       "      <td>9568</td>\n",
       "      <td>1762</td>\n",
       "      <td>3293</td>\n",
       "      <td>1776</td>\n",
       "    </tr>\n",
       "    <tr>\n",
       "      <th>2</th>\n",
       "      <td>2</td>\n",
       "      <td>3</td>\n",
       "      <td>6353</td>\n",
       "      <td>8808</td>\n",
       "      <td>7684</td>\n",
       "      <td>2405</td>\n",
       "      <td>3516</td>\n",
       "      <td>7844</td>\n",
       "    </tr>\n",
       "    <tr>\n",
       "      <th>3</th>\n",
       "      <td>1</td>\n",
       "      <td>3</td>\n",
       "      <td>13265</td>\n",
       "      <td>1196</td>\n",
       "      <td>4221</td>\n",
       "      <td>6404</td>\n",
       "      <td>507</td>\n",
       "      <td>1788</td>\n",
       "    </tr>\n",
       "    <tr>\n",
       "      <th>4</th>\n",
       "      <td>2</td>\n",
       "      <td>3</td>\n",
       "      <td>22615</td>\n",
       "      <td>5410</td>\n",
       "      <td>7198</td>\n",
       "      <td>3915</td>\n",
       "      <td>1777</td>\n",
       "      <td>5185</td>\n",
       "    </tr>\n",
       "  </tbody>\n",
       "</table>\n",
       "</div>"
      ],
      "text/plain": [
       "   Channel  Region  Fresh  Milk  Grocery  Frozen  Detergents_Paper  Delicassen\n",
       "0        2       3  12669  9656     7561     214              2674        1338\n",
       "1        2       3   7057  9810     9568    1762              3293        1776\n",
       "2        2       3   6353  8808     7684    2405              3516        7844\n",
       "3        1       3  13265  1196     4221    6404               507        1788\n",
       "4        2       3  22615  5410     7198    3915              1777        5185"
      ]
     },
     "execution_count": 1,
     "metadata": {},
     "output_type": "execute_result"
    }
   ],
   "source": [
    "import sys\n",
    "import os\n",
    "import pandas as pd\n",
    "import warnings\n",
    "warnings.filterwarnings('ignore')\n",
    "\n",
    "# Check if running in Colab\n",
    "IN_COLAB = 'google.colab' in sys.modules\n",
    "\n",
    "# Define dataset paths\n",
    "LOCAL_PATH = '/Users/banbalagan/Projects/pycaret-automl-examples/datasets/clustering/Wholesale customers data.csv'\n",
    "# REMOTE_URL = 'https://archive.ics.uci.edu/ml/machine-learning-databases/00292/Wholesale%20customers%20data.csv'  # Commented out - errors\n",
    "\n",
    "# Try to load from local path first (for local development)\n",
    "if not IN_COLAB and os.path.exists(LOCAL_PATH):\n",
    "    print(\"=\" * 60)\n",
    "    print(\"📂 Loading dataset from local path...\")\n",
    "    print(\"=\" * 60)\n",
    "    print(f\"Path: {LOCAL_PATH}\\n\")\n",
    "    df = pd.read_csv(LOCAL_PATH)\n",
    "    print(f\"✓ Dataset loaded successfully from local file!\")\n",
    "    \n",
    "elif not IN_COLAB:\n",
    "    # Local environment but file doesn't exist - check relative path\n",
    "    print(\"=\" * 60)\n",
    "    print(\"⚠️  Local path not found, trying relative path...\")\n",
    "    print(\"=\" * 60)\n",
    "    \n",
    "    # Try relative path from notebook location\n",
    "    relative_paths = [\n",
    "        '../datasets/clustering/Wholesale customers data.csv',\n",
    "        '../../datasets/clustering/Wholesale customers data.csv',\n",
    "        'Wholesale customers data.csv'\n",
    "    ]\n",
    "    \n",
    "    dataset_loaded = False\n",
    "    for rel_path in relative_paths:\n",
    "        if os.path.exists(rel_path):\n",
    "            print(f\"✓ Found dataset at: {rel_path}\\n\")\n",
    "            df = pd.read_csv(rel_path)\n",
    "            dataset_loaded = True\n",
    "            print(f\"✓ Dataset loaded successfully from relative path!\")\n",
    "            break\n",
    "    \n",
    "    # For local environment: if dataset not found, raise clear error instead of falling back to URL\n",
    "    if not dataset_loaded:\n",
    "        print(\"❌ ERROR: Could not find local dataset file.\")\n",
    "        print(f\"Expected location: {LOCAL_PATH}\")\n",
    "        print(\"\\nPlease ensure the dataset file exists at the correct location.\")\n",
    "        raise FileNotFoundError(f\"Dataset not found at {LOCAL_PATH}\")\n",
    "        \n",
    "        # # COMMENTED OUT - Remote URL fallback (causes errors)\n",
    "        # print(\"\\nFalling back to remote URL...\\n\")\n",
    "        # df = pd.read_csv(REMOTE_URL)\n",
    "        # print(f\"✓ Dataset loaded successfully from remote URL!\")\n",
    "        \n",
    "else:\n",
    "    # Google Colab - use remote URL\n",
    "    print(\"=\" * 60)\n",
    "    print(\"☁️  Google Colab - Loading from remote URL...\")\n",
    "    print(\"=\" * 60)\n",
    "    REMOTE_URL = 'https://archive.ics.uci.edu/ml/machine-learning-databases/00292/Wholesale%20customers%20data.csv'\n",
    "    print(f\"URL: {REMOTE_URL}\\n\")\n",
    "    df = pd.read_csv(REMOTE_URL)\n",
    "    print(f\"✓ Dataset loaded successfully from remote URL!\")\n",
    "\n",
    "# Display basic information\n",
    "print(\"\\n\" + \"=\" * 60)\n",
    "print(\"DATASET INFORMATION\")\n",
    "print(\"=\" * 60)\n",
    "print(f\"Shape: {df.shape[0]} customers, {df.shape[1]} features\")\n",
    "print(f\"Memory usage: {df.memory_usage(deep=True).sum() / 1024:.2f} KB\")\n",
    "\n",
    "print(\"\\n\" + \"=\" * 60)\n",
    "print(\"COLUMN NAMES\")\n",
    "print(\"=\" * 60)\n",
    "print(f\"Features: {list(df.columns)}\")\n",
    "\n",
    "print(\"\\n\" + \"=\" * 60)\n",
    "print(\"FIRST 5 ROWS\")\n",
    "print(\"=\" * 60)\n",
    "df.head()"
   ]
  },
  {
   "cell_type": "markdown",
   "metadata": {},
   "source": [
    "---\n",
    "\n",
    "## Cell 3: Data Exploration\n",
    "\n",
    "### What\n",
    "Exploring the structure and statistics of customer spending data.\n",
    "\n",
    "### Why\n",
    "Understanding the data helps:\n",
    "- Identify spending patterns\n",
    "- Check for outliers (very important in clustering!)\n",
    "- Understand feature scales\n",
    "- Determine if normalization needed\n",
    "\n",
    "### Technical Details\n",
    "Spending features have very different scales - some in thousands, others in hundreds. Normalization will be critical!\n",
    "\n",
    "### Expected Output\n",
    "Summary statistics showing wide range of spending patterns."
   ]
  },
  {
   "cell_type": "code",
   "execution_count": 2,
   "metadata": {},
   "outputs": [
    {
     "name": "stdout",
     "output_type": "stream",
     "text": [
      "============================================================\n",
      "DATASET INFORMATION\n",
      "============================================================\n",
      "<class 'pandas.core.frame.DataFrame'>\n",
      "RangeIndex: 440 entries, 0 to 439\n",
      "Data columns (total 8 columns):\n",
      " #   Column            Non-Null Count  Dtype\n",
      "---  ------            --------------  -----\n",
      " 0   Channel           440 non-null    int64\n",
      " 1   Region            440 non-null    int64\n",
      " 2   Fresh             440 non-null    int64\n",
      " 3   Milk              440 non-null    int64\n",
      " 4   Grocery           440 non-null    int64\n",
      " 5   Frozen            440 non-null    int64\n",
      " 6   Detergents_Paper  440 non-null    int64\n",
      " 7   Delicassen        440 non-null    int64\n",
      "dtypes: int64(8)\n",
      "memory usage: 27.6 KB\n",
      "\n",
      "============================================================\n",
      "STATISTICAL SUMMARY\n",
      "============================================================\n"
     ]
    },
    {
     "data": {
      "text/html": [
       "<div>\n",
       "<style scoped>\n",
       "    .dataframe tbody tr th:only-of-type {\n",
       "        vertical-align: middle;\n",
       "    }\n",
       "\n",
       "    .dataframe tbody tr th {\n",
       "        vertical-align: top;\n",
       "    }\n",
       "\n",
       "    .dataframe thead th {\n",
       "        text-align: right;\n",
       "    }\n",
       "</style>\n",
       "<table border=\"1\" class=\"dataframe\">\n",
       "  <thead>\n",
       "    <tr style=\"text-align: right;\">\n",
       "      <th></th>\n",
       "      <th>Channel</th>\n",
       "      <th>Region</th>\n",
       "      <th>Fresh</th>\n",
       "      <th>Milk</th>\n",
       "      <th>Grocery</th>\n",
       "      <th>Frozen</th>\n",
       "      <th>Detergents_Paper</th>\n",
       "      <th>Delicassen</th>\n",
       "    </tr>\n",
       "  </thead>\n",
       "  <tbody>\n",
       "    <tr>\n",
       "      <th>count</th>\n",
       "      <td>440.000000</td>\n",
       "      <td>440.000000</td>\n",
       "      <td>440.000000</td>\n",
       "      <td>440.000000</td>\n",
       "      <td>440.000000</td>\n",
       "      <td>440.000000</td>\n",
       "      <td>440.000000</td>\n",
       "      <td>440.000000</td>\n",
       "    </tr>\n",
       "    <tr>\n",
       "      <th>mean</th>\n",
       "      <td>1.322727</td>\n",
       "      <td>2.543182</td>\n",
       "      <td>12000.297727</td>\n",
       "      <td>5796.265909</td>\n",
       "      <td>7951.277273</td>\n",
       "      <td>3071.931818</td>\n",
       "      <td>2881.493182</td>\n",
       "      <td>1524.870455</td>\n",
       "    </tr>\n",
       "    <tr>\n",
       "      <th>std</th>\n",
       "      <td>0.468052</td>\n",
       "      <td>0.774272</td>\n",
       "      <td>12647.328865</td>\n",
       "      <td>7380.377175</td>\n",
       "      <td>9503.162829</td>\n",
       "      <td>4854.673333</td>\n",
       "      <td>4767.854448</td>\n",
       "      <td>2820.105937</td>\n",
       "    </tr>\n",
       "    <tr>\n",
       "      <th>min</th>\n",
       "      <td>1.000000</td>\n",
       "      <td>1.000000</td>\n",
       "      <td>3.000000</td>\n",
       "      <td>55.000000</td>\n",
       "      <td>3.000000</td>\n",
       "      <td>25.000000</td>\n",
       "      <td>3.000000</td>\n",
       "      <td>3.000000</td>\n",
       "    </tr>\n",
       "    <tr>\n",
       "      <th>25%</th>\n",
       "      <td>1.000000</td>\n",
       "      <td>2.000000</td>\n",
       "      <td>3127.750000</td>\n",
       "      <td>1533.000000</td>\n",
       "      <td>2153.000000</td>\n",
       "      <td>742.250000</td>\n",
       "      <td>256.750000</td>\n",
       "      <td>408.250000</td>\n",
       "    </tr>\n",
       "    <tr>\n",
       "      <th>50%</th>\n",
       "      <td>1.000000</td>\n",
       "      <td>3.000000</td>\n",
       "      <td>8504.000000</td>\n",
       "      <td>3627.000000</td>\n",
       "      <td>4755.500000</td>\n",
       "      <td>1526.000000</td>\n",
       "      <td>816.500000</td>\n",
       "      <td>965.500000</td>\n",
       "    </tr>\n",
       "    <tr>\n",
       "      <th>75%</th>\n",
       "      <td>2.000000</td>\n",
       "      <td>3.000000</td>\n",
       "      <td>16933.750000</td>\n",
       "      <td>7190.250000</td>\n",
       "      <td>10655.750000</td>\n",
       "      <td>3554.250000</td>\n",
       "      <td>3922.000000</td>\n",
       "      <td>1820.250000</td>\n",
       "    </tr>\n",
       "    <tr>\n",
       "      <th>max</th>\n",
       "      <td>2.000000</td>\n",
       "      <td>3.000000</td>\n",
       "      <td>112151.000000</td>\n",
       "      <td>73498.000000</td>\n",
       "      <td>92780.000000</td>\n",
       "      <td>60869.000000</td>\n",
       "      <td>40827.000000</td>\n",
       "      <td>47943.000000</td>\n",
       "    </tr>\n",
       "  </tbody>\n",
       "</table>\n",
       "</div>"
      ],
      "text/plain": [
       "          Channel      Region          Fresh          Milk       Grocery  \\\n",
       "count  440.000000  440.000000     440.000000    440.000000    440.000000   \n",
       "mean     1.322727    2.543182   12000.297727   5796.265909   7951.277273   \n",
       "std      0.468052    0.774272   12647.328865   7380.377175   9503.162829   \n",
       "min      1.000000    1.000000       3.000000     55.000000      3.000000   \n",
       "25%      1.000000    2.000000    3127.750000   1533.000000   2153.000000   \n",
       "50%      1.000000    3.000000    8504.000000   3627.000000   4755.500000   \n",
       "75%      2.000000    3.000000   16933.750000   7190.250000  10655.750000   \n",
       "max      2.000000    3.000000  112151.000000  73498.000000  92780.000000   \n",
       "\n",
       "             Frozen  Detergents_Paper    Delicassen  \n",
       "count    440.000000        440.000000    440.000000  \n",
       "mean    3071.931818       2881.493182   1524.870455  \n",
       "std     4854.673333       4767.854448   2820.105937  \n",
       "min       25.000000          3.000000      3.000000  \n",
       "25%      742.250000        256.750000    408.250000  \n",
       "50%     1526.000000        816.500000    965.500000  \n",
       "75%     3554.250000       3922.000000   1820.250000  \n",
       "max    60869.000000      40827.000000  47943.000000  "
      ]
     },
     "metadata": {},
     "output_type": "display_data"
    },
    {
     "name": "stdout",
     "output_type": "stream",
     "text": [
      "\n",
      "============================================================\n",
      "MISSING VALUES\n",
      "============================================================\n",
      "Channel             0\n",
      "Region              0\n",
      "Fresh               0\n",
      "Milk                0\n",
      "Grocery             0\n",
      "Frozen              0\n",
      "Detergents_Paper    0\n",
      "Delicassen          0\n",
      "dtype: int64\n",
      "\n",
      "============================================================\n",
      "KEY OBSERVATIONS\n",
      "============================================================\n",
      "- Features have very different scales (100s to 10,000s)\n",
      "- Large standard deviations indicate diverse customer base\n",
      "- Some customers spend heavily in certain categories\n",
      "- Normalization will be essential for clustering\n"
     ]
    }
   ],
   "source": [
    "print(\"=\" * 60)\n",
    "print(\"DATASET INFORMATION\")\n",
    "print(\"=\" * 60)\n",
    "df.info()\n",
    "\n",
    "print(\"\\n\" + \"=\" * 60)\n",
    "print(\"STATISTICAL SUMMARY\")\n",
    "print(\"=\" * 60)\n",
    "display(df.describe())\n",
    "\n",
    "print(\"\\n\" + \"=\" * 60)\n",
    "print(\"MISSING VALUES\")\n",
    "print(\"=\" * 60)\n",
    "print(df.isnull().sum())\n",
    "\n",
    "print(\"\\n\" + \"=\" * 60)\n",
    "print(\"KEY OBSERVATIONS\")\n",
    "print(\"=\" * 60)\n",
    "print(\"- Features have very different scales (100s to 10,000s)\")\n",
    "print(\"- Large standard deviations indicate diverse customer base\")\n",
    "print(\"- Some customers spend heavily in certain categories\")\n",
    "print(\"- Normalization will be essential for clustering\")"
   ]
  },
  {
   "cell_type": "markdown",
   "metadata": {},
   "source": [
    "---\n",
    "\n",
    "## Cell 4: Spending Distribution Analysis\n",
    "\n",
    "### What\n",
    "Visualizing spending distributions across the 6 product categories.\n",
    "\n",
    "### Why\n",
    "Understanding distributions helps:\n",
    "- Identify high-spending vs low-spending customers\n",
    "- See which categories vary most\n",
    "- Spot outliers (customers with extreme spending)\n",
    "- Guide clustering approach\n",
    "\n",
    "### Technical Details\n",
    "We'll create box plots for each spending category to see:\n",
    "- Median spending\n",
    "- Spread (IQR)\n",
    "- Outliers\n",
    "\n",
    "### Expected Output\n",
    "Box plots showing spending distribution for each category."
   ]
  },
  {
   "cell_type": "code",
   "execution_count": 4,
   "metadata": {},
   "outputs": [
    {
     "name": "stdout",
     "output_type": "stream",
     "text": [
      "============================================================\n",
      "SPENDING DISTRIBUTION ACROSS CATEGORIES\n",
      "============================================================\n"
     ]
    },
    {
     "data": {
      "image/png": "[encoded data removed]",
      "text/plain": [
       "<Figure size 1800x1000 with 6 Axes>"
      ]
     },
     "metadata": {},
     "output_type": "display_data"
    },
    {
     "name": "stdout",
     "output_type": "stream",
     "text": [
      "\n",
      "Key Observations:\n",
      "- Fresh and Grocery show highest spending and variation\n",
      "- Many outliers (high-spending customers) in each category\n",
      "- Different customers focus on different product categories\n",
      "- This diversity suggests natural customer segments exist!\n"
     ]
    }
   ],
   "source": [
    "import matplotlib.pyplot as plt\n",
    "import seaborn as sns\n",
    "import numpy as np\n",
    "print(\"=\" * 60)\n",
    "print(\"SPENDING DISTRIBUTION ACROSS CATEGORIES\")\n",
    "print(\"=\" * 60)\n",
    "\n",
    "# Select spending columns\n",
    "spending_cols = ['Fresh', 'Milk', 'Grocery', 'Frozen', 'Detergents_Paper', 'Delicassen']\n",
    "\n",
    "fig, axes = plt.subplots(2, 3, figsize=(18, 10))\n",
    "axes = axes.ravel()\n",
    "\n",
    "for idx, col in enumerate(spending_cols):\n",
    "    axes[idx].boxplot(df[col])\n",
    "    axes[idx].set_title(f'{col} Spending', fontsize=12, fontweight='bold')\n",
    "    axes[idx].set_ylabel('Monetary Units', fontsize=10)\n",
    "    axes[idx].grid(alpha=0.3)\n",
    "\n",
    "plt.tight_layout()\n",
    "plt.show()\n",
    "\n",
    "print(\"\\nKey Observations:\")\n",
    "print(\"- Fresh and Grocery show highest spending and variation\")\n",
    "print(\"- Many outliers (high-spending customers) in each category\")\n",
    "print(\"- Different customers focus on different product categories\")\n",
    "print(\"- This diversity suggests natural customer segments exist!\")"
   ]
  },
  {
   "cell_type": "markdown",
   "metadata": {},
   "source": [
    "---\n",
    "\n",
    "## Cell 5: Correlation Analysis\n",
    "\n",
    "### What\n",
    "Analyzing correlations between different spending categories.\n",
    "\n",
    "### Why\n",
    "Correlation reveals:\n",
    "- Which products are bought together\n",
    "- Customer purchasing patterns\n",
    "- Potential customer types (e.g., grocery-focused vs fresh-focused)\n",
    "\n",
    "### Technical Details\n",
    "High correlation between categories suggests customers who buy one product category also buy another.\n",
    "\n",
    "### Expected Output\n",
    "Heatmap showing correlations between spending categories."
   ]
  },
  {
   "cell_type": "code",
   "execution_count": 5,
   "metadata": {},
   "outputs": [
    {
     "name": "stdout",
     "output_type": "stream",
     "text": [
      "============================================================\n",
      "CORRELATION BETWEEN SPENDING CATEGORIES\n",
      "============================================================\n"
     ]
    },
    {
     "data": {
      "image/png": "[encoded data removed]",
      "text/plain": [
       "<Figure size 1000x800 with 2 Axes>"
      ]
     },
     "metadata": {},
     "output_type": "display_data"
    },
    {
     "name": "stdout",
     "output_type": "stream",
     "text": [
      "\n",
      "Interpretation:\n",
      "- High positive correlation: Products bought together\n",
      "- Example: Grocery, Milk, Detergents_Paper often correlated\n",
      "  (suggests retail customers buying household essentials)\n",
      "- Fresh spending sometimes independent\n",
      "  (suggests restaurant/cafe customers)\n"
     ]
    }
   ],
   "source": [
    "print(\"=\" * 60)\n",
    "print(\"CORRELATION BETWEEN SPENDING CATEGORIES\")\n",
    "print(\"=\" * 60)\n",
    "\n",
    "# Calculate correlation\n",
    "corr_matrix = df[spending_cols].corr()\n",
    "\n",
    "# Heatmap\n",
    "plt.figure(figsize=(10, 8))\n",
    "sns.heatmap(corr_matrix, annot=True, fmt='.2f', cmap='coolwarm',\n",
    "            center=0, square=True, linewidths=1, cbar_kws={\"shrink\": 0.8})\n",
    "plt.title('Spending Category Correlations', fontsize=16, fontweight='bold', pad=20)\n",
    "plt.tight_layout()\n",
    "plt.show()\n",
    "\n",
    "print(\"\\nInterpretation:\")\n",
    "print(\"- High positive correlation: Products bought together\")\n",
    "print(\"- Example: Grocery, Milk, Detergents_Paper often correlated\")\n",
    "print(\"  (suggests retail customers buying household essentials)\")\n",
    "print(\"- Fresh spending sometimes independent\")\n",
    "print(\"  (suggests restaurant/cafe customers)\")"
   ]
  },
  {
   "cell_type": "markdown",
   "metadata": {},
   "source": [
    "---\n",
    "\n",
    "## Cell 6: PyCaret Setup for Clustering\n",
    "\n",
    "### What\n",
    "Initializing PyCaret's clustering environment for unsupervised learning.\n",
    "\n",
    "### Why\n",
    "Clustering setup is unique:\n",
    "- **No target variable** (unsupervised!)\n",
    "- **Normalization critical**: Features must be on same scale\n",
    "- **Different preprocessing**: No train/test split (use all data)\n",
    "\n",
    "### Technical Details\n",
    "PyCaret will:\n",
    "- Normalize all features (essential for distance-based clustering)\n",
    "- Handle any transformations\n",
    "- Prepare data for multiple clustering algorithms\n",
    "\n",
    "**Key Difference from Supervised Learning**:\n",
    "- No train/test split\n",
    "- No cross-validation\n",
    "- Evaluation uses internal metrics (silhouette, Davies-Bouldin, etc.)\n",
    "\n",
    "### Expected Output\n",
    "Setup summary confirming clustering configuration."
   ]
  },
  {
   "cell_type": "code",
   "execution_count": 6,
   "metadata": {},
   "outputs": [
    {
     "name": "stdout",
     "output_type": "stream",
     "text": [
      "============================================================\n",
      "PYCARET SETUP - CLUSTERING (UNSUPERVISED)\n",
      "============================================================\n",
      "\n",
      "Configuring unsupervised learning environment...\n",
      "\n"
     ]
    },
    {
     "data": {
      "text/html": [
       "<style type=\"text/css\">\n",
       "#T_de17b_row4_col1, #T_de17b_row8_col1 {\n",
       "  background-color: lightgreen;\n",
       "}\n",
       "</style>\n",
       "<table id=\"T_de17b\">\n",
       "  <thead>\n",
       "    <tr>\n",
       "      <th class=\"blank level0\" >&nbsp;</th>\n",
       "      <th id=\"T_de17b_level0_col0\" class=\"col_heading level0 col0\" >Description</th>\n",
       "      <th id=\"T_de17b_level0_col1\" class=\"col_heading level0 col1\" >Value</th>\n",
       "    </tr>\n",
       "  </thead>\n",
       "  <tbody>\n",
       "    <tr>\n",
       "      <th id=\"T_de17b_level0_row0\" class=\"row_heading level0 row0\" >0</th>\n",
       "      <td id=\"T_de17b_row0_col0\" class=\"data row0 col0\" >Session id</td>\n",
       "      <td id=\"T_de17b_row0_col1\" class=\"data row0 col1\" >42</td>\n",
       "    </tr>\n",
       "    <tr>\n",
       "      <th id=\"T_de17b_level0_row1\" class=\"row_heading level0 row1\" >1</th>\n",
       "      <td id=\"T_de17b_row1_col0\" class=\"data row1 col0\" >Original data shape</td>\n",
       "      <td id=\"T_de17b_row1_col1\" class=\"data row1 col1\" >(440, 8)</td>\n",
       "    </tr>\n",
       "    <tr>\n",
       "      <th id=\"T_de17b_level0_row2\" class=\"row_heading level0 row2\" >2</th>\n",
       "      <td id=\"T_de17b_row2_col0\" class=\"data row2 col0\" >Transformed data shape</td>\n",
       "      <td id=\"T_de17b_row2_col1\" class=\"data row2 col1\" >(440, 8)</td>\n",
       "    </tr>\n",
       "    <tr>\n",
       "      <th id=\"T_de17b_level0_row3\" class=\"row_heading level0 row3\" >3</th>\n",
       "      <td id=\"T_de17b_row3_col0\" class=\"data row3 col0\" >Numeric features</td>\n",
       "      <td id=\"T_de17b_row3_col1\" class=\"data row3 col1\" >8</td>\n",
       "    </tr>\n",
       "    <tr>\n",
       "      <th id=\"T_de17b_level0_row4\" class=\"row_heading level0 row4\" >4</th>\n",
       "      <td id=\"T_de17b_row4_col0\" class=\"data row4 col0\" >Preprocess</td>\n",
       "      <td id=\"T_de17b_row4_col1\" class=\"data row4 col1\" >True</td>\n",
       "    </tr>\n",
       "    <tr>\n",
       "      <th id=\"T_de17b_level0_row5\" class=\"row_heading level0 row5\" >5</th>\n",
       "      <td id=\"T_de17b_row5_col0\" class=\"data row5 col0\" >Imputation type</td>\n",
       "      <td id=\"T_de17b_row5_col1\" class=\"data row5 col1\" >simple</td>\n",
       "    </tr>\n",
       "    <tr>\n",
       "      <th id=\"T_de17b_level0_row6\" class=\"row_heading level0 row6\" >6</th>\n",
       "      <td id=\"T_de17b_row6_col0\" class=\"data row6 col0\" >Numeric imputation</td>\n",
       "      <td id=\"T_de17b_row6_col1\" class=\"data row6 col1\" >mean</td>\n",
       "    </tr>\n",
       "    <tr>\n",
       "      <th id=\"T_de17b_level0_row7\" class=\"row_heading level0 row7\" >7</th>\n",
       "      <td id=\"T_de17b_row7_col0\" class=\"data row7 col0\" >Categorical imputation</td>\n",
       "      <td id=\"T_de17b_row7_col1\" class=\"data row7 col1\" >mode</td>\n",
       "    </tr>\n",
       "    <tr>\n",
       "      <th id=\"T_de17b_level0_row8\" class=\"row_heading level0 row8\" >8</th>\n",
       "      <td id=\"T_de17b_row8_col0\" class=\"data row8 col0\" >Normalize</td>\n",
       "      <td id=\"T_de17b_row8_col1\" class=\"data row8 col1\" >True</td>\n",
       "    </tr>\n",
       "    <tr>\n",
       "      <th id=\"T_de17b_level0_row9\" class=\"row_heading level0 row9\" >9</th>\n",
       "      <td id=\"T_de17b_row9_col0\" class=\"data row9 col0\" >Normalize method</td>\n",
       "      <td id=\"T_de17b_row9_col1\" class=\"data row9 col1\" >zscore</td>\n",
       "    </tr>\n",
       "    <tr>\n",
       "      <th id=\"T_de17b_level0_row10\" class=\"row_heading level0 row10\" >10</th>\n",
       "      <td id=\"T_de17b_row10_col0\" class=\"data row10 col0\" >CPU Jobs</td>\n",
       "      <td id=\"T_de17b_row10_col1\" class=\"data row10 col1\" >-1</td>\n",
       "    </tr>\n",
       "    <tr>\n",
       "      <th id=\"T_de17b_level0_row11\" class=\"row_heading level0 row11\" >11</th>\n",
       "      <td id=\"T_de17b_row11_col0\" class=\"data row11 col0\" >Use GPU</td>\n",
       "      <td id=\"T_de17b_row11_col1\" class=\"data row11 col1\" >False</td>\n",
       "    </tr>\n",
       "    <tr>\n",
       "      <th id=\"T_de17b_level0_row12\" class=\"row_heading level0 row12\" >12</th>\n",
       "      <td id=\"T_de17b_row12_col0\" class=\"data row12 col0\" >Log Experiment</td>\n",
       "      <td id=\"T_de17b_row12_col1\" class=\"data row12 col1\" >False</td>\n",
       "    </tr>\n",
       "    <tr>\n",
       "      <th id=\"T_de17b_level0_row13\" class=\"row_heading level0 row13\" >13</th>\n",
       "      <td id=\"T_de17b_row13_col0\" class=\"data row13 col0\" >Experiment Name</td>\n",
       "      <td id=\"T_de17b_row13_col1\" class=\"data row13 col1\" >cluster-default-name</td>\n",
       "    </tr>\n",
       "    <tr>\n",
       "      <th id=\"T_de17b_level0_row14\" class=\"row_heading level0 row14\" >14</th>\n",
       "      <td id=\"T_de17b_row14_col0\" class=\"data row14 col0\" >USI</td>\n",
       "      <td id=\"T_de17b_row14_col1\" class=\"data row14 col1\" >1ebc</td>\n",
       "    </tr>\n",
       "  </tbody>\n",
       "</table>\n"
      ],
      "text/plain": [
       "<pandas.io.formats.style.Styler at 0x10bb26a00>"
      ]
     },
     "metadata": {},
     "output_type": "display_data"
    },
    {
     "name": "stdout",
     "output_type": "stream",
     "text": [
      "\n",
      "============================================================\n",
      "✓ Clustering setup completed!\n",
      "============================================================\n",
      "\n",
      "Key Differences from Supervised Learning:\n",
      "- NO target variable (unsupervised)\n",
      "- NO train/test split (use all 440 customers)\n",
      "- Evaluation uses internal metrics (silhouette, etc.)\n",
      "\n",
      "Ready to discover customer segments!\n"
     ]
    }
   ],
   "source": [
    "from pycaret.clustering import *\n",
    "\n",
    "print(\"=\" * 60)\n",
    "print(\"PYCARET SETUP - CLUSTERING (UNSUPERVISED)\")\n",
    "print(\"=\" * 60)\n",
    "print(\"\\nConfiguring unsupervised learning environment...\\n\")\n",
    "\n",
    "# Initialize clustering setup\n",
    "# Changed from session_seed to session_id for PyCaret 3.x\n",
    "cluster_setup = setup(\n",
    "    data=df,\n",
    "    normalize=True,  # CRITICAL for clustering!\n",
    "    session_id=42,\n",
    "    verbose=True\n",
    ")\n",
    "\n",
    "print(\"\\n\" + \"=\" * 60)\n",
    "print(\"✓ Clustering setup completed!\")\n",
    "print(\"=\" * 60)\n",
    "print(\"\\nKey Differences from Supervised Learning:\")\n",
    "print(\"- NO target variable (unsupervised)\")\n",
    "print(\"- NO train/test split (use all 440 customers)\")\n",
    "print(\"- Evaluation uses internal metrics (silhouette, etc.)\")\n",
    "print(\"\\nReady to discover customer segments!\")"
   ]
  },
  {
   "cell_type": "markdown",
   "metadata": {},
   "source": [
    "---\n",
    "\n",
    "## Cell 7: Create and Compare Different Clustering Models\n",
    "\n",
    "### What\n",
    "Creating multiple clustering models with different algorithms and cluster numbers.\n",
    "\n",
    "### Why\n",
    "Different clustering algorithms have different strengths:\n",
    "- **KMeans**: Fast, works well with spherical clusters\n",
    "- **Hierarchical**: No need to specify K upfront, creates dendrogram\n",
    "- **DBSCAN**: Finds arbitrary shapes, identifies outliers\n",
    "- **Gaussian Mixture**: Probabilistic clustering\n",
    "\n",
    "### Technical Details\n",
    "We need to determine:\n",
    "1. **Which algorithm** works best\n",
    "2. **How many clusters** (K) are optimal\n",
    "\n",
    "PyCaret provides metrics to compare:\n",
    "- **Silhouette Score**: How well separated clusters are (0-1, higher better)\n",
    "- **Calinski-Harabasz**: Ratio of between/within cluster variance (higher better)\n",
    "- **Davies-Bouldin**: Average similarity between clusters (lower better)\n",
    "\n",
    "### Expected Output\n",
    "Table comparing different clustering models and their quality metrics."
   ]
  },
  {
   "cell_type": "code",
   "execution_count": 7,
   "metadata": {},
   "outputs": [
    {
     "name": "stdout",
     "output_type": "stream",
     "text": [
      "============================================================\n",
      "COMPARING CLUSTERING ALGORITHMS\n",
      "============================================================\n",
      "\n",
      "Testing different algorithms to find best customer segmentation...\n",
      "\n",
      "Testing KMeans with K=3, 4, 5...\n"
     ]
    },
    {
     "data": {
      "text/html": [],
      "text/plain": [
       "<IPython.core.display.HTML object>"
      ]
     },
     "metadata": {},
     "output_type": "display_data"
    },
    {
     "data": {
      "text/html": [
       "<style type=\"text/css\">\n",
       "</style>\n",
       "<table id=\"T_5758c\">\n",
       "  <thead>\n",
       "    <tr>\n",
       "      <th class=\"blank level0\" >&nbsp;</th>\n",
       "      <th id=\"T_5758c_level0_col0\" class=\"col_heading level0 col0\" >Silhouette</th>\n",
       "      <th id=\"T_5758c_level0_col1\" class=\"col_heading level0 col1\" >Calinski-Harabasz</th>\n",
       "      <th id=\"T_5758c_level0_col2\" class=\"col_heading level0 col2\" >Davies-Bouldin</th>\n",
       "      <th id=\"T_5758c_level0_col3\" class=\"col_heading level0 col3\" >Homogeneity</th>\n",
       "      <th id=\"T_5758c_level0_col4\" class=\"col_heading level0 col4\" >Rand Index</th>\n",
       "      <th id=\"T_5758c_level0_col5\" class=\"col_heading level0 col5\" >Completeness</th>\n",
       "    </tr>\n",
       "  </thead>\n",
       "  <tbody>\n",
       "    <tr>\n",
       "      <th id=\"T_5758c_level0_row0\" class=\"row_heading level0 row0\" >0</th>\n",
       "      <td id=\"T_5758c_row0_col0\" class=\"data row0 col0\" >0.3568</td>\n",
       "      <td id=\"T_5758c_row0_col1\" class=\"data row0 col1\" >139.3494</td>\n",
       "      <td id=\"T_5758c_row0_col2\" class=\"data row0 col2\" >1.1736</td>\n",
       "      <td id=\"T_5758c_row0_col3\" class=\"data row0 col3\" >0</td>\n",
       "      <td id=\"T_5758c_row0_col4\" class=\"data row0 col4\" >0</td>\n",
       "      <td id=\"T_5758c_row0_col5\" class=\"data row0 col5\" >0</td>\n",
       "    </tr>\n",
       "  </tbody>\n",
       "</table>\n"
      ],
      "text/plain": [
       "<pandas.io.formats.style.Styler at 0x1456e3c70>"
      ]
     },
     "metadata": {},
     "output_type": "display_data"
    },
    {
     "data": {
      "text/html": [],
      "text/plain": [
       "<IPython.core.display.HTML object>"
      ]
     },
     "metadata": {},
     "output_type": "display_data"
    },
    {
     "data": {
      "text/html": [],
      "text/plain": [
       "<IPython.core.display.HTML object>"
      ]
     },
     "metadata": {},
     "output_type": "display_data"
    },
    {
     "data": {
      "text/html": [
       "<style type=\"text/css\">\n",
       "</style>\n",
       "<table id=\"T_01f98\">\n",
       "  <thead>\n",
       "    <tr>\n",
       "      <th class=\"blank level0\" >&nbsp;</th>\n",
       "      <th id=\"T_01f98_level0_col0\" class=\"col_heading level0 col0\" >Silhouette</th>\n",
       "      <th id=\"T_01f98_level0_col1\" class=\"col_heading level0 col1\" >Calinski-Harabasz</th>\n",
       "      <th id=\"T_01f98_level0_col2\" class=\"col_heading level0 col2\" >Davies-Bouldin</th>\n",
       "      <th id=\"T_01f98_level0_col3\" class=\"col_heading level0 col3\" >Homogeneity</th>\n",
       "      <th id=\"T_01f98_level0_col4\" class=\"col_heading level0 col4\" >Rand Index</th>\n",
       "      <th id=\"T_01f98_level0_col5\" class=\"col_heading level0 col5\" >Completeness</th>\n",
       "    </tr>\n",
       "  </thead>\n",
       "  <tbody>\n",
       "    <tr>\n",
       "      <th id=\"T_01f98_level0_row0\" class=\"row_heading level0 row0\" >0</th>\n",
       "      <td id=\"T_01f98_row0_col0\" class=\"data row0 col0\" >0.3482</td>\n",
       "      <td id=\"T_01f98_row0_col1\" class=\"data row0 col1\" >130.9179</td>\n",
       "      <td id=\"T_01f98_row0_col2\" class=\"data row0 col2\" >1.2359</td>\n",
       "      <td id=\"T_01f98_row0_col3\" class=\"data row0 col3\" >0</td>\n",
       "      <td id=\"T_01f98_row0_col4\" class=\"data row0 col4\" >0</td>\n",
       "      <td id=\"T_01f98_row0_col5\" class=\"data row0 col5\" >0</td>\n",
       "    </tr>\n",
       "  </tbody>\n",
       "</table>\n"
      ],
      "text/plain": [
       "<pandas.io.formats.style.Styler at 0x14563cdf0>"
      ]
     },
     "metadata": {},
     "output_type": "display_data"
    },
    {
     "data": {
      "text/html": [],
      "text/plain": [
       "<IPython.core.display.HTML object>"
      ]
     },
     "metadata": {},
     "output_type": "display_data"
    },
    {
     "data": {
      "text/html": [],
      "text/plain": [
       "<IPython.core.display.HTML object>"
      ]
     },
     "metadata": {},
     "output_type": "display_data"
    },
    {
     "data": {
      "text/html": [
       "<style type=\"text/css\">\n",
       "</style>\n",
       "<table id=\"T_ff21b\">\n",
       "  <thead>\n",
       "    <tr>\n",
       "      <th class=\"blank level0\" >&nbsp;</th>\n",
       "      <th id=\"T_ff21b_level0_col0\" class=\"col_heading level0 col0\" >Silhouette</th>\n",
       "      <th id=\"T_ff21b_level0_col1\" class=\"col_heading level0 col1\" >Calinski-Harabasz</th>\n",
       "      <th id=\"T_ff21b_level0_col2\" class=\"col_heading level0 col2\" >Davies-Bouldin</th>\n",
       "      <th id=\"T_ff21b_level0_col3\" class=\"col_heading level0 col3\" >Homogeneity</th>\n",
       "      <th id=\"T_ff21b_level0_col4\" class=\"col_heading level0 col4\" >Rand Index</th>\n",
       "      <th id=\"T_ff21b_level0_col5\" class=\"col_heading level0 col5\" >Completeness</th>\n",
       "    </tr>\n",
       "  </thead>\n",
       "  <tbody>\n",
       "    <tr>\n",
       "      <th id=\"T_ff21b_level0_row0\" class=\"row_heading level0 row0\" >0</th>\n",
       "      <td id=\"T_ff21b_row0_col0\" class=\"data row0 col0\" >0.3570</td>\n",
       "      <td id=\"T_ff21b_row0_col1\" class=\"data row0 col1\" >135.4684</td>\n",
       "      <td id=\"T_ff21b_row0_col2\" class=\"data row0 col2\" >1.1515</td>\n",
       "      <td id=\"T_ff21b_row0_col3\" class=\"data row0 col3\" >0</td>\n",
       "      <td id=\"T_ff21b_row0_col4\" class=\"data row0 col4\" >0</td>\n",
       "      <td id=\"T_ff21b_row0_col5\" class=\"data row0 col5\" >0</td>\n",
       "    </tr>\n",
       "  </tbody>\n",
       "</table>\n"
      ],
      "text/plain": [
       "<pandas.io.formats.style.Styler at 0x141aeed90>"
      ]
     },
     "metadata": {},
     "output_type": "display_data"
    },
    {
     "data": {
      "text/html": [],
      "text/plain": [
       "<IPython.core.display.HTML object>"
      ]
     },
     "metadata": {},
     "output_type": "display_data"
    },
    {
     "name": "stdout",
     "output_type": "stream",
     "text": [
      "\n",
      "============================================================\n",
      "Clustering Quality Metrics Explained:\n",
      "============================================================\n",
      "\n",
      "- Silhouette Score (0-1): How well separated clusters are\n",
      "  Higher is better. >0.5 is good, >0.7 is excellent\n",
      "\n",
      "- Calinski-Harabasz: Between vs within cluster variance\n",
      "  Higher is better. Indicates dense, well-separated clusters\n",
      "\n",
      "- Davies-Bouldin: Average similarity between clusters\n",
      "  Lower is better. Measures cluster separation\n",
      "\n",
      "Note: We'll use Silhouette and Elbow method to choose optimal K\n"
     ]
    }
   ],
   "source": [
    "print(\"=\" * 60)\n",
    "print(\"COMPARING CLUSTERING ALGORITHMS\")\n",
    "print(\"=\" * 60)\n",
    "print(\"\\nTesting different algorithms to find best customer segmentation...\\n\")\n",
    "\n",
    "# Create KMeans with different K values\n",
    "print(\"Testing KMeans with K=3, 4, 5...\")\n",
    "kmeans_3 = create_model('kmeans', num_clusters=3)\n",
    "kmeans_4 = create_model('kmeans', num_clusters=4)\n",
    "kmeans_5 = create_model('kmeans', num_clusters=5)\n",
    "\n",
    "print(\"\\n\" + \"=\" * 60)\n",
    "print(\"Clustering Quality Metrics Explained:\")\n",
    "print(\"=\" * 60)\n",
    "print(\"\\n- Silhouette Score (0-1): How well separated clusters are\")\n",
    "print(\"  Higher is better. >0.5 is good, >0.7 is excellent\")\n",
    "print(\"\\n- Calinski-Harabasz: Between vs within cluster variance\")\n",
    "print(\"  Higher is better. Indicates dense, well-separated clusters\")\n",
    "print(\"\\n- Davies-Bouldin: Average similarity between clusters\")\n",
    "print(\"  Lower is better. Measures cluster separation\")\n",
    "\n",
    "print(\"\\nNote: We'll use Silhouette and Elbow method to choose optimal K\")"
   ]
  },
  {
   "cell_type": "markdown",
   "metadata": {},
   "source": [
    "---\n",
    "\n",
    "## Cell 8: Elbow Method for Optimal K\n",
    "\n",
    "### What\n",
    "Using the Elbow Method to determine the optimal number of customer segments.\n",
    "\n",
    "### Why\n",
    "The Elbow Method helps find optimal K:\n",
    "- Plots within-cluster sum of squares (WCSS) vs K\n",
    "- Look for the \"elbow\" - point where adding clusters provides diminishing returns\n",
    "- Balance between simplicity (few clusters) and detail (many clusters)\n",
    "\n",
    "### Technical Details\n",
    "**WCSS** (Within-Cluster Sum of Squares):\n",
    "- Measures how compact clusters are\n",
    "- Always decreases as K increases\n",
    "- Elbow = point where decrease slows significantly\n",
    "\n",
    "### Expected Output\n",
    "Elbow plot showing optimal number of clusters (typically 3-5 for this dataset)."
   ]
  },
  {
   "cell_type": "code",
   "execution_count": 8,
   "metadata": {},
   "outputs": [
    {
     "name": "stdout",
     "output_type": "stream",
     "text": [
      "============================================================\n",
      "ELBOW METHOD - FINDING OPTIMAL NUMBER OF CLUSTERS\n",
      "============================================================\n"
     ]
    },
    {
     "data": {
      "text/html": [],
      "text/plain": [
       "<IPython.core.display.HTML object>"
      ]
     },
     "metadata": {},
     "output_type": "display_data"
    },
    {
     "data": {
      "image/png": "[encoded data removed]",
      "text/plain": [
       "<Figure size 800x550 with 1 Axes>"
      ]
     },
     "metadata": {},
     "output_type": "display_data"
    },
    {
     "name": "stdout",
     "output_type": "stream",
     "text": [
      "\n",
      "============================================================\n",
      "HOW TO READ THE ELBOW PLOT\n",
      "============================================================\n",
      "\n",
      "1. Look for the 'elbow' - point where line starts to flatten\n",
      "2. This is where adding more clusters gives diminishing returns\n",
      "3. Balance model complexity with interpretability\n",
      "\n",
      "For business segmentation: 3-5 clusters typically optimal\n",
      "- Too few: Lose important distinctions\n",
      "- Too many: Hard to create targeted strategies\n"
     ]
    }
   ],
   "source": [
    "print(\"=\" * 60)\n",
    "print(\"ELBOW METHOD - FINDING OPTIMAL NUMBER OF CLUSTERS\")\n",
    "print(\"=\" * 60)\n",
    "\n",
    "# PyCaret's elbow plot\n",
    "plot_model(kmeans_4, plot='elbow')\n",
    "\n",
    "print(\"\\n\" + \"=\" * 60)\n",
    "print(\"HOW TO READ THE ELBOW PLOT\")\n",
    "print(\"=\" * 60)\n",
    "print(\"\\n1. Look for the 'elbow' - point where line starts to flatten\")\n",
    "print(\"2. This is where adding more clusters gives diminishing returns\")\n",
    "print(\"3. Balance model complexity with interpretability\")\n",
    "print(\"\\nFor business segmentation: 3-5 clusters typically optimal\")\n",
    "print(\"- Too few: Lose important distinctions\")\n",
    "print(\"- Too many: Hard to create targeted strategies\")"
   ]
  },
  {
   "cell_type": "markdown",
   "metadata": {},
   "source": [
    "---\n",
    "\n",
    "## Cell 9: Silhouette Analysis\n",
    "\n",
    "### What\n",
    "Analyzing the Silhouette Score to validate cluster quality.\n",
    "\n",
    "### Why\n",
    "Silhouette analysis shows:\n",
    "- How well each customer fits their cluster\n",
    "- Whether clusters are well-separated\n",
    "- If any customers are in the wrong cluster\n",
    "\n",
    "### Technical Details\n",
    "**Silhouette Score** for each point measures:\n",
    "- Distance to own cluster vs distance to nearest other cluster\n",
    "- Score close to +1: Well clustered\n",
    "- Score close to 0: On cluster boundary\n",
    "- Score close to -1: Probably in wrong cluster\n",
    "\n",
    "### Expected Output\n",
    "Silhouette plot showing cluster quality."
   ]
  },
  {
   "cell_type": "code",
   "execution_count": 9,
   "metadata": {},
   "outputs": [
    {
     "name": "stdout",
     "output_type": "stream",
     "text": [
      "============================================================\n",
      "SILHOUETTE ANALYSIS\n",
      "============================================================\n",
      "\n",
      "Analyzing cluster separation quality...\n",
      "\n"
     ]
    },
    {
     "data": {
      "text/html": [],
      "text/plain": [
       "<IPython.core.display.HTML object>"
      ]
     },
     "metadata": {},
     "output_type": "display_data"
    },
    {
     "data": {
      "image/png": "[encoded data removed]",
      "text/plain": [
       "<Figure size 800x550 with 1 Axes>"
      ]
     },
     "metadata": {},
     "output_type": "display_data"
    },
    {
     "name": "stdout",
     "output_type": "stream",
     "text": [
      "\n",
      "============================================================\n",
      "INTERPRETING SILHOUETTE PLOT\n",
      "============================================================\n",
      "\n",
      "- Each horizontal bar represents one cluster\n",
      "- Width shows how many customers in that cluster\n",
      "- Thickness at different x-values shows silhouette scores\n",
      "\n",
      "Ideal characteristics:\n",
      "- All bars extend well past the average line (red dashed)\n",
      "- Bars have similar thickness (balanced cluster sizes)\n",
      "- Few or no bars below 0 (no misclassified customers)\n"
     ]
    }
   ],
   "source": [
    "print(\"=\" * 60)\n",
    "print(\"SILHOUETTE ANALYSIS\")\n",
    "print(\"=\" * 60)\n",
    "print(\"\\nAnalyzing cluster separation quality...\\n\")\n",
    "\n",
    "# Silhouette plot\n",
    "plot_model(kmeans_4, plot='silhouette')\n",
    "\n",
    "print(\"\\n\" + \"=\" * 60)\n",
    "print(\"INTERPRETING SILHOUETTE PLOT\")\n",
    "print(\"=\" * 60)\n",
    "print(\"\\n- Each horizontal bar represents one cluster\")\n",
    "print(\"- Width shows how many customers in that cluster\")\n",
    "print(\"- Thickness at different x-values shows silhouette scores\")\n",
    "print(\"\\nIdeal characteristics:\")\n",
    "print(\"- All bars extend well past the average line (red dashed)\")\n",
    "print(\"- Bars have similar thickness (balanced cluster sizes)\")\n",
    "print(\"- Few or no bars below 0 (no misclassified customers)\")"
   ]
  },
  {
   "cell_type": "markdown",
   "metadata": {},
   "source": [
    "---\n",
    "\n",
    "## Cell 10: Assign Customers to Clusters\n",
    "\n",
    "### What\n",
    "Assigning each customer to their optimal cluster and adding cluster labels to our dataset.\n",
    "\n",
    "### Why\n",
    "Once we have good clusters, we need to:\n",
    "- Assign each customer to a cluster\n",
    "- Analyze what makes each cluster unique\n",
    "- Create actionable business segments\n",
    "\n",
    "### Technical Details\n",
    "`assign_model()` adds a 'Cluster' column showing which segment each customer belongs to.\n",
    "\n",
    "### Expected Output\n",
    "Original dataset with added 'Cluster' column showing segment membership."
   ]
  },
  {
   "cell_type": "code",
   "execution_count": 10,
   "metadata": {},
   "outputs": [
    {
     "name": "stdout",
     "output_type": "stream",
     "text": [
      "============================================================\n",
      "ASSIGNING CUSTOMERS TO SEGMENTS\n",
      "============================================================\n",
      "\n",
      "✓ All 440 customers assigned to clusters!\n",
      "\n",
      "Customers per Cluster:\n",
      "Cluster\n",
      "Cluster 0    126\n",
      "Cluster 1    209\n",
      "Cluster 2     13\n",
      "Cluster 3     92\n",
      "Name: count, dtype: int64\n",
      "\n",
      "Sample of clustered data:\n"
     ]
    },
    {
     "data": {
      "text/html": [
       "<div>\n",
       "<style scoped>\n",
       "    .dataframe tbody tr th:only-of-type {\n",
       "        vertical-align: middle;\n",
       "    }\n",
       "\n",
       "    .dataframe tbody tr th {\n",
       "        vertical-align: top;\n",
       "    }\n",
       "\n",
       "    .dataframe thead th {\n",
       "        text-align: right;\n",
       "    }\n",
       "</style>\n",
       "<table border=\"1\" class=\"dataframe\">\n",
       "  <thead>\n",
       "    <tr style=\"text-align: right;\">\n",
       "      <th></th>\n",
       "      <th>Fresh</th>\n",
       "      <th>Milk</th>\n",
       "      <th>Grocery</th>\n",
       "      <th>Frozen</th>\n",
       "      <th>Cluster</th>\n",
       "    </tr>\n",
       "  </thead>\n",
       "  <tbody>\n",
       "    <tr>\n",
       "      <th>0</th>\n",
       "      <td>12669</td>\n",
       "      <td>9656</td>\n",
       "      <td>7561</td>\n",
       "      <td>214</td>\n",
       "      <td>Cluster 0</td>\n",
       "    </tr>\n",
       "    <tr>\n",
       "      <th>1</th>\n",
       "      <td>7057</td>\n",
       "      <td>9810</td>\n",
       "      <td>9568</td>\n",
       "      <td>1762</td>\n",
       "      <td>Cluster 0</td>\n",
       "    </tr>\n",
       "    <tr>\n",
       "      <th>2</th>\n",
       "      <td>6353</td>\n",
       "      <td>8808</td>\n",
       "      <td>7684</td>\n",
       "      <td>2405</td>\n",
       "      <td>Cluster 0</td>\n",
       "    </tr>\n",
       "    <tr>\n",
       "      <th>3</th>\n",
       "      <td>13265</td>\n",
       "      <td>1196</td>\n",
       "      <td>4221</td>\n",
       "      <td>6404</td>\n",
       "      <td>Cluster 1</td>\n",
       "    </tr>\n",
       "    <tr>\n",
       "      <th>4</th>\n",
       "      <td>22615</td>\n",
       "      <td>5410</td>\n",
       "      <td>7198</td>\n",
       "      <td>3915</td>\n",
       "      <td>Cluster 0</td>\n",
       "    </tr>\n",
       "    <tr>\n",
       "      <th>5</th>\n",
       "      <td>9413</td>\n",
       "      <td>8259</td>\n",
       "      <td>5126</td>\n",
       "      <td>666</td>\n",
       "      <td>Cluster 0</td>\n",
       "    </tr>\n",
       "    <tr>\n",
       "      <th>6</th>\n",
       "      <td>12126</td>\n",
       "      <td>3199</td>\n",
       "      <td>6975</td>\n",
       "      <td>480</td>\n",
       "      <td>Cluster 0</td>\n",
       "    </tr>\n",
       "    <tr>\n",
       "      <th>7</th>\n",
       "      <td>7579</td>\n",
       "      <td>4956</td>\n",
       "      <td>9426</td>\n",
       "      <td>1669</td>\n",
       "      <td>Cluster 0</td>\n",
       "    </tr>\n",
       "    <tr>\n",
       "      <th>8</th>\n",
       "      <td>5963</td>\n",
       "      <td>3648</td>\n",
       "      <td>6192</td>\n",
       "      <td>425</td>\n",
       "      <td>Cluster 1</td>\n",
       "    </tr>\n",
       "    <tr>\n",
       "      <th>9</th>\n",
       "      <td>6006</td>\n",
       "      <td>11093</td>\n",
       "      <td>18881</td>\n",
       "      <td>1159</td>\n",
       "      <td>Cluster 0</td>\n",
       "    </tr>\n",
       "  </tbody>\n",
       "</table>\n",
       "</div>"
      ],
      "text/plain": [
       "   Fresh   Milk  Grocery  Frozen    Cluster\n",
       "0  12669   9656     7561     214  Cluster 0\n",
       "1   7057   9810     9568    1762  Cluster 0\n",
       "2   6353   8808     7684    2405  Cluster 0\n",
       "3  13265   1196     4221    6404  Cluster 1\n",
       "4  22615   5410     7198    3915  Cluster 0\n",
       "5   9413   8259     5126     666  Cluster 0\n",
       "6  12126   3199     6975     480  Cluster 0\n",
       "7   7579   4956     9426    1669  Cluster 0\n",
       "8   5963   3648     6192     425  Cluster 1\n",
       "9   6006  11093    18881    1159  Cluster 0"
      ]
     },
     "metadata": {},
     "output_type": "display_data"
    },
    {
     "name": "stdout",
     "output_type": "stream",
     "text": [
      "\n",
      "============================================================\n",
      "Next: Profile each cluster to understand customer segments!\n",
      "============================================================\n"
     ]
    }
   ],
   "source": [
    "print(\"=\" * 60)\n",
    "print(\"ASSIGNING CUSTOMERS TO SEGMENTS\")\n",
    "print(\"=\" * 60)\n",
    "\n",
    "# Assign clusters (using 4 clusters based on elbow method)\n",
    "clustered_df = assign_model(kmeans_4)\n",
    "\n",
    "print(f\"\\n✓ All {len(clustered_df)} customers assigned to clusters!\")\n",
    "print(\"\\nCustomers per Cluster:\")\n",
    "print(clustered_df['Cluster'].value_counts().sort_index())\n",
    "\n",
    "print(\"\\nSample of clustered data:\")\n",
    "display(clustered_df[['Fresh', 'Milk', 'Grocery', 'Frozen', 'Cluster']].head(10))\n",
    "\n",
    "print(\"\\n\" + \"=\" * 60)\n",
    "print(\"Next: Profile each cluster to understand customer segments!\")\n",
    "print(\"=\" * 60)"
   ]
  },
  {
   "cell_type": "markdown",
   "metadata": {},
   "source": [
    "---\n",
    "\n",
    "## Cell 11: Cluster Profiling - Understanding Each Segment\n",
    "\n",
    "### What\n",
    "Analyzing the characteristics of each customer segment by examining average spending patterns.\n",
    "\n",
    "### Why\n",
    "This is where clustering becomes actionable:\n",
    "- **What defines each segment?** High grocery vs high fresh spending?\n",
    "- **Business naming**: \"Restaurant Customers\", \"Retail Stores\", etc.\n",
    "- **Targeted strategies**: Different marketing for each segment\n",
    "\n",
    "### Technical Details\n",
    "We'll calculate mean spending per cluster across all 6 product categories.\n",
    "\n",
    "### Expected Output\n",
    "Table and visualizations showing average spending profile for each segment."
   ]
  },
  {
   "cell_type": "code",
   "execution_count": 11,
   "metadata": {},
   "outputs": [
    {
     "name": "stdout",
     "output_type": "stream",
     "text": [
      "============================================================\n",
      "CLUSTER PROFILING - UNDERSTANDING CUSTOMER SEGMENTS\n",
      "============================================================\n",
      "\n",
      "Average Spending by Cluster:\n"
     ]
    },
    {
     "data": {
      "text/html": [
       "<div>\n",
       "<style scoped>\n",
       "    .dataframe tbody tr th:only-of-type {\n",
       "        vertical-align: middle;\n",
       "    }\n",
       "\n",
       "    .dataframe tbody tr th {\n",
       "        vertical-align: top;\n",
       "    }\n",
       "\n",
       "    .dataframe thead th {\n",
       "        text-align: right;\n",
       "    }\n",
       "</style>\n",
       "<table border=\"1\" class=\"dataframe\">\n",
       "  <thead>\n",
       "    <tr style=\"text-align: right;\">\n",
       "      <th></th>\n",
       "      <th>Fresh</th>\n",
       "      <th>Milk</th>\n",
       "      <th>Grocery</th>\n",
       "      <th>Frozen</th>\n",
       "      <th>Detergents_Paper</th>\n",
       "      <th>Delicassen</th>\n",
       "    </tr>\n",
       "    <tr>\n",
       "      <th>Cluster</th>\n",
       "      <th></th>\n",
       "      <th></th>\n",
       "      <th></th>\n",
       "      <th></th>\n",
       "      <th></th>\n",
       "      <th></th>\n",
       "    </tr>\n",
       "  </thead>\n",
       "  <tbody>\n",
       "    <tr>\n",
       "      <th>Cluster 0</th>\n",
       "      <td>8130.0</td>\n",
       "      <td>8874.0</td>\n",
       "      <td>14139.0</td>\n",
       "      <td>1339.0</td>\n",
       "      <td>6105.0</td>\n",
       "      <td>1543.0</td>\n",
       "    </tr>\n",
       "    <tr>\n",
       "      <th>Cluster 1</th>\n",
       "      <td>13298.0</td>\n",
       "      <td>3168.0</td>\n",
       "      <td>3741.0</td>\n",
       "      <td>3437.0</td>\n",
       "      <td>769.0</td>\n",
       "      <td>1263.0</td>\n",
       "    </tr>\n",
       "    <tr>\n",
       "      <th>Cluster 2</th>\n",
       "      <td>25771.0</td>\n",
       "      <td>35160.0</td>\n",
       "      <td>41977.0</td>\n",
       "      <td>6845.0</td>\n",
       "      <td>19867.0</td>\n",
       "      <td>7880.0</td>\n",
       "    </tr>\n",
       "    <tr>\n",
       "      <th>Cluster 3</th>\n",
       "      <td>12407.0</td>\n",
       "      <td>3402.0</td>\n",
       "      <td>4234.0</td>\n",
       "      <td>4082.0</td>\n",
       "      <td>865.0</td>\n",
       "      <td>1198.0</td>\n",
       "    </tr>\n",
       "  </tbody>\n",
       "</table>\n",
       "</div>"
      ],
      "text/plain": [
       "             Fresh     Milk  Grocery  Frozen  Detergents_Paper  Delicassen\n",
       "Cluster                                                                   \n",
       "Cluster 0   8130.0   8874.0  14139.0  1339.0            6105.0      1543.0\n",
       "Cluster 1  13298.0   3168.0   3741.0  3437.0             769.0      1263.0\n",
       "Cluster 2  25771.0  35160.0  41977.0  6845.0           19867.0      7880.0\n",
       "Cluster 3  12407.0   3402.0   4234.0  4082.0             865.0      1198.0"
      ]
     },
     "metadata": {},
     "output_type": "display_data"
    },
    {
     "data": {
      "image/png": "[encoded data removed]",
      "text/plain": [
       "<Figure size 1400x800 with 1 Axes>"
      ]
     },
     "metadata": {},
     "output_type": "display_data"
    },
    {
     "name": "stdout",
     "output_type": "stream",
     "text": [
      "\n",
      "============================================================\n",
      "SEGMENT INTERPRETATION (Example)\n",
      "============================================================\n",
      "\n",
      "Cluster Cluster 0: (126 customers)\n",
      "  Highest spending: Grocery ($14,139)\n",
      "  Profile: Likely RETAIL STORES (Household goods focus)\n",
      "\n",
      "Cluster Cluster 1: (209 customers)\n",
      "  Highest spending: Fresh ($13,298)\n",
      "  Profile: Likely RESTAURANTS/CAFES (Fresh food focus)\n",
      "\n",
      "Cluster Cluster 2: (13 customers)\n",
      "  Highest spending: Grocery ($41,977)\n",
      "  Profile: Likely RETAIL STORES (Household goods focus)\n",
      "\n",
      "Cluster Cluster 3: (92 customers)\n",
      "  Highest spending: Fresh ($12,407)\n",
      "  Profile: Likely RESTAURANTS/CAFES (Fresh food focus)\n",
      "\n",
      "============================================================\n",
      "Use these insights to tailor marketing and inventory!\n",
      "============================================================\n"
     ]
    }
   ],
   "source": [
    "print(\"=\" * 60)\n",
    "print(\"CLUSTER PROFILING - UNDERSTANDING CUSTOMER SEGMENTS\")\n",
    "print(\"=\" * 60)\n",
    "\n",
    "# Calculate mean spending per cluster\n",
    "cluster_profiles = clustered_df.groupby('Cluster')[spending_cols].mean()\n",
    "\n",
    "print(\"\\nAverage Spending by Cluster:\")\n",
    "display(cluster_profiles.round(0))\n",
    "\n",
    "# Visualization\n",
    "cluster_profiles_T = cluster_profiles.T\n",
    "\n",
    "fig, ax = plt.subplots(figsize=(14, 8))\n",
    "cluster_profiles_T.plot(kind='bar', ax=ax, width=0.8)\n",
    "ax.set_title('Average Spending by Customer Segment', fontsize=16, fontweight='bold')\n",
    "ax.set_xlabel('Product Category', fontsize=12)\n",
    "ax.set_ylabel('Average Spending (Monetary Units)', fontsize=12)\n",
    "ax.legend(title='Cluster', title_fontsize=12, fontsize=10)\n",
    "ax.tick_params(axis='x', rotation=45)\n",
    "plt.tight_layout()\n",
    "plt.show()\n",
    "\n",
    "print(\"\\n\" + \"=\" * 60)\n",
    "print(\"SEGMENT INTERPRETATION (Example)\")\n",
    "print(\"=\" * 60)\n",
    "\n",
    "# Identify cluster characteristics\n",
    "for cluster_id in sorted(clustered_df['Cluster'].unique()):\n",
    "    profile = cluster_profiles.loc[cluster_id]\n",
    "    top_category = profile.idxmax()\n",
    "    top_spending = profile.max()\n",
    "    size = len(clustered_df[clustered_df['Cluster'] == cluster_id])\n",
    "    \n",
    "    print(f\"\\nCluster {cluster_id}: ({size} customers)\")\n",
    "    print(f\"  Highest spending: {top_category} (${top_spending:,.0f})\")\n",
    "    print(f\"  Profile: \", end=\"\")\n",
    "    \n",
    "    # Simple characterization\n",
    "    if top_category in ['Fresh', 'Frozen']:\n",
    "        print(\"Likely RESTAURANTS/CAFES (Fresh food focus)\")\n",
    "    elif top_category in ['Grocery', 'Milk', 'Detergents_Paper']:\n",
    "        print(\"Likely RETAIL STORES (Household goods focus)\")\n",
    "    else:\n",
    "        print(\"SPECIALIZED customer type\")\n",
    "\n",
    "print(\"\\n\" + \"=\" * 60)\n",
    "print(\"Use these insights to tailor marketing and inventory!\")\n",
    "print(\"=\" * 60)"
   ]
  },
  {
   "cell_type": "markdown",
   "metadata": {},
   "source": [
    "---\n",
    "\n",
    "## Cell 12: Cluster Visualization with PCA\n",
    "\n",
    "### What\n",
    "Visualizing clusters in 2D space using Principal Component Analysis (PCA).\n",
    "\n",
    "### Why\n",
    "We have 6 spending dimensions - impossible to visualize directly!\n",
    "PCA reduces to 2D while preserving cluster structure:\n",
    "- See if clusters are well-separated\n",
    "- Identify overlapping segments\n",
    "- Visualize cluster shapes\n",
    "\n",
    "### Technical Details\n",
    "PCA projects 6D data onto 2D plane:\n",
    "- PC1 and PC2 capture maximum variance\n",
    "- Clusters that separate in 6D should separate in 2D\n",
    "\n",
    "### Expected Output\n",
    "2D scatter plot showing clusters in reduced dimensional space."
   ]
  },
  {
   "cell_type": "code",
   "execution_count": 12,
   "metadata": {},
   "outputs": [
    {
     "name": "stdout",
     "output_type": "stream",
     "text": [
      "============================================================\n",
      "2D CLUSTER VISUALIZATION (PCA)\n",
      "============================================================\n",
      "\n",
      "Reducing 6 dimensions to 2 for visualization...\n",
      "\n"
     ]
    },
    {
     "data": {
      "text/html": [],
      "text/plain": [
       "<IPython.core.display.HTML object>"
      ]
     },
     "metadata": {},
     "output_type": "display_data"
    },
    {
     "data": {
      "application/vnd.plotly.v1+json": {
       "config": {
        "plotlyServerURL": "https://plot.ly"
       },
       "data": [
        {
         "customdata": {
          "bdata": "AgICAgICAgICAgICAgICAgICAgICAgICAgICAgICAgICAgICAgICAgICAgICAgICAgICAgICAgICAgICAgICAgICAgICAgICAgICAgICAgICAgICAgICAgICAgICAgICAgICAgICAgICAgICAgICAgICAgICAgICAgICAgIC",
          "dtype": "i1",
          "shape": "126, 1"
         },
         "hovertemplate": "Cluster=Cluster 0<br>PCA1=%{x}<br>PCA2=%{y}<br>Feature=%{customdata[0]}<extra></extra>",
         "legendgroup": "Cluster 0",
         "marker": {
          "color": "#636efa",
          "opacity": 0.5,
          "symbol": "circle"
         },
         "mode": "markers",
         "name": "Cluster 0",
         "orientation": "v",
         "showlegend": true,
         "textposition": "top center",
         "type": "scatter",
         "x": {
          "bdata": "KPEjNowB6z//fumktVQHQBBBFwzuLAdAkWo2PHyn8T88kQZ3qHAMQFp8qwtrsfg/yXW2VcSbCEAKLrXNWD7yPxMCgp1YHPI/e1C5Zfhh7z9PIJHzv9wHQJ3fh2i6DAVAYgr6Gf6t+D9LNJwlPLELQPA43MYvL+4/DMScvevY+j+ELs77m40AQCe+HRZ4mvg/1bUfsMqe7D/8n7bWM5vuPxN8VjlqqvI/xfO0IRdb1T/7Zd6+Aej2PyvR7lepduA/IItDE+R3+j/5q2eG/nT+P8/FXxpAkes/WgfWIuQ28D8XxgoyzW/dP7aC/tkHHABATCDBw1NJ5z8+WDmMBdP+P6NCFog8QPU/6SiayPv14z9ajiWYwXK1P5CBjOEskuo/k8S4zFwS9T9RtHxBXOj7Pxm34Mvw6Po/ejm3ybrrC0ASnlUNXU32PzJtzpV2ifc/F6XGR9JM7z+plphv22LjP0M4zAizNwVAZOfjtt67CkBH7mY9h0frPwo4wBhtMwRALyHI2IpjBEAoAiTR6cn7Pxu1flcYCP8/o6pXVrvE+T+SW+W+hT/yP1gdaPYmTPs/uXoWT90MEEDREsDGNoL1P2NuqpeuVvg/mo0uIdRJsz9lenqlE6zbP3HmS66RGuo/wufY5MH8AUAVrRPVr0/yPxymGoYFbAJAVl97xvTkAkB2Gio/Qf/yP3W5XcX8y/g/F59plln3BECng6BuT3sMQJfrlgQScAFApuDolTig+D+s6bOFXubyP24N5q2EWvA/jeAzYm0GA0A/4571yKDhPy12lg3QEeo/pBmCCzrYBUCz9VSYr5nzPwaX9fnu/QFAx42R/cLt+T+e6ADi3OblP1HteYrRIPQ/ili1mepQ+D8tL+FNcx/hPz78Abg6v+s/zsc+YIk31T9Vo19pgkD5P0W8jRQMBPo/Ul5XiRHz4T+j8U5dU8MLQBDJYPx79OQ/bcrfmSyiwj/Eny/ho0btP/ohzwwxzeY/4dzM8M5l9j/TuJCf9sj4P/15T1l8t9M/KvZJ7jJv6T+Js56Eq934P3KZGIjwfgFA8noecavbCUCTtcwQ4QIQQAApTotFUvE/5tA1fuVJA0DwVcBiqlAJQP3V+dpCcO8/GQYVR72GBEDVL1maYIn/P4e4nqWzt9Y/keAd7TpU/T+D4NINjRj0P7JGeRRKlwFA69Uz4uyHxb9BvwxSpgn3P4BpBGnkgvY/y2HqnzpR6T/mDfYhZZLZP8qmeSGr9uA/+M9j+m9G1D+4XEk7mjQBQANqQ0z6SeQ/5fFIBbkA8T8FHxFJZk70P4S75lKoY/M/wXDnSNPrDkCAt6IoVmfmPwafsne9+/U/",
          "dtype": "f8"
         },
         "xaxis": "x",
         "y": {
          "bdata": "v13d2sB94L8LgpET97fmvyN32up2Suu/NaF8W9nLyz/rQBTN5Pm9P33QO7H/3uq/j6WDogSU97/UcQzGQm3sv+Ovq76MNfS/qSjIHBAbyD/P+1O6/yPjv+MAj7BIBfC/bw4hiW7L57/WnMBQP2vWv/aBE2ZKQuy/8/+fMoUz9r+KMFI4zzn1v97QMoYE8fm/9eECP/RbwD/yA9KETKfev/ve207PF9m/saiGpDGn67/FRx61DQfwvzNDhqPOove/YOpPZXv0rr9K6IM9IkHpv3nHwTCoFei/plTHVW9Q7r8PdPmsgtDyv6pZ0bDmi+C/IZHvV6E38L99HdtA6orev4F9hV/xrtO/v6SJV8TJST+FsVxLoUzpP5sEAujqaOC/FB92ouRr8b/4q76xAgj2v97xYHOHmdy/LNt8k0fm6r9hZ71kxQLsv6UMI/IuFfW/cpjbd4Vc8L8DzhWDBSjWv6ERNltb1ei/PFXK89NC5b+CUlFd8A/Pv2Zm4rdkAPS/beFtd3jB8b8EMqBxNWLqv6Kt4apgp+a/vRaPdK2K8784b8oxeczzv3HM+TadEfC/6OUVPela9L9W6sgr9Ybnv5nPDesXAPC/7Hpwjb2Q8r/Utpnxdtruv3O1Vtrpaeq/1FUa5wel0T9cLFJ6wIXcv5ft6WQzpem/ObXPxVpC5L8mCodGT4vyv0wS0vMk6vO/ZelBvyo5+r+Ya9H69o7PP6fLrVSGmPS/ucHWWlnH+L+LzkkGclzvv71XZk1qAPW/wSAimRrD7r8GFHncot7TvzhJbnuqGu+/Yga7GtIs8r/XrjOvkarVv+Cdw80IQe6/0xsXK+/Sxr+b/YGxlZnbv5O4FuZL8vG/qt6DySUo8L/zrt4A+gfyvyEohl+nN8w/N2OWmp3ayL+/paWvRcbuvwygbi/QMvA/svA3WnGt6b8CbQNa22C+P6XvObQ8hOW/kxmmz1nR3r+9rYY/tRr0vzBgQ+saotO/CaOjfwJk879v1Eo8+pzZvxVLE9Ohvt8/e1VRCCSz4b9SyPYT7x7tv2xcFAVrhe+/HrB/njsL5r9Xx3IOBWPkv/jnT38G6+S/y5jhNQpk5r87F+4+9VPRPyAaRKD31e6/by1Sxw8t9b+URBbSKjDavw+gWONJ0Ou/K+O9FRVA9L+fHZ6lAmbgv8fGwiPEiuO/tqaXJ54K5r9Kaw4tuXvjP4Kb8gNijcS/0D5oFFKD3b+G4puoPRXrv9qLp6awu+K/Gt2qF+hd4T/wDJqK88Xjv8ywUgmjLO8/kSw1/7QD37+A8eURZNPlP1FNIsCsn9W/TgZAhuy13r+2oBzNuNfhvyz9mYROibE/",
          "dtype": "f8"
         },
         "yaxis": "y"
        },
        {
         "customdata": {
          "bdata": "AQEBAQEBAQEBAQEBAQEBAQEBAQEBAQEBAQEBAQEBAQEBAQEBAQEBAQEBAQEBAQEBAQEBAQEBAQEBAQEBAQEBAQEBAQEBAQEBAQEBAQEBAQEBAQEBAQEBAQEBAQEBAQEBAQEBAQEBAQEBAQEBAQEBAQEBAQEBAQEBAQEBAQEBAQEBAQEBAQEBAQEBAQEBAQEBAQEBAQEBAQEBAQEBAQEBAQEBAQEBAQEBAQEBAQEBAQEBAQEBAQEBAQEBAQEBAQEBAQEBAQEBAQEBAQEBAQEBAQE=",
          "dtype": "i1",
          "shape": "209, 1"
         },
         "hovertemplate": "Cluster=Cluster 1<br>PCA1=%{x}<br>PCA2=%{y}<br>Feature=%{customdata[0]}<extra></extra>",
         "legendgroup": "Cluster 1",
         "marker": {
          "color": "#EF553B",
          "opacity": 0.5,
          "symbol": "circle"
         },
         "mode": "markers",
         "name": "Cluster 1",
         "orientation": "v",
         "showlegend": true,
         "textposition": "top center",
         "type": "scatter",
         "x": {
          "bdata": "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",
          "dtype": "f8"
         },
         "xaxis": "x",
         "y": {
          "bdata": "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",
          "dtype": "f8"
         },
         "yaxis": "y"
        },
        {
         "customdata": {
          "bdata": "AgICAgICAgICAQECAg==",
          "dtype": "i1",
          "shape": "13, 1"
         },
         "hovertemplate": "Cluster=Cluster 2<br>PCA1=%{x}<br>PCA2=%{y}<br>Feature=%{customdata[0]}<extra></extra>",
         "legendgroup": "Cluster 2",
         "marker": {
          "color": "#00cc96",
          "opacity": 0.5,
          "symbol": "circle"
         },
         "mode": "markers",
         "name": "Cluster 2",
         "orientation": "v",
         "showlegend": true,
         "textposition": "top center",
         "type": "scatter",
         "x": {
          "bdata": "JFS6Uk2XEUA6rMug4UAUQKqm56+M9iFAomsXhkuWE0CH1noQrH8gQIKOYx93ixhA0KcklVWUKED1larSsWcgQAd/6VTTzRZAwfk1ezp1AUDHxJSHDiUUQNOCsCAiehVAcx0w8AEkH0A=",
          "dtype": "f8"
         },
         "xaxis": "x",
         "y": {
          "bdata": "ufxQtXjXEECbzl0BFTbiP+rJhReHmgpAy2tD9YwA2r/SgB8wKinxP+oNPTETz/S/37kYY1/LV7/nhx10LKnzP682rbHHk9A/hJEHOAFdH0DMXy/HZlguQOdO8Tuled8/+O71JZi3/b8=",
          "dtype": "f8"
         },
         "yaxis": "y"
        },
        {
         "customdata": {
          "bdata": "AQEBAQEBAQEBAQEBAQEBAQEBAQEBAQEBAQEBAgEBAgEBAQIBAQEBAQEBAQEBAQEBAQEBAQEBAQEBAQEBAQEBAQIBAQEBAQEBAQEBAQEBAgEBAQEBAQEBAQEBAQE=",
          "dtype": "i1",
          "shape": "92, 1"
         },
         "hovertemplate": "Cluster=Cluster 3<br>PCA1=%{x}<br>PCA2=%{y}<br>Feature=%{customdata[0]}<extra></extra>",
         "legendgroup": "Cluster 3",
         "marker": {
          "color": "#ab63fa",
          "opacity": 0.5,
          "symbol": "circle"
         },
         "mode": "markers",
         "name": "Cluster 3",
         "orientation": "v",
         "showlegend": true,
         "textposition": "top center",
         "type": "scatter",
         "x": {
          "bdata": "JiByeBEp9r/cc/s7fmrxv2qhXlq1SfK/TclJ8ejxlj8Ndf6PUtPpP+M6JO2Qg/O/WroWl6mi978PoApsBdLvv6GkwPuqtPG/imNa2IYB9L/tNwUZFFDxvwt9d4hsxea/T/JBr7txBL9JZhoxJzL3vyTmu6Af5eu/7c1ac2eh7L8z+ixG8c/vv2pvj4RJkui/mYJKPe7l779TSKBjau32v769cyaSCPW/+kcSig9dyj9kktfay470v2nLTnVktfO/bLPEvxaM6r8KkhQEBXGOPysu3aH52/S/OqWvKkjvnL9VrDHsSAb2v4O768fhku+/8toyBxh14z8njEeejw30v/EDb/336u2/YHucheY28r9+BsP2LFfPP0cONXDKI9y/BhD+vcvM8r+MycPN/4Lvv6YKmeMHMPC/Ldzg/OhB6r9UZVYeIHT0v/5KGca/3vO/cPXArLp897/eH+isyebwv5IGM6R8oei/gG8dpBLszL/tN3U6HJfvP68Ff9uR2/O/YrbrfcMT6r/fEEAYFu3zv7RdJR7J2ei/2M6ez7RD8b+FN/jIt/PwvwXb/lpRePC/cDHS57hR8r8+aDFZJhrjv/LjiKB02vG/cJZJFZAy2D+ZYcfqzgz0v/+baGcC9vS/1I6TUIcm8r9sGcF7haL0v0K+3iFo4/C/vQhcHR+K8b8wD3L/3bjNv46Rq4OlvvS/aXqqRO2+87/3Xrk+0wD1v92Dl3nwIvC/YoZZb/gm7b9HLamG92fzv14E/TVeRPG/GBV7PUEn978nCKcVHtf2v3MIyQ3QYvC/VbMKL0RH4b/OdzPiWafzv2d48vmlweG/HRGcUqZL4z9n9wCk7Vf2vz4+9JPjyvG/GadoVQ4m9L81AkV3x4W4P+DDCuBhj/O/zhgS1WdC7r9hurIHmN3mvyc5jvL1Leu/hSn0/KIp8r9bu9GaHH/0v2Q9tijNJfK/n/rf124p9L+wZi/jHfH2vw==",
          "dtype": "f8"
         },
         "xaxis": "x",
         "y": {
          "bdata": "7mxQ2qNayb9ChEyK3m6/v7cRr8Sniew/TqdNW7b+0b+okYpU8ZTTv9/419p0cNu/mn4hYwSnzr8xDtwE1+HNvyY/+QJ3lq4/N8wS+b/u5L9/B1nFnS3ZP2DNBR0y3MK/qp8uecsj4T/22bM01CPkP5Ct3GxAd96/qQ8uxu/usr8dcFKV9fkEQOsHplTe1fk/Tsi/s1x44b9XRmGfR8WtP+IeT5YpJqM/gLqGUkGO7D/49gAnXePAP2ESo8435NU/P0tcNG37+j8EhA8VXt/pvxCbq4btqKI/ZIKdCWBr4L9ljaUZ9q3kv6uiIGwBZte/Q0IXrKjUxb9cnP/TSJvhv3H4jd2x1/C/apNn/bQw0D/cWi642jHZP7B00cZJ5uG/4NgO9+p8wz8/5/yRErXsv71MFnJn1OA/77teG6cf6L8CMrOX0nzfv9tRYY5i/d4/Z/WHX1oa5r9Nw7ZzNd/9P2W4xhG/CeG/lFX84+1Y4r8owcU4PNT5P1k3uq1dgte/hea5X5JJ0L8u4SLzZUnRvwtqgR0Rt+K/SoObq9tp1L8qjKWjRYbnv3KxmJrxH8W/nDodnhk1UL8CwDfE2K3Yvw57F9yHx+A/XC8d8x1EIkCU6izeNLHUvwyGVyWlu+2/edUGS+LQ6z/jqglxX86+P+R9KK5VdKm/6yaOUGo15D9suNquD2PzP66/DiSektK/7Dnxr7h73D8ncRGslAK7vwZQS8rzMOE/AW7LTb7N4D+3L45Xq5nkv5rc2GgQbes/4no/RzuPy7/y1hwFY+zRv5t/lbyz5+C/uVLBb/x/5b9PwWKgsbbOP7rdWaZoHOe/NpDZZJI18r8o31O8X83nvwIlnrPyDOW//0FEeFOb8b/WnQ/DJ4oAQFUIMg3fU+O/IespayPVub+SMchW6ZoIQNWMN+CD+80/9ujN+FMCyz+xKXQy8x3wv5b3SzQNT6i/gZb1g/Yx7j9toToS0UHmvw==",
          "dtype": "f8"
         },
         "yaxis": "y"
        }
       ],
       "layout": {
        "height": 600,
        "legend": {
         "title": {
          "text": "Cluster"
         },
         "tracegroupgap": 0
        },
        "margin": {
         "t": 60
        },
        "plot_bgcolor": "rgb(240,240,240)",
        "template": {
         "data": {
          "bar": [
           {
            "error_x": {
             "color": "#2a3f5f"
            },
            "error_y": {
             "color": "#2a3f5f"
            },
            "marker": {
             "line": {
              "color": "#E5ECF6",
              "width": 0.5
             },
             "pattern": {
              "fillmode": "overlay",
              "size": 10,
              "solidity": 0.2
             }
            },
            "type": "bar"
           }
          ],
          "barpolar": [
           {
            "marker": {
             "line": {
              "color": "#E5ECF6",
              "width": 0.5
             },
             "pattern": {
              "fillmode": "overlay",
              "size": 10,
              "solidity": 0.2
             }
            },
            "type": "barpolar"
           }
          ],
          "carpet": [
           {
            "aaxis": {
             "endlinecolor": "#2a3f5f",
             "gridcolor": "white",
             "linecolor": "white",
             "minorgridcolor": "white",
             "startlinecolor": "#2a3f5f"
            },
            "baxis": {
             "endlinecolor": "#2a3f5f",
             "gridcolor": "white",
             "linecolor": "white",
             "minorgridcolor": "white",
             "startlinecolor": "#2a3f5f"
            },
            "type": "carpet"
           }
          ],
          "choropleth": [
           {
            "colorbar": {
             "outlinewidth": 0,
             "ticks": ""
            },
            "type": "choropleth"
           }
          ],
          "contour": [
           {
            "colorbar": {
             "outlinewidth": 0,
             "ticks": ""
            },
            "colorscale": [
             [
              0,
              "#0d0887"
             ],
             [
              0.1111111111111111,
              "#46039f"
             ],
             [
              0.2222222222222222,
              "#7201a8"
             ],
             [
              0.3333333333333333,
              "#9c179e"
             ],
             [
              0.4444444444444444,
              "#bd3786"
             ],
             [
              0.5555555555555556,
              "#d8576b"
             ],
             [
              0.6666666666666666,
              "#ed7953"
             ],
             [
              0.7777777777777778,
              "#fb9f3a"
             ],
             [
              0.8888888888888888,
              "#fdca26"
             ],
             [
              1,
              "#f0f921"
             ]
            ],
            "type": "contour"
           }
          ],
          "contourcarpet": [
           {
            "colorbar": {
             "outlinewidth": 0,
             "ticks": ""
            },
            "type": "contourcarpet"
           }
          ],
          "heatmap": [
           {
            "colorbar": {
             "outlinewidth": 0,
             "ticks": ""
            },
            "colorscale": [
             [
              0,
              "#0d0887"
             ],
             [
              0.1111111111111111,
              "#46039f"
             ],
             [
              0.2222222222222222,
              "#7201a8"
             ],
             [
              0.3333333333333333,
              "#9c179e"
             ],
             [
              0.4444444444444444,
              "#bd3786"
             ],
             [
              0.5555555555555556,
              "#d8576b"
             ],
             [
              0.6666666666666666,
              "#ed7953"
             ],
             [
              0.7777777777777778,
              "#fb9f3a"
             ],
             [
              0.8888888888888888,
              "#fdca26"
             ],
             [
              1,
              "#f0f921"
             ]
            ],
            "type": "heatmap"
           }
          ],
          "histogram": [
           {
            "marker": {
             "pattern": {
              "fillmode": "overlay",
              "size": 10,
              "solidity": 0.2
             }
            },
            "type": "histogram"
           }
          ],
          "histogram2d": [
           {
            "colorbar": {
             "outlinewidth": 0,
             "ticks": ""
            },
            "colorscale": [
             [
              0,
              "#0d0887"
             ],
             [
              0.1111111111111111,
              "#46039f"
             ],
             [
              0.2222222222222222,
              "#7201a8"
             ],
             [
              0.3333333333333333,
              "#9c179e"
             ],
             [
              0.4444444444444444,
              "#bd3786"
             ],
             [
              0.5555555555555556,
              "#d8576b"
             ],
             [
              0.6666666666666666,
              "#ed7953"
             ],
             [
              0.7777777777777778,
              "#fb9f3a"
             ],
             [
              0.8888888888888888,
              "#fdca26"
             ],
             [
              1,
              "#f0f921"
             ]
            ],
            "type": "histogram2d"
           }
          ],
          "histogram2dcontour": [
           {
            "colorbar": {
             "outlinewidth": 0,
             "ticks": ""
            },
            "colorscale": [
             [
              0,
              "#0d0887"
             ],
             [
              0.1111111111111111,
              "#46039f"
             ],
             [
              0.2222222222222222,
              "#7201a8"
             ],
             [
              0.3333333333333333,
              "#9c179e"
             ],
             [
              0.4444444444444444,
              "#bd3786"
             ],
             [
              0.5555555555555556,
              "#d8576b"
             ],
             [
              0.6666666666666666,
              "#ed7953"
             ],
             [
              0.7777777777777778,
              "#fb9f3a"
             ],
             [
              0.8888888888888888,
              "#fdca26"
             ],
             [
              1,
              "#f0f921"
             ]
            ],
            "type": "histogram2dcontour"
           }
          ],
          "mesh3d": [
           {
            "colorbar": {
             "outlinewidth": 0,
             "ticks": ""
            },
            "type": "mesh3d"
           }
          ],
          "parcoords": [
           {
            "line": {
             "colorbar": {
              "outlinewidth": 0,
              "ticks": ""
             }
            },
            "type": "parcoords"
           }
          ],
          "pie": [
           {
            "automargin": true,
            "type": "pie"
           }
          ],
          "scatter": [
           {
            "fillpattern": {
             "fillmode": "overlay",
             "size": 10,
             "solidity": 0.2
            },
            "type": "scatter"
           }
          ],
          "scatter3d": [
           {
            "line": {
             "colorbar": {
              "outlinewidth": 0,
              "ticks": ""
             }
            },
            "marker": {
             "colorbar": {
              "outlinewidth": 0,
              "ticks": ""
             }
            },
            "type": "scatter3d"
           }
          ],
          "scattercarpet": [
           {
            "marker": {
             "colorbar": {
              "outlinewidth": 0,
              "ticks": ""
             }
            },
            "type": "scattercarpet"
           }
          ],
          "scattergeo": [
           {
            "marker": {
             "colorbar": {
              "outlinewidth": 0,
              "ticks": ""
             }
            },
            "type": "scattergeo"
           }
          ],
          "scattergl": [
           {
            "marker": {
             "colorbar": {
              "outlinewidth": 0,
              "ticks": ""
             }
            },
            "type": "scattergl"
           }
          ],
          "scattermap": [
           {
            "marker": {
             "colorbar": {
              "outlinewidth": 0,
              "ticks": ""
             }
            },
            "type": "scattermap"
           }
          ],
          "scattermapbox": [
           {
            "marker": {
             "colorbar": {
              "outlinewidth": 0,
              "ticks": ""
             }
            },
            "type": "scattermapbox"
           }
          ],
          "scatterpolar": [
           {
            "marker": {
             "colorbar": {
              "outlinewidth": 0,
              "ticks": ""
             }
            },
            "type": "scatterpolar"
           }
          ],
          "scatterpolargl": [
           {
            "marker": {
             "colorbar": {
              "outlinewidth": 0,
              "ticks": ""
             }
            },
            "type": "scatterpolargl"
           }
          ],
          "scatterternary": [
           {
            "marker": {
             "colorbar": {
              "outlinewidth": 0,
              "ticks": ""
             }
            },
            "type": "scatterternary"
           }
          ],
          "surface": [
           {
            "colorbar": {
             "outlinewidth": 0,
             "ticks": ""
            },
            "colorscale": [
             [
              0,
              "#0d0887"
             ],
             [
              0.1111111111111111,
              "#46039f"
             ],
             [
              0.2222222222222222,
              "#7201a8"
             ],
             [
              0.3333333333333333,
              "#9c179e"
             ],
             [
              0.4444444444444444,
              "#bd3786"
             ],
             [
              0.5555555555555556,
              "#d8576b"
             ],
             [
              0.6666666666666666,
              "#ed7953"
             ],
             [
              0.7777777777777778,
              "#fb9f3a"
             ],
             [
              0.8888888888888888,
              "#fdca26"
             ],
             [
              1,
              "#f0f921"
             ]
            ],
            "type": "surface"
           }
          ],
          "table": [
           {
            "cells": {
             "fill": {
              "color": "#EBF0F8"
             },
             "line": {
              "color": "white"
             }
            },
            "header": {
             "fill": {
              "color": "#C8D4E3"
             },
             "line": {
              "color": "white"
             }
            },
            "type": "table"
           }
          ]
         },
         "layout": {
          "annotationdefaults": {
           "arrowcolor": "#2a3f5f",
           "arrowhead": 0,
           "arrowwidth": 1
          },
          "autotypenumbers": "strict",
          "coloraxis": {
           "colorbar": {
            "outlinewidth": 0,
            "ticks": ""
           }
          },
          "colorscale": {
           "diverging": [
            [
             0,
             "#8e0152"
            ],
            [
             0.1,
             "#c51b7d"
            ],
            [
             0.2,
             "#de77ae"
            ],
            [
             0.3,
             "#f1b6da"
            ],
            [
             0.4,
             "#fde0ef"
            ],
            [
             0.5,
             "#f7f7f7"
            ],
            [
             0.6,
             "#e6f5d0"
            ],
            [
             0.7,
             "#b8e186"
            ],
            [
             0.8,
             "#7fbc41"
            ],
            [
             0.9,
             "#4d9221"
            ],
            [
             1,
             "#276419"
            ]
           ],
           "sequential": [
            [
             0,
             "#0d0887"
            ],
            [
             0.1111111111111111,
             "#46039f"
            ],
            [
             0.2222222222222222,
             "#7201a8"
            ],
            [
             0.3333333333333333,
             "#9c179e"
            ],
            [
             0.4444444444444444,
             "#bd3786"
            ],
            [
             0.5555555555555556,
             "#d8576b"
            ],
            [
             0.6666666666666666,
             "#ed7953"
            ],
            [
             0.7777777777777778,
             "#fb9f3a"
            ],
            [
             0.8888888888888888,
             "#fdca26"
            ],
            [
             1,
             "#f0f921"
            ]
           ],
           "sequentialminus": [
            [
             0,
             "#0d0887"
            ],
            [
             0.1111111111111111,
             "#46039f"
            ],
            [
             0.2222222222222222,
             "#7201a8"
            ],
            [
             0.3333333333333333,
             "#9c179e"
            ],
            [
             0.4444444444444444,
             "#bd3786"
            ],
            [
             0.5555555555555556,
             "#d8576b"
            ],
            [
             0.6666666666666666,
             "#ed7953"
            ],
            [
             0.7777777777777778,
             "#fb9f3a"
            ],
            [
             0.8888888888888888,
             "#fdca26"
            ],
            [
             1,
             "#f0f921"
            ]
           ]
          },
          "colorway": [
           "#636efa",
           "#EF553B",
           "#00cc96",
           "#ab63fa",
           "#FFA15A",
           "#19d3f3",
           "#FF6692",
           "#B6E880",
           "#FF97FF",
           "#FECB52"
          ],
          "font": {
           "color": "#2a3f5f"
          },
          "geo": {
           "bgcolor": "white",
           "lakecolor": "white",
           "landcolor": "#E5ECF6",
           "showlakes": true,
           "showland": true,
           "subunitcolor": "white"
          },
          "hoverlabel": {
           "align": "left"
          },
          "hovermode": "closest",
          "mapbox": {
           "style": "light"
          },
          "paper_bgcolor": "white",
          "plot_bgcolor": "#E5ECF6",
          "polar": {
           "angularaxis": {
            "gridcolor": "white",
            "linecolor": "white",
            "ticks": ""
           },
           "bgcolor": "#E5ECF6",
           "radialaxis": {
            "gridcolor": "white",
            "linecolor": "white",
            "ticks": ""
           }
          },
          "scene": {
           "xaxis": {
            "backgroundcolor": "#E5ECF6",
            "gridcolor": "white",
            "gridwidth": 2,
            "linecolor": "white",
            "showbackground": true,
            "ticks": "",
            "zerolinecolor": "white"
           },
           "yaxis": {
            "backgroundcolor": "#E5ECF6",
            "gridcolor": "white",
            "gridwidth": 2,
            "linecolor": "white",
            "showbackground": true,
            "ticks": "",
            "zerolinecolor": "white"
           },
           "zaxis": {
            "backgroundcolor": "#E5ECF6",
            "gridcolor": "white",
            "gridwidth": 2,
            "linecolor": "white",
            "showbackground": true,
            "ticks": "",
            "zerolinecolor": "white"
           }
          },
          "shapedefaults": {
           "line": {
            "color": "#2a3f5f"
           }
          },
          "ternary": {
           "aaxis": {
            "gridcolor": "white",
            "linecolor": "white",
            "ticks": ""
           },
           "baxis": {
            "gridcolor": "white",
            "linecolor": "white",
            "ticks": ""
           },
           "bgcolor": "#E5ECF6",
           "caxis": {
            "gridcolor": "white",
            "linecolor": "white",
            "ticks": ""
           }
          },
          "title": {
           "x": 0.05
          },
          "xaxis": {
           "automargin": true,
           "gridcolor": "white",
           "linecolor": "white",
           "ticks": "",
           "title": {
            "standoff": 15
           },
           "zerolinecolor": "white",
           "zerolinewidth": 2
          },
          "yaxis": {
           "automargin": true,
           "gridcolor": "white",
           "linecolor": "white",
           "ticks": "",
           "title": {
            "standoff": 15
           },
           "zerolinecolor": "white",
           "zerolinewidth": 2
          }
         }
        },
        "title": {
         "text": "2D Cluster PCA Plot"
        },
        "xaxis": {
         "anchor": "y",
         "domain": [
          0,
          1
         ],
         "title": {
          "text": "PCA1"
         }
        },
        "yaxis": {
         "anchor": "x",
         "domain": [
          0,
          1
         ],
         "title": {
          "text": "PCA2"
         }
        }
       }
      }
     },
     "metadata": {},
     "output_type": "display_data"
    },
    {
     "name": "stdout",
     "output_type": "stream",
     "text": [
      "\n",
      "============================================================\n",
      "INTERPRETING THE PLOT\n",
      "============================================================\n",
      "\n",
      "- Each point represents one customer\n",
      "- Colors show cluster membership\n",
      "- PCA reduces 6D spending data to 2D\n",
      "- PC1 & PC2: Principal components capturing most variance\n",
      "\n",
      "Good clustering shows:\n",
      "- Clear color separation (distinct segments)\n",
      "- Minimal overlap between clusters\n",
      "- Compact clusters with space between them\n"
     ]
    }
   ],
   "source": [
    "print(\"=\" * 60)\n",
    "print(\"2D CLUSTER VISUALIZATION (PCA)\")\n",
    "print(\"=\" * 60)\n",
    "print(\"\\nReducing 6 dimensions to 2 for visualization...\\n\")\n",
    "\n",
    "# PyCaret's cluster visualization\n",
    "plot_model(kmeans_4, plot='cluster')\n",
    "\n",
    "print(\"\\n\" + \"=\" * 60)\n",
    "print(\"INTERPRETING THE PLOT\")\n",
    "print(\"=\" * 60)\n",
    "print(\"\\n- Each point represents one customer\")\n",
    "print(\"- Colors show cluster membership\")\n",
    "print(\"- PCA reduces 6D spending data to 2D\")\n",
    "print(\"- PC1 & PC2: Principal components capturing most variance\")\n",
    "print(\"\\nGood clustering shows:\")\n",
    "print(\"- Clear color separation (distinct segments)\")\n",
    "print(\"- Minimal overlap between clusters\")\n",
    "print(\"- Compact clusters with space between them\")"
   ]
  },
  {
   "cell_type": "markdown",
   "metadata": {},
   "source": [
    "---\n",
    "\n",
    "## Cell 13: Distribution of Clusters\n",
    "\n",
    "### What\n",
    "Analyzing the size and distribution of discovered customer segments.\n",
    "\n",
    "### Why\n",
    "Understanding segment sizes helps:\n",
    "- Prioritize marketing efforts\n",
    "- Allocate resources\n",
    "- Assess market opportunity\n",
    "\n",
    "### Technical Details\n",
    "Check for:\n",
    "- Balanced clusters (similar sizes)\n",
    "- Or dominant segments with small niches\n",
    "\n",
    "### Expected Output\n",
    "Visualization showing relative size of each segment."
   ]
  },
  {
   "cell_type": "code",
   "execution_count": 13,
   "metadata": {},
   "outputs": [
    {
     "name": "stdout",
     "output_type": "stream",
     "text": [
      "============================================================\n",
      "CUSTOMER SEGMENT DISTRIBUTION\n",
      "============================================================\n"
     ]
    },
    {
     "data": {
      "text/html": [],
      "text/plain": [
       "<IPython.core.display.HTML object>"
      ]
     },
     "metadata": {},
     "output_type": "display_data"
    },
    {
     "data": {
      "application/vnd.plotly.v1+json": {
       "config": {
        "plotlyServerURL": "https://plot.ly"
       },
       "data": [
        {
         "bingroup": "x",
         "hovertemplate": "Cluster=%{x}<br>count=%{y}<extra></extra>",
         "legendgroup": "Cluster 0",
         "marker": {
          "color": "#636efa",
          "opacity": 0.7,
          "pattern": {
           "shape": ""
          }
         },
         "name": "Cluster 0",
         "orientation": "v",
         "showlegend": true,
         "type": "histogram",
         "x": [
          "Cluster 0",
          "Cluster 0",
          "Cluster 0",
          "Cluster 0",
          "Cluster 0",
          "Cluster 0",
          "Cluster 0",
          "Cluster 0",
          "Cluster 0",
          "Cluster 0",
          "Cluster 0",
          "Cluster 0",
          "Cluster 0",
          "Cluster 0",
          "Cluster 0",
          "Cluster 0",
          "Cluster 0",
          "Cluster 0",
          "Cluster 0",
          "Cluster 0",
          "Cluster 0",
          "Cluster 0",
          "Cluster 0",
          "Cluster 0",
          "Cluster 0",
          "Cluster 0",
          "Cluster 0",
          "Cluster 0",
          "Cluster 0",
          "Cluster 0",
          "Cluster 0",
          "Cluster 0",
          "Cluster 0",
          "Cluster 0",
          "Cluster 0",
          "Cluster 0",
          "Cluster 0",
          "Cluster 0",
          "Cluster 0",
          "Cluster 0",
          "Cluster 0",
          "Cluster 0",
          "Cluster 0",
          "Cluster 0",
          "Cluster 0",
          "Cluster 0",
          "Cluster 0",
          "Cluster 0",
          "Cluster 0",
          "Cluster 0",
          "Cluster 0",
          "Cluster 0",
          "Cluster 0",
          "Cluster 0",
          "Cluster 0",
          "Cluster 0",
          "Cluster 0",
          "Cluster 0",
          "Cluster 0",
          "Cluster 0",
          "Cluster 0",
          "Cluster 0",
          "Cluster 0",
          "Cluster 0",
          "Cluster 0",
          "Cluster 0",
          "Cluster 0",
          "Cluster 0",
          "Cluster 0",
          "Cluster 0",
          "Cluster 0",
          "Cluster 0",
          "Cluster 0",
          "Cluster 0",
          "Cluster 0",
          "Cluster 0",
          "Cluster 0",
          "Cluster 0",
          "Cluster 0",
          "Cluster 0",
          "Cluster 0",
          "Cluster 0",
          "Cluster 0",
          "Cluster 0",
          "Cluster 0",
          "Cluster 0",
          "Cluster 0",
          "Cluster 0",
          "Cluster 0",
          "Cluster 0",
          "Cluster 0",
          "Cluster 0",
          "Cluster 0",
          "Cluster 0",
          "Cluster 0",
          "Cluster 0",
          "Cluster 0",
          "Cluster 0",
          "Cluster 0",
          "Cluster 0",
          "Cluster 0",
          "Cluster 0",
          "Cluster 0",
          "Cluster 0",
          "Cluster 0",
          "Cluster 0",
          "Cluster 0",
          "Cluster 0",
          "Cluster 0",
          "Cluster 0",
          "Cluster 0",
          "Cluster 0",
          "Cluster 0",
          "Cluster 0",
          "Cluster 0",
          "Cluster 0",
          "Cluster 0",
          "Cluster 0",
          "Cluster 0",
          "Cluster 0",
          "Cluster 0",
          "Cluster 0",
          "Cluster 0",
          "Cluster 0",
          "Cluster 0",
          "Cluster 0"
         ],
         "xaxis": "x",
         "yaxis": "y"
        },
        {
         "customdata": {
          "bdata": "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",
          "dtype": "i4",
          "shape": "126, 8"
         },
         "hovertemplate": "Cluster=%{x}<br>Channel=%{customdata[0]}<br>Region=%{customdata[1]}<br>Fresh=%{customdata[2]}<br>Milk=%{customdata[3]}<br>Grocery=%{customdata[4]}<br>Frozen=%{customdata[5]}<br>Detergents_Paper=%{customdata[6]}<br>Delicassen=%{customdata[7]}<extra></extra>",
         "legendgroup": "Cluster 0",
         "marker": {
          "color": "#636efa"
         },
         "name": "Cluster 0",
         "notched": true,
         "showlegend": false,
         "type": "box",
         "x": [
          "Cluster 0",
          "Cluster 0",
          "Cluster 0",
          "Cluster 0",
          "Cluster 0",
          "Cluster 0",
          "Cluster 0",
          "Cluster 0",
          "Cluster 0",
          "Cluster 0",
          "Cluster 0",
          "Cluster 0",
          "Cluster 0",
          "Cluster 0",
          "Cluster 0",
          "Cluster 0",
          "Cluster 0",
          "Cluster 0",
          "Cluster 0",
          "Cluster 0",
          "Cluster 0",
          "Cluster 0",
          "Cluster 0",
          "Cluster 0",
          "Cluster 0",
          "Cluster 0",
          "Cluster 0",
          "Cluster 0",
          "Cluster 0",
          "Cluster 0",
          "Cluster 0",
          "Cluster 0",
          "Cluster 0",
          "Cluster 0",
          "Cluster 0",
          "Cluster 0",
          "Cluster 0",
          "Cluster 0",
          "Cluster 0",
          "Cluster 0",
          "Cluster 0",
          "Cluster 0",
          "Cluster 0",
          "Cluster 0",
          "Cluster 0",
          "Cluster 0",
          "Cluster 0",
          "Cluster 0",
          "Cluster 0",
          "Cluster 0",
          "Cluster 0",
          "Cluster 0",
          "Cluster 0",
          "Cluster 0",
          "Cluster 0",
          "Cluster 0",
          "Cluster 0",
          "Cluster 0",
          "Cluster 0",
          "Cluster 0",
          "Cluster 0",
          "Cluster 0",
          "Cluster 0",
          "Cluster 0",
          "Cluster 0",
          "Cluster 0",
          "Cluster 0",
          "Cluster 0",
          "Cluster 0",
          "Cluster 0",
          "Cluster 0",
          "Cluster 0",
          "Cluster 0",
          "Cluster 0",
          "Cluster 0",
          "Cluster 0",
          "Cluster 0",
          "Cluster 0",
          "Cluster 0",
          "Cluster 0",
          "Cluster 0",
          "Cluster 0",
          "Cluster 0",
          "Cluster 0",
          "Cluster 0",
          "Cluster 0",
          "Cluster 0",
          "Cluster 0",
          "Cluster 0",
          "Cluster 0",
          "Cluster 0",
          "Cluster 0",
          "Cluster 0",
          "Cluster 0",
          "Cluster 0",
          "Cluster 0",
          "Cluster 0",
          "Cluster 0",
          "Cluster 0",
          "Cluster 0",
          "Cluster 0",
          "Cluster 0",
          "Cluster 0",
          "Cluster 0",
          "Cluster 0",
          "Cluster 0",
          "Cluster 0",
          "Cluster 0",
          "Cluster 0",
          "Cluster 0",
          "Cluster 0",
          "Cluster 0",
          "Cluster 0",
          "Cluster 0",
          "Cluster 0",
          "Cluster 0",
          "Cluster 0",
          "Cluster 0",
          "Cluster 0",
          "Cluster 0",
          "Cluster 0",
          "Cluster 0",
          "Cluster 0",
          "Cluster 0",
          "Cluster 0",
          "Cluster 0"
         ],
         "xaxis": "x2",
         "yaxis": "y2"
        },
        {
         "bingroup": "x",
         "hovertemplate": "Cluster=%{x}<br>count=%{y}<extra></extra>",
         "legendgroup": "Cluster 1",
         "marker": {
          "color": "#EF553B",
          "opacity": 0.7,
          "pattern": {
           "shape": ""
          }
         },
         "name": "Cluster 1",
         "orientation": "v",
         "showlegend": true,
         "type": "histogram",
         "x": [
          "Cluster 1",
          "Cluster 1",
          "Cluster 1",
          "Cluster 1",
          "Cluster 1",
          "Cluster 1",
          "Cluster 1",
          "Cluster 1",
          "Cluster 1",
          "Cluster 1",
          "Cluster 1",
          "Cluster 1",
          "Cluster 1",
          "Cluster 1",
          "Cluster 1",
          "Cluster 1",
          "Cluster 1",
          "Cluster 1",
          "Cluster 1",
          "Cluster 1",
          "Cluster 1",
          "Cluster 1",
          "Cluster 1",
          "Cluster 1",
          "Cluster 1",
          "Cluster 1",
          "Cluster 1",
          "Cluster 1",
          "Cluster 1",
          "Cluster 1",
          "Cluster 1",
          "Cluster 1",
          "Cluster 1",
          "Cluster 1",
          "Cluster 1",
          "Cluster 1",
          "Cluster 1",
          "Cluster 1",
          "Cluster 1",
          "Cluster 1",
          "Cluster 1",
          "Cluster 1",
          "Cluster 1",
          "Cluster 1",
          "Cluster 1",
          "Cluster 1",
          "Cluster 1",
          "Cluster 1",
          "Cluster 1",
          "Cluster 1",
          "Cluster 1",
          "Cluster 1",
          "Cluster 1",
          "Cluster 1",
          "Cluster 1",
          "Cluster 1",
          "Cluster 1",
          "Cluster 1",
          "Cluster 1",
          "Cluster 1",
          "Cluster 1",
          "Cluster 1",
          "Cluster 1",
          "Cluster 1",
          "Cluster 1",
          "Cluster 1",
          "Cluster 1",
          "Cluster 1",
          "Cluster 1",
          "Cluster 1",
          "Cluster 1",
          "Cluster 1",
          "Cluster 1",
          "Cluster 1",
          "Cluster 1",
          "Cluster 1",
          "Cluster 1",
          "Cluster 1",
          "Cluster 1",
          "Cluster 1",
          "Cluster 1",
          "Cluster 1",
          "Cluster 1",
          "Cluster 1",
          "Cluster 1",
          "Cluster 1",
          "Cluster 1",
          "Cluster 1",
          "Cluster 1",
          "Cluster 1",
          "Cluster 1",
          "Cluster 1",
          "Cluster 1",
          "Cluster 1",
          "Cluster 1",
          "Cluster 1",
          "Cluster 1",
          "Cluster 1",
          "Cluster 1",
          "Cluster 1",
          "Cluster 1",
          "Cluster 1",
          "Cluster 1",
          "Cluster 1",
          "Cluster 1",
          "Cluster 1",
          "Cluster 1",
          "Cluster 1",
          "Cluster 1",
          "Cluster 1",
          "Cluster 1",
          "Cluster 1",
          "Cluster 1",
          "Cluster 1",
          "Cluster 1",
          "Cluster 1",
          "Cluster 1",
          "Cluster 1",
          "Cluster 1",
          "Cluster 1",
          "Cluster 1",
          "Cluster 1",
          "Cluster 1",
          "Cluster 1",
          "Cluster 1",
          "Cluster 1",
          "Cluster 1",
          "Cluster 1",
          "Cluster 1",
          "Cluster 1",
          "Cluster 1",
          "Cluster 1",
          "Cluster 1",
          "Cluster 1",
          "Cluster 1",
          "Cluster 1",
          "Cluster 1",
          "Cluster 1",
          "Cluster 1",
          "Cluster 1",
          "Cluster 1",
          "Cluster 1",
          "Cluster 1",
          "Cluster 1",
          "Cluster 1",
          "Cluster 1",
          "Cluster 1",
          "Cluster 1",
          "Cluster 1",
          "Cluster 1",
          "Cluster 1",
          "Cluster 1",
          "Cluster 1",
          "Cluster 1",
          "Cluster 1",
          "Cluster 1",
          "Cluster 1",
          "Cluster 1",
          "Cluster 1",
          "Cluster 1",
          "Cluster 1",
          "Cluster 1",
          "Cluster 1",
          "Cluster 1",
          "Cluster 1",
          "Cluster 1",
          "Cluster 1",
          "Cluster 1",
          "Cluster 1",
          "Cluster 1",
          "Cluster 1",
          "Cluster 1",
          "Cluster 1",
          "Cluster 1",
          "Cluster 1",
          "Cluster 1",
          "Cluster 1",
          "Cluster 1",
          "Cluster 1",
          "Cluster 1",
          "Cluster 1",
          "Cluster 1",
          "Cluster 1",
          "Cluster 1",
          "Cluster 1",
          "Cluster 1",
          "Cluster 1",
          "Cluster 1",
          "Cluster 1",
          "Cluster 1",
          "Cluster 1",
          "Cluster 1",
          "Cluster 1",
          "Cluster 1",
          "Cluster 1",
          "Cluster 1",
          "Cluster 1",
          "Cluster 1",
          "Cluster 1",
          "Cluster 1",
          "Cluster 1",
          "Cluster 1",
          "Cluster 1",
          "Cluster 1",
          "Cluster 1",
          "Cluster 1",
          "Cluster 1",
          "Cluster 1",
          "Cluster 1"
         ],
         "xaxis": "x",
         "yaxis": "y"
        },
        {
         "customdata": {
          "bdata": "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",
          "dtype": "i4",
          "shape": "209, 8"
         },
         "hovertemplate": "Cluster=%{x}<br>Channel=%{customdata[0]}<br>Region=%{customdata[1]}<br>Fresh=%{customdata[2]}<br>Milk=%{customdata[3]}<br>Grocery=%{customdata[4]}<br>Frozen=%{customdata[5]}<br>Detergents_Paper=%{customdata[6]}<br>Delicassen=%{customdata[7]}<extra></extra>",
         "legendgroup": "Cluster 1",
         "marker": {
          "color": "#EF553B"
         },
         "name": "Cluster 1",
         "notched": true,
         "showlegend": false,
         "type": "box",
         "x": [
          "Cluster 1",
          "Cluster 1",
          "Cluster 1",
          "Cluster 1",
          "Cluster 1",
          "Cluster 1",
          "Cluster 1",
          "Cluster 1",
          "Cluster 1",
          "Cluster 1",
          "Cluster 1",
          "Cluster 1",
          "Cluster 1",
          "Cluster 1",
          "Cluster 1",
          "Cluster 1",
          "Cluster 1",
          "Cluster 1",
          "Cluster 1",
          "Cluster 1",
          "Cluster 1",
          "Cluster 1",
          "Cluster 1",
          "Cluster 1",
          "Cluster 1",
          "Cluster 1",
          "Cluster 1",
          "Cluster 1",
          "Cluster 1",
          "Cluster 1",
          "Cluster 1",
          "Cluster 1",
          "Cluster 1",
          "Cluster 1",
          "Cluster 1",
          "Cluster 1",
          "Cluster 1",
          "Cluster 1",
          "Cluster 1",
          "Cluster 1",
          "Cluster 1",
          "Cluster 1",
          "Cluster 1",
          "Cluster 1",
          "Cluster 1",
          "Cluster 1",
          "Cluster 1",
          "Cluster 1",
          "Cluster 1",
          "Cluster 1",
          "Cluster 1",
          "Cluster 1",
          "Cluster 1",
          "Cluster 1",
          "Cluster 1",
          "Cluster 1",
          "Cluster 1",
          "Cluster 1",
          "Cluster 1",
          "Cluster 1",
          "Cluster 1",
          "Cluster 1",
          "Cluster 1",
          "Cluster 1",
          "Cluster 1",
          "Cluster 1",
          "Cluster 1",
          "Cluster 1",
          "Cluster 1",
          "Cluster 1",
          "Cluster 1",
          "Cluster 1",
          "Cluster 1",
          "Cluster 1",
          "Cluster 1",
          "Cluster 1",
          "Cluster 1",
          "Cluster 1",
          "Cluster 1",
          "Cluster 1",
          "Cluster 1",
          "Cluster 1",
          "Cluster 1",
          "Cluster 1",
          "Cluster 1",
          "Cluster 1",
          "Cluster 1",
          "Cluster 1",
          "Cluster 1",
          "Cluster 1",
          "Cluster 1",
          "Cluster 1",
          "Cluster 1",
          "Cluster 1",
          "Cluster 1",
          "Cluster 1",
          "Cluster 1",
          "Cluster 1",
          "Cluster 1",
          "Cluster 1",
          "Cluster 1",
          "Cluster 1",
          "Cluster 1",
          "Cluster 1",
          "Cluster 1",
          "Cluster 1",
          "Cluster 1",
          "Cluster 1",
          "Cluster 1",
          "Cluster 1",
          "Cluster 1",
          "Cluster 1",
          "Cluster 1",
          "Cluster 1",
          "Cluster 1",
          "Cluster 1",
          "Cluster 1",
          "Cluster 1",
          "Cluster 1",
          "Cluster 1",
          "Cluster 1",
          "Cluster 1",
          "Cluster 1",
          "Cluster 1",
          "Cluster 1",
          "Cluster 1",
          "Cluster 1",
          "Cluster 1",
          "Cluster 1",
          "Cluster 1",
          "Cluster 1",
          "Cluster 1",
          "Cluster 1",
          "Cluster 1",
          "Cluster 1",
          "Cluster 1",
          "Cluster 1",
          "Cluster 1",
          "Cluster 1",
          "Cluster 1",
          "Cluster 1",
          "Cluster 1",
          "Cluster 1",
          "Cluster 1",
          "Cluster 1",
          "Cluster 1",
          "Cluster 1",
          "Cluster 1",
          "Cluster 1",
          "Cluster 1",
          "Cluster 1",
          "Cluster 1",
          "Cluster 1",
          "Cluster 1",
          "Cluster 1",
          "Cluster 1",
          "Cluster 1",
          "Cluster 1",
          "Cluster 1",
          "Cluster 1",
          "Cluster 1",
          "Cluster 1",
          "Cluster 1",
          "Cluster 1",
          "Cluster 1",
          "Cluster 1",
          "Cluster 1",
          "Cluster 1",
          "Cluster 1",
          "Cluster 1",
          "Cluster 1",
          "Cluster 1",
          "Cluster 1",
          "Cluster 1",
          "Cluster 1",
          "Cluster 1",
          "Cluster 1",
          "Cluster 1",
          "Cluster 1",
          "Cluster 1",
          "Cluster 1",
          "Cluster 1",
          "Cluster 1",
          "Cluster 1",
          "Cluster 1",
          "Cluster 1",
          "Cluster 1",
          "Cluster 1",
          "Cluster 1",
          "Cluster 1",
          "Cluster 1",
          "Cluster 1",
          "Cluster 1",
          "Cluster 1",
          "Cluster 1",
          "Cluster 1",
          "Cluster 1",
          "Cluster 1",
          "Cluster 1",
          "Cluster 1",
          "Cluster 1",
          "Cluster 1",
          "Cluster 1",
          "Cluster 1",
          "Cluster 1",
          "Cluster 1",
          "Cluster 1",
          "Cluster 1",
          "Cluster 1"
         ],
         "xaxis": "x2",
         "yaxis": "y2"
        },
        {
         "bingroup": "x",
         "hovertemplate": "Cluster=%{x}<br>count=%{y}<extra></extra>",
         "legendgroup": "Cluster 2",
         "marker": {
          "color": "#00cc96",
          "opacity": 0.7,
          "pattern": {
           "shape": ""
          }
         },
         "name": "Cluster 2",
         "orientation": "v",
         "showlegend": true,
         "type": "histogram",
         "x": [
          "Cluster 2",
          "Cluster 2",
          "Cluster 2",
          "Cluster 2",
          "Cluster 2",
          "Cluster 2",
          "Cluster 2",
          "Cluster 2",
          "Cluster 2",
          "Cluster 2",
          "Cluster 2",
          "Cluster 2",
          "Cluster 2"
         ],
         "xaxis": "x",
         "yaxis": "y"
        },
        {
         "customdata": {
          "bdata": "AgAAAAMAAAAFZwAAR44AAANWAAAiFAAA8RAAAItAAAACAAAAAQAAAPYXAABdWgAAMoMAAFoaAACiSAAAARQAAAIAAAADAAAAsq0AAPPTAAAT2QAAZh4AAGteAABBGQAAAgAAAAMAAAACEAAAxHQAAPJoAAA4CgAATEUAADwFAAACAAAAAwAAAGaMAADhlQAAzugAALYMAABNaAAA4QcAAAIAAAADAAAAVQAAAN9RAAAEswAAJAAAAKdeAACPBQAAAgAAAAMAAAD1PgAAdbQAAGxqAQACBAAAe58AAIALAAACAAAAAwAAAI1ZAAAaHwEAcn0AANsDAABmTgAAhwMAAAIAAAABAAAAVy8AAKZuAAAOmwAAgBIAANJLAAA2CwAAAQAAAAMAAAAXtgEAu3MAAORGAABpQQAAVBMAAGYhAAABAAAAAwAAAO+PAACuqwAAyk4AALaOAADvAAAAR7sAAAIAAAADAAAA7iMAAFBrAAAifQAAoAwAANpJAAAKFAAAAgAAAAIAAAB1IQAAdBMAAOIGAQCDAAAA1pQAAL8EAAA=",
          "dtype": "i4",
          "shape": "13, 8"
         },
         "hovertemplate": "Cluster=%{x}<br>Channel=%{customdata[0]}<br>Region=%{customdata[1]}<br>Fresh=%{customdata[2]}<br>Milk=%{customdata[3]}<br>Grocery=%{customdata[4]}<br>Frozen=%{customdata[5]}<br>Detergents_Paper=%{customdata[6]}<br>Delicassen=%{customdata[7]}<extra></extra>",
         "legendgroup": "Cluster 2",
         "marker": {
          "color": "#00cc96"
         },
         "name": "Cluster 2",
         "notched": true,
         "showlegend": false,
         "type": "box",
         "x": [
          "Cluster 2",
          "Cluster 2",
          "Cluster 2",
          "Cluster 2",
          "Cluster 2",
          "Cluster 2",
          "Cluster 2",
          "Cluster 2",
          "Cluster 2",
          "Cluster 2",
          "Cluster 2",
          "Cluster 2",
          "Cluster 2"
         ],
         "xaxis": "x2",
         "yaxis": "y2"
        },
        {
         "bingroup": "x",
         "hovertemplate": "Cluster=%{x}<br>count=%{y}<extra></extra>",
         "legendgroup": "Cluster 3",
         "marker": {
          "color": "#ab63fa",
          "opacity": 0.7,
          "pattern": {
           "shape": ""
          }
         },
         "name": "Cluster 3",
         "orientation": "v",
         "showlegend": true,
         "type": "histogram",
         "x": [
          "Cluster 3",
          "Cluster 3",
          "Cluster 3",
          "Cluster 3",
          "Cluster 3",
          "Cluster 3",
          "Cluster 3",
          "Cluster 3",
          "Cluster 3",
          "Cluster 3",
          "Cluster 3",
          "Cluster 3",
          "Cluster 3",
          "Cluster 3",
          "Cluster 3",
          "Cluster 3",
          "Cluster 3",
          "Cluster 3",
          "Cluster 3",
          "Cluster 3",
          "Cluster 3",
          "Cluster 3",
          "Cluster 3",
          "Cluster 3",
          "Cluster 3",
          "Cluster 3",
          "Cluster 3",
          "Cluster 3",
          "Cluster 3",
          "Cluster 3",
          "Cluster 3",
          "Cluster 3",
          "Cluster 3",
          "Cluster 3",
          "Cluster 3",
          "Cluster 3",
          "Cluster 3",
          "Cluster 3",
          "Cluster 3",
          "Cluster 3",
          "Cluster 3",
          "Cluster 3",
          "Cluster 3",
          "Cluster 3",
          "Cluster 3",
          "Cluster 3",
          "Cluster 3",
          "Cluster 3",
          "Cluster 3",
          "Cluster 3",
          "Cluster 3",
          "Cluster 3",
          "Cluster 3",
          "Cluster 3",
          "Cluster 3",
          "Cluster 3",
          "Cluster 3",
          "Cluster 3",
          "Cluster 3",
          "Cluster 3",
          "Cluster 3",
          "Cluster 3",
          "Cluster 3",
          "Cluster 3",
          "Cluster 3",
          "Cluster 3",
          "Cluster 3",
          "Cluster 3",
          "Cluster 3",
          "Cluster 3",
          "Cluster 3",
          "Cluster 3",
          "Cluster 3",
          "Cluster 3",
          "Cluster 3",
          "Cluster 3",
          "Cluster 3",
          "Cluster 3",
          "Cluster 3",
          "Cluster 3",
          "Cluster 3",
          "Cluster 3",
          "Cluster 3",
          "Cluster 3",
          "Cluster 3",
          "Cluster 3",
          "Cluster 3",
          "Cluster 3",
          "Cluster 3",
          "Cluster 3",
          "Cluster 3",
          "Cluster 3"
         ],
         "xaxis": "x",
         "yaxis": "y"
        },
        {
         "customdata": {
          "bdata": "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",
          "dtype": "i4",
          "shape": "92, 8"
         },
         "hovertemplate": "Cluster=%{x}<br>Channel=%{customdata[0]}<br>Region=%{customdata[1]}<br>Fresh=%{customdata[2]}<br>Milk=%{customdata[3]}<br>Grocery=%{customdata[4]}<br>Frozen=%{customdata[5]}<br>Detergents_Paper=%{customdata[6]}<br>Delicassen=%{customdata[7]}<extra></extra>",
         "legendgroup": "Cluster 3",
         "marker": {
          "color": "#ab63fa"
         },
         "name": "Cluster 3",
         "notched": true,
         "showlegend": false,
         "type": "box",
         "x": [
          "Cluster 3",
          "Cluster 3",
          "Cluster 3",
          "Cluster 3",
          "Cluster 3",
          "Cluster 3",
          "Cluster 3",
          "Cluster 3",
          "Cluster 3",
          "Cluster 3",
          "Cluster 3",
          "Cluster 3",
          "Cluster 3",
          "Cluster 3",
          "Cluster 3",
          "Cluster 3",
          "Cluster 3",
          "Cluster 3",
          "Cluster 3",
          "Cluster 3",
          "Cluster 3",
          "Cluster 3",
          "Cluster 3",
          "Cluster 3",
          "Cluster 3",
          "Cluster 3",
          "Cluster 3",
          "Cluster 3",
          "Cluster 3",
          "Cluster 3",
          "Cluster 3",
          "Cluster 3",
          "Cluster 3",
          "Cluster 3",
          "Cluster 3",
          "Cluster 3",
          "Cluster 3",
          "Cluster 3",
          "Cluster 3",
          "Cluster 3",
          "Cluster 3",
          "Cluster 3",
          "Cluster 3",
          "Cluster 3",
          "Cluster 3",
          "Cluster 3",
          "Cluster 3",
          "Cluster 3",
          "Cluster 3",
          "Cluster 3",
          "Cluster 3",
          "Cluster 3",
          "Cluster 3",
          "Cluster 3",
          "Cluster 3",
          "Cluster 3",
          "Cluster 3",
          "Cluster 3",
          "Cluster 3",
          "Cluster 3",
          "Cluster 3",
          "Cluster 3",
          "Cluster 3",
          "Cluster 3",
          "Cluster 3",
          "Cluster 3",
          "Cluster 3",
          "Cluster 3",
          "Cluster 3",
          "Cluster 3",
          "Cluster 3",
          "Cluster 3",
          "Cluster 3",
          "Cluster 3",
          "Cluster 3",
          "Cluster 3",
          "Cluster 3",
          "Cluster 3",
          "Cluster 3",
          "Cluster 3",
          "Cluster 3",
          "Cluster 3",
          "Cluster 3",
          "Cluster 3",
          "Cluster 3",
          "Cluster 3",
          "Cluster 3",
          "Cluster 3",
          "Cluster 3",
          "Cluster 3",
          "Cluster 3",
          "Cluster 3"
         ],
         "xaxis": "x2",
         "yaxis": "y2"
        }
       ],
       "layout": {
        "barmode": "relative",
        "height": 600,
        "legend": {
         "title": {
          "text": "Cluster"
         },
         "tracegroupgap": 0
        },
        "margin": {
         "t": 60
        },
        "template": {
         "data": {
          "bar": [
           {
            "error_x": {
             "color": "#2a3f5f"
            },
            "error_y": {
             "color": "#2a3f5f"
            },
            "marker": {
             "line": {
              "color": "#E5ECF6",
              "width": 0.5
             },
             "pattern": {
              "fillmode": "overlay",
              "size": 10,
              "solidity": 0.2
             }
            },
            "type": "bar"
           }
          ],
          "barpolar": [
           {
            "marker": {
             "line": {
              "color": "#E5ECF6",
              "width": 0.5
             },
             "pattern": {
              "fillmode": "overlay",
              "size": 10,
              "solidity": 0.2
             }
            },
            "type": "barpolar"
           }
          ],
          "carpet": [
           {
            "aaxis": {
             "endlinecolor": "#2a3f5f",
             "gridcolor": "white",
             "linecolor": "white",
             "minorgridcolor": "white",
             "startlinecolor": "#2a3f5f"
            },
            "baxis": {
             "endlinecolor": "#2a3f5f",
             "gridcolor": "white",
             "linecolor": "white",
             "minorgridcolor": "white",
             "startlinecolor": "#2a3f5f"
            },
            "type": "carpet"
           }
          ],
          "choropleth": [
           {
            "colorbar": {
             "outlinewidth": 0,
             "ticks": ""
            },
            "type": "choropleth"
           }
          ],
          "contour": [
           {
            "colorbar": {
             "outlinewidth": 0,
             "ticks": ""
            },
            "colorscale": [
             [
              0,
              "#0d0887"
             ],
             [
              0.1111111111111111,
              "#46039f"
             ],
             [
              0.2222222222222222,
              "#7201a8"
             ],
             [
              0.3333333333333333,
              "#9c179e"
             ],
             [
              0.4444444444444444,
              "#bd3786"
             ],
             [
              0.5555555555555556,
              "#d8576b"
             ],
             [
              0.6666666666666666,
              "#ed7953"
             ],
             [
              0.7777777777777778,
              "#fb9f3a"
             ],
             [
              0.8888888888888888,
              "#fdca26"
             ],
             [
              1,
              "#f0f921"
             ]
            ],
            "type": "contour"
           }
          ],
          "contourcarpet": [
           {
            "colorbar": {
             "outlinewidth": 0,
             "ticks": ""
            },
            "type": "contourcarpet"
           }
          ],
          "heatmap": [
           {
            "colorbar": {
             "outlinewidth": 0,
             "ticks": ""
            },
            "colorscale": [
             [
              0,
              "#0d0887"
             ],
             [
              0.1111111111111111,
              "#46039f"
             ],
             [
              0.2222222222222222,
              "#7201a8"
             ],
             [
              0.3333333333333333,
              "#9c179e"
             ],
             [
              0.4444444444444444,
              "#bd3786"
             ],
             [
              0.5555555555555556,
              "#d8576b"
             ],
             [
              0.6666666666666666,
              "#ed7953"
             ],
             [
              0.7777777777777778,
              "#fb9f3a"
             ],
             [
              0.8888888888888888,
              "#fdca26"
             ],
             [
              1,
              "#f0f921"
             ]
            ],
            "type": "heatmap"
           }
          ],
          "histogram": [
           {
            "marker": {
             "pattern": {
              "fillmode": "overlay",
              "size": 10,
              "solidity": 0.2
             }
            },
            "type": "histogram"
           }
          ],
          "histogram2d": [
           {
            "colorbar": {
             "outlinewidth": 0,
             "ticks": ""
            },
            "colorscale": [
             [
              0,
              "#0d0887"
             ],
             [
              0.1111111111111111,
              "#46039f"
             ],
             [
              0.2222222222222222,
              "#7201a8"
             ],
             [
              0.3333333333333333,
              "#9c179e"
             ],
             [
              0.4444444444444444,
              "#bd3786"
             ],
             [
              0.5555555555555556,
              "#d8576b"
             ],
             [
              0.6666666666666666,
              "#ed7953"
             ],
             [
              0.7777777777777778,
              "#fb9f3a"
             ],
             [
              0.8888888888888888,
              "#fdca26"
             ],
             [
              1,
              "#f0f921"
             ]
            ],
            "type": "histogram2d"
           }
          ],
          "histogram2dcontour": [
           {
            "colorbar": {
             "outlinewidth": 0,
             "ticks": ""
            },
            "colorscale": [
             [
              0,
              "#0d0887"
             ],
             [
              0.1111111111111111,
              "#46039f"
             ],
             [
              0.2222222222222222,
              "#7201a8"
             ],
             [
              0.3333333333333333,
              "#9c179e"
             ],
             [
              0.4444444444444444,
              "#bd3786"
             ],
             [
              0.5555555555555556,
              "#d8576b"
             ],
             [
              0.6666666666666666,
              "#ed7953"
             ],
             [
              0.7777777777777778,
              "#fb9f3a"
             ],
             [
              0.8888888888888888,
              "#fdca26"
             ],
             [
              1,
              "#f0f921"
             ]
            ],
            "type": "histogram2dcontour"
           }
          ],
          "mesh3d": [
           {
            "colorbar": {
             "outlinewidth": 0,
             "ticks": ""
            },
            "type": "mesh3d"
           }
          ],
          "parcoords": [
           {
            "line": {
             "colorbar": {
              "outlinewidth": 0,
              "ticks": ""
             }
            },
            "type": "parcoords"
           }
          ],
          "pie": [
           {
            "automargin": true,
            "type": "pie"
           }
          ],
          "scatter": [
           {
            "fillpattern": {
             "fillmode": "overlay",
             "size": 10,
             "solidity": 0.2
            },
            "type": "scatter"
           }
          ],
          "scatter3d": [
           {
            "line": {
             "colorbar": {
              "outlinewidth": 0,
              "ticks": ""
             }
            },
            "marker": {
             "colorbar": {
              "outlinewidth": 0,
              "ticks": ""
             }
            },
            "type": "scatter3d"
           }
          ],
          "scattercarpet": [
           {
            "marker": {
             "colorbar": {
              "outlinewidth": 0,
              "ticks": ""
             }
            },
            "type": "scattercarpet"
           }
          ],
          "scattergeo": [
           {
            "marker": {
             "colorbar": {
              "outlinewidth": 0,
              "ticks": ""
             }
            },
            "type": "scattergeo"
           }
          ],
          "scattergl": [
           {
            "marker": {
             "colorbar": {
              "outlinewidth": 0,
              "ticks": ""
             }
            },
            "type": "scattergl"
           }
          ],
          "scattermap": [
           {
            "marker": {
             "colorbar": {
              "outlinewidth": 0,
              "ticks": ""
             }
            },
            "type": "scattermap"
           }
          ],
          "scattermapbox": [
           {
            "marker": {
             "colorbar": {
              "outlinewidth": 0,
              "ticks": ""
             }
            },
            "type": "scattermapbox"
           }
          ],
          "scatterpolar": [
           {
            "marker": {
             "colorbar": {
              "outlinewidth": 0,
              "ticks": ""
             }
            },
            "type": "scatterpolar"
           }
          ],
          "scatterpolargl": [
           {
            "marker": {
             "colorbar": {
              "outlinewidth": 0,
              "ticks": ""
             }
            },
            "type": "scatterpolargl"
           }
          ],
          "scatterternary": [
           {
            "marker": {
             "colorbar": {
              "outlinewidth": 0,
              "ticks": ""
             }
            },
            "type": "scatterternary"
           }
          ],
          "surface": [
           {
            "colorbar": {
             "outlinewidth": 0,
             "ticks": ""
            },
            "colorscale": [
             [
              0,
              "#0d0887"
             ],
             [
              0.1111111111111111,
              "#46039f"
             ],
             [
              0.2222222222222222,
              "#7201a8"
             ],
             [
              0.3333333333333333,
              "#9c179e"
             ],
             [
              0.4444444444444444,
              "#bd3786"
             ],
             [
              0.5555555555555556,
              "#d8576b"
             ],
             [
              0.6666666666666666,
              "#ed7953"
             ],
             [
              0.7777777777777778,
              "#fb9f3a"
             ],
             [
              0.8888888888888888,
              "#fdca26"
             ],
             [
              1,
              "#f0f921"
             ]
            ],
            "type": "surface"
           }
          ],
          "table": [
           {
            "cells": {
             "fill": {
              "color": "#EBF0F8"
             },
             "line": {
              "color": "white"
             }
            },
            "header": {
             "fill": {
              "color": "#C8D4E3"
             },
             "line": {
              "color": "white"
             }
            },
            "type": "table"
           }
          ]
         },
         "layout": {
          "annotationdefaults": {
           "arrowcolor": "#2a3f5f",
           "arrowhead": 0,
           "arrowwidth": 1
          },
          "autotypenumbers": "strict",
          "coloraxis": {
           "colorbar": {
            "outlinewidth": 0,
            "ticks": ""
           }
          },
          "colorscale": {
           "diverging": [
            [
             0,
             "#8e0152"
            ],
            [
             0.1,
             "#c51b7d"
            ],
            [
             0.2,
             "#de77ae"
            ],
            [
             0.3,
             "#f1b6da"
            ],
            [
             0.4,
             "#fde0ef"
            ],
            [
             0.5,
             "#f7f7f7"
            ],
            [
             0.6,
             "#e6f5d0"
            ],
            [
             0.7,
             "#b8e186"
            ],
            [
             0.8,
             "#7fbc41"
            ],
            [
             0.9,
             "#4d9221"
            ],
            [
             1,
             "#276419"
            ]
           ],
           "sequential": [
            [
             0,
             "#0d0887"
            ],
            [
             0.1111111111111111,
             "#46039f"
            ],
            [
             0.2222222222222222,
             "#7201a8"
            ],
            [
             0.3333333333333333,
             "#9c179e"
            ],
            [
             0.4444444444444444,
             "#bd3786"
            ],
            [
             0.5555555555555556,
             "#d8576b"
            ],
            [
             0.6666666666666666,
             "#ed7953"
            ],
            [
             0.7777777777777778,
             "#fb9f3a"
            ],
            [
             0.8888888888888888,
             "#fdca26"
            ],
            [
             1,
             "#f0f921"
            ]
           ],
           "sequentialminus": [
            [
             0,
             "#0d0887"
            ],
            [
             0.1111111111111111,
             "#46039f"
            ],
            [
             0.2222222222222222,
             "#7201a8"
            ],
            [
             0.3333333333333333,
             "#9c179e"
            ],
            [
             0.4444444444444444,
             "#bd3786"
            ],
            [
             0.5555555555555556,
             "#d8576b"
            ],
            [
             0.6666666666666666,
             "#ed7953"
            ],
            [
             0.7777777777777778,
             "#fb9f3a"
            ],
            [
             0.8888888888888888,
             "#fdca26"
            ],
            [
             1,
             "#f0f921"
            ]
           ]
          },
          "colorway": [
           "#636efa",
           "#EF553B",
           "#00cc96",
           "#ab63fa",
           "#FFA15A",
           "#19d3f3",
           "#FF6692",
           "#B6E880",
           "#FF97FF",
           "#FECB52"
          ],
          "font": {
           "color": "#2a3f5f"
          },
          "geo": {
           "bgcolor": "white",
           "lakecolor": "white",
           "landcolor": "#E5ECF6",
           "showlakes": true,
           "showland": true,
           "subunitcolor": "white"
          },
          "hoverlabel": {
           "align": "left"
          },
          "hovermode": "closest",
          "mapbox": {
           "style": "light"
          },
          "paper_bgcolor": "white",
          "plot_bgcolor": "#E5ECF6",
          "polar": {
           "angularaxis": {
            "gridcolor": "white",
            "linecolor": "white",
            "ticks": ""
           },
           "bgcolor": "#E5ECF6",
           "radialaxis": {
            "gridcolor": "white",
            "linecolor": "white",
            "ticks": ""
           }
          },
          "scene": {
           "xaxis": {
            "backgroundcolor": "#E5ECF6",
            "gridcolor": "white",
            "gridwidth": 2,
            "linecolor": "white",
            "showbackground": true,
            "ticks": "",
            "zerolinecolor": "white"
           },
           "yaxis": {
            "backgroundcolor": "#E5ECF6",
            "gridcolor": "white",
            "gridwidth": 2,
            "linecolor": "white",
            "showbackground": true,
            "ticks": "",
            "zerolinecolor": "white"
           },
           "zaxis": {
            "backgroundcolor": "#E5ECF6",
            "gridcolor": "white",
            "gridwidth": 2,
            "linecolor": "white",
            "showbackground": true,
            "ticks": "",
            "zerolinecolor": "white"
           }
          },
          "shapedefaults": {
           "line": {
            "color": "#2a3f5f"
           }
          },
          "ternary": {
           "aaxis": {
            "gridcolor": "white",
            "linecolor": "white",
            "ticks": ""
           },
           "baxis": {
            "gridcolor": "white",
            "linecolor": "white",
            "ticks": ""
           },
           "bgcolor": "#E5ECF6",
           "caxis": {
            "gridcolor": "white",
            "linecolor": "white",
            "ticks": ""
           }
          },
          "title": {
           "x": 0.05
          },
          "xaxis": {
           "automargin": true,
           "gridcolor": "white",
           "linecolor": "white",
           "ticks": "",
           "title": {
            "standoff": 15
           },
           "zerolinecolor": "white",
           "zerolinewidth": 2
          },
          "yaxis": {
           "automargin": true,
           "gridcolor": "white",
           "linecolor": "white",
           "ticks": "",
           "title": {
            "standoff": 15
           },
           "zerolinecolor": "white",
           "zerolinewidth": 2
          }
         }
        },
        "xaxis": {
         "anchor": "y",
         "categoryarray": [
          "Cluster 0",
          "Cluster 1",
          "Cluster 2",
          "Cluster 3"
         ],
         "categoryorder": "array",
         "domain": [
          0,
          1
         ],
         "title": {
          "text": "Cluster"
         }
        },
        "xaxis2": {
         "anchor": "y2",
         "domain": [
          0,
          1
         ],
         "matches": "x",
         "showgrid": true,
         "showticklabels": false
        },
        "yaxis": {
         "anchor": "x",
         "domain": [
          0,
          0.7326
         ],
         "title": {
          "text": "count"
         }
        },
        "yaxis2": {
         "anchor": "x2",
         "domain": [
          0.7426,
          1
         ],
         "matches": "y2",
         "showgrid": false,
         "showline": false,
         "showticklabels": false,
         "ticks": ""
        }
       }
      }
     },
     "metadata": {},
     "output_type": "display_data"
    },
    {
     "name": "stdout",
     "output_type": "stream",
     "text": [
      "\n",
      "============================================================\n",
      "SEGMENT SIZES\n",
      "============================================================\n",
      "\n",
      "Cluster Cluster 0: 126 customers (28.6%)\n",
      "\n",
      "Cluster Cluster 1: 209 customers (47.5%)\n",
      "\n",
      "Cluster Cluster 2: 13 customers (3.0%)\n",
      "\n",
      "Cluster Cluster 3: 92 customers (20.9%)\n",
      "\n",
      "============================================================\n",
      "⚠ Unbalanced segments - focus on largest segments\n"
     ]
    }
   ],
   "source": [
    "print(\"=\" * 60)\n",
    "print(\"CUSTOMER SEGMENT DISTRIBUTION\")\n",
    "print(\"=\" * 60)\n",
    "\n",
    "# Plot distribution\n",
    "plot_model(kmeans_4, plot='distribution')\n",
    "\n",
    "# Summary statistics\n",
    "cluster_counts = clustered_df['Cluster'].value_counts().sort_index()\n",
    "cluster_pcts = (cluster_counts / len(clustered_df) * 100).round(1)\n",
    "\n",
    "print(\"\\n\" + \"=\" * 60)\n",
    "print(\"SEGMENT SIZES\")\n",
    "print(\"=\" * 60)\n",
    "for cluster_id in sorted(clustered_df['Cluster'].unique()):\n",
    "    count = cluster_counts[cluster_id]\n",
    "    pct = cluster_pcts[cluster_id]\n",
    "    print(f\"\\nCluster {cluster_id}: {count} customers ({pct}%)\")\n",
    "\n",
    "print(\"\\n\" + \"=\" * 60)\n",
    "if cluster_counts.std() < cluster_counts.mean() * 0.3:\n",
    "    print(\"✓ Balanced segments - good for broad strategies\")\n",
    "else:\n",
    "    print(\"⚠ Unbalanced segments - focus on largest segments\")"
   ]
  },
  {
   "cell_type": "markdown",
   "metadata": {},
   "source": [
    "---\n",
    "\n",
    "## Cell 14: Business Recommendations per Segment\n",
    "\n",
    "### What\n",
    "Creating actionable business recommendations for each customer segment.\n",
    "\n",
    "### Why\n",
    "The ultimate goal of clustering:\n",
    "- Translate patterns into actions\n",
    "- Segment-specific strategies\n",
    "- Measurable business outcomes\n",
    "\n",
    "### Technical Details\n",
    "Based on spending profiles, we'll suggest:\n",
    "- Marketing approaches\n",
    "- Product focus\n",
    "- Service levels\n",
    "- Pricing strategies\n",
    "\n",
    "### Expected Output\n",
    "Business recommendations for each discovered segment."
   ]
  },
  {
   "cell_type": "code",
   "execution_count": 14,
   "metadata": {},
   "outputs": [
    {
     "name": "stdout",
     "output_type": "stream",
     "text": [
      "============================================================\n",
      "BUSINESS RECOMMENDATIONS BY SEGMENT\n",
      "============================================================\n",
      "\n",
      "============================================================\n",
      "CLUSTER Cluster 0: 126 Customers (28.6%)\n",
      "============================================================\n",
      "\n",
      "Top 3 Spending Categories:\n",
      "  Grocery: $14,139\n",
      "  Milk: $8,874\n",
      "  Fresh: $8,130\n",
      "\n",
      "Recommended Actions:\n",
      "  📍 SEGMENT TYPE: Retail/Household Goods Focused\n",
      "  ✓ Marketing: Bulk discounts and loyalty programs\n",
      "  ✓ Inventory: Stock household essentials in volume\n",
      "  ✓ Service: Flexible delivery schedules\n",
      "\n",
      "============================================================\n",
      "CLUSTER Cluster 1: 209 Customers (47.5%)\n",
      "============================================================\n",
      "\n",
      "Top 3 Spending Categories:\n",
      "  Fresh: $13,298\n",
      "  Grocery: $3,741\n",
      "  Frozen: $3,437\n",
      "\n",
      "Recommended Actions:\n",
      "  📍 SEGMENT TYPE: Fresh Food Focused (Restaurants/Cafes)\n",
      "  ✓ Marketing: Emphasize fresh product quality and variety\n",
      "  ✓ Inventory: Ensure fresh product availability and fast turnover\n",
      "  ✓ Service: Priority delivery for perishables\n",
      "\n",
      "============================================================\n",
      "CLUSTER Cluster 2: 13 Customers (3.0%)\n",
      "============================================================\n",
      "\n",
      "Top 3 Spending Categories:\n",
      "  Grocery: $41,977\n",
      "  Milk: $35,160\n",
      "  Fresh: $25,771\n",
      "\n",
      "Recommended Actions:\n",
      "  📍 SEGMENT TYPE: Retail/Household Goods Focused\n",
      "  ✓ Marketing: Bulk discounts and loyalty programs\n",
      "  ✓ Inventory: Stock household essentials in volume\n",
      "  ✓ Service: Flexible delivery schedules\n",
      "\n",
      "============================================================\n",
      "CLUSTER Cluster 3: 92 Customers (20.9%)\n",
      "============================================================\n",
      "\n",
      "Top 3 Spending Categories:\n",
      "  Fresh: $12,407\n",
      "  Grocery: $4,234\n",
      "  Frozen: $4,082\n",
      "\n",
      "Recommended Actions:\n",
      "  📍 SEGMENT TYPE: Fresh Food Focused (Restaurants/Cafes)\n",
      "  ✓ Marketing: Emphasize fresh product quality and variety\n",
      "  ✓ Inventory: Ensure fresh product availability and fast turnover\n",
      "  ✓ Service: Priority delivery for perishables\n",
      "\n",
      "============================================================\n",
      "IMPLEMENTATION STRATEGY\n",
      "============================================================\n",
      "\n",
      "1. Assign sales team members to specific segments\n",
      "2. Create segment-specific marketing materials\n",
      "3. Adjust inventory based on segment demand\n",
      "4. Track segment profitability and satisfaction\n",
      "5. Refine segments quarterly with new data\n"
     ]
    }
   ],
   "source": [
    "print(\"=\" * 60)\n",
    "print(\"BUSINESS RECOMMENDATIONS BY SEGMENT\")\n",
    "print(\"=\" * 60)\n",
    "\n",
    "for cluster_id in sorted(clustered_df['Cluster'].unique()):\n",
    "    profile = cluster_profiles.loc[cluster_id]\n",
    "    size = len(clustered_df[clustered_df['Cluster'] == cluster_id])\n",
    "    top_3_categories = profile.nlargest(3)\n",
    "    \n",
    "    print(f\"\\n{'='*60}\")\n",
    "    print(f\"CLUSTER {cluster_id}: {size} Customers ({size/len(clustered_df)*100:.1f}%)\")\n",
    "    print(f\"{'='*60}\")\n",
    "    \n",
    "    print(f\"\\nTop 3 Spending Categories:\")\n",
    "    for cat, amount in top_3_categories.items():\n",
    "        print(f\"  {cat}: ${amount:,.0f}\")\n",
    "    \n",
    "    print(f\"\\nRecommended Actions:\")\n",
    "    \n",
    "    # Generate recommendations based on profile\n",
    "    if profile['Fresh'] > profile.mean() * 1.5:\n",
    "        print(\"  📍 SEGMENT TYPE: Fresh Food Focused (Restaurants/Cafes)\")\n",
    "        print(\"  ✓ Marketing: Emphasize fresh product quality and variety\")\n",
    "        print(\"  ✓ Inventory: Ensure fresh product availability and fast turnover\")\n",
    "        print(\"  ✓ Service: Priority delivery for perishables\")\n",
    "    elif profile[['Grocery', 'Milk', 'Detergents_Paper']].mean() > profile.mean():\n",
    "        print(\"  📍 SEGMENT TYPE: Retail/Household Goods Focused\")\n",
    "        print(\"  ✓ Marketing: Bulk discounts and loyalty programs\")\n",
    "        print(\"  ✓ Inventory: Stock household essentials in volume\")\n",
    "        print(\"  ✓ Service: Flexible delivery schedules\")\n",
    "    elif profile['Frozen'] > profile.mean() * 1.2:\n",
    "        print(\"  📍 SEGMENT TYPE: Frozen Products Specialist\")\n",
    "        print(\"  ✓ Marketing: Highlight frozen product range and storage\")\n",
    "        print(\"  ✓ Inventory: Expand frozen category offerings\")\n",
    "        print(\"  ✓ Service: Ensure cold chain integrity\")\n",
    "    else:\n",
    "        print(\"  📍 SEGMENT TYPE: Diversified/Balanced Customers\")\n",
    "        print(\"  ✓ Marketing: Cross-category promotions\")\n",
    "        print(\"  ✓ Inventory: Maintain balanced stock levels\")\n",
    "        print(\"  ✓ Service: Standard delivery options\")\n",
    "\n",
    "print(\"\\n\" + \"=\" * 60)\n",
    "print(\"IMPLEMENTATION STRATEGY\")\n",
    "print(\"=\" * 60)\n",
    "print(\"\\n1. Assign sales team members to specific segments\")\n",
    "print(\"2. Create segment-specific marketing materials\")\n",
    "print(\"3. Adjust inventory based on segment demand\")\n",
    "print(\"4. Track segment profitability and satisfaction\")\n",
    "print(\"5. Refine segments quarterly with new data\")"
   ]
  },
  {
   "cell_type": "markdown",
   "metadata": {},
   "source": [
    "---\n",
    "\n",
    "## Cell 15: Save Clustering Model\n",
    "\n",
    "### What\n",
    "Saving the trained clustering model for future use.\n",
    "\n",
    "### Why\n",
    "The model can be used to:\n",
    "- Assign new customers to existing segments\n",
    "- Monitor segment drift over time\n",
    "- Integrate into CRM systems\n",
    "- Automate segmentation\n",
    "\n",
    "### Technical Details\n",
    "Saved model includes:\n",
    "- Trained clustering algorithm\n",
    "- Preprocessing steps (normalization)\n",
    "- Cluster centers\n",
    "\n",
    "### Expected Output\n",
    "Model file saved and ready for deployment."
   ]
  },
  {
   "cell_type": "code",
   "execution_count": 15,
   "metadata": {},
   "outputs": [
    {
     "name": "stdout",
     "output_type": "stream",
     "text": [
      "============================================================\n",
      "SAVING CUSTOMER SEGMENTATION MODEL\n",
      "============================================================\n",
      "Transformation Pipeline and Model Successfully Saved\n",
      "\n",
      "✓ Model saved as 'customer_segmentation_model.pkl'\n",
      "\n",
      "============================================================\n",
      "DEPLOYMENT APPLICATIONS\n",
      "============================================================\n",
      "\n",
      "1. Assign new customers to segments automatically\n",
      "2. Integrate with CRM for personalized service\n",
      "3. Power targeted marketing campaigns\n",
      "4. Optimize inventory by segment\n",
      "5. Track segment evolution over time\n",
      "\n",
      "============================================================\n",
      "TO USE THE MODEL\n",
      "============================================================\n",
      "\n",
      "```python\n",
      "from pycaret.clustering import load_model, predict_model\n",
      "model = load_model('customer_segmentation_model')\n",
      "segment = predict_model(model, data=new_customer)\n",
      "```\n",
      "\n",
      "✓ Segmented customer data exported to 'segmented_customers.csv'\n"
     ]
    }
   ],
   "source": [
    "print(\"=\" * 60)\n",
    "print(\"SAVING CUSTOMER SEGMENTATION MODEL\")\n",
    "print(\"=\" * 60)\n",
    "\n",
    "# Save the model\n",
    "model_name = 'customer_segmentation_model'\n",
    "save_model(kmeans_4, model_name)\n",
    "\n",
    "print(f\"\\n✓ Model saved as '{model_name}.pkl'\")\n",
    "\n",
    "print(\"\\n\" + \"=\" * 60)\n",
    "print(\"DEPLOYMENT APPLICATIONS\")\n",
    "print(\"=\" * 60)\n",
    "print(\"\\n1. Assign new customers to segments automatically\")\n",
    "print(\"2. Integrate with CRM for personalized service\")\n",
    "print(\"3. Power targeted marketing campaigns\")\n",
    "print(\"4. Optimize inventory by segment\")\n",
    "print(\"5. Track segment evolution over time\")\n",
    "\n",
    "print(\"\\n\" + \"=\" * 60)\n",
    "print(\"TO USE THE MODEL\")\n",
    "print(\"=\" * 60)\n",
    "print(\"\\n```python\")\n",
    "print(\"from pycaret.clustering import load_model, predict_model\")\n",
    "print(f\"model = load_model('{model_name}')\")\n",
    "print(\"segment = predict_model(model, data=new_customer)\")\n",
    "print(\"```\")\n",
    "\n",
    "# Export segmented customers\n",
    "clustered_df.to_csv('segmented_customers.csv', index=False)\n",
    "print(\"\\n✓ Segmented customer data exported to 'segmented_customers.csv'\")"
   ]
  },
  {
   "cell_type": "markdown",
   "metadata": {},
   "source": [
    "---\n",
    "\n",
    "## Conclusions and Key Takeaways\n",
    "\n",
    "### What We Accomplished\n",
    "\n",
    "1. **Unsupervised Learning**: Discovered natural customer segments without labeled data\n",
    "2. **Customer Segmentation**: Grouped 440 customers into meaningful segments\n",
    "3. **Cluster Profiling**: Identified unique characteristics of each segment\n",
    "4. **Business Insights**: Created actionable recommendations per segment\n",
    "5. **Model Deployment**: Saved model for ongoing segmentation\n",
    "\n",
    "### Key Learnings\n",
    "\n",
    "#### Unsupervised vs Supervised Learning\n",
    "\n",
    "| Aspect | Supervised | Unsupervised (Clustering) |\n",
    "|--------|-----------|---------------------------|\n",
    "| Labels | Have target variable | No labels - discover patterns |\n",
    "| Goal | Predict outcomes | Find natural groupings |\n",
    "| Evaluation | Accuracy, RMSE | Silhouette, Davies-Bouldin |\n",
    "| Train/Test | Split data | Use all data |\n",
    "| Example | \"Predict cost\" | \"Find customer types\" |\n",
    "\n",
    "#### Technical Skills\n",
    "- **Clustering Algorithms**: KMeans, Hierarchical, DBSCAN\n",
    "- **Optimal K Selection**: Elbow method, Silhouette analysis\n",
    "- **Cluster Evaluation**: Internal metrics (no ground truth)\n",
    "- **Dimensionality Reduction**: PCA for visualization\n",
    "- **Feature Normalization**: Critical for distance-based clustering\n",
    "- **Cluster Profiling**: Understanding segment characteristics\n",
    "\n",
    "#### Business Applications\n",
    "- **Marketing**: Segment-specific campaigns\n",
    "- **Sales**: Targeted account management\n",
    "- **Inventory**: Demand-based stocking\n",
    "- **Pricing**: Segment-based strategies\n",
    "- **Service**: Tiered service levels\n",
    "\n",
    "### Clustering Metrics Explained\n",
    "\n",
    "**Silhouette Score** (0-1, higher better):\n",
    "- Measures how similar a point is to its own cluster vs other clusters\n",
    "- >0.7: Strong structure\n",
    "- 0.5-0.7: Reasonable structure\n",
    "- <0.5: Weak or artificial structure\n",
    "\n",
    "**Calinski-Harabasz Index** (higher better):\n",
    "- Ratio of between-cluster to within-cluster variance\n",
    "- Higher = more distinct, well-separated clusters\n",
    "\n",
    "**Davies-Bouldin Index** (lower better):\n",
    "- Average similarity between each cluster and its most similar cluster\n",
    "- Lower = better separation\n",
    "\n",
    "### Business Value Achieved\n",
    "\n",
    "1. **Customer Understanding**:\n",
    "   - Identified distinct customer types\n",
    "   - Understood purchasing patterns\n",
    "   - Revealed segment opportunities\n",
    "\n",
    "2. **Operational Efficiency**:\n",
    "   - Optimize inventory by segment\n",
    "   - Target marketing efforts\n",
    "   - Personalize service delivery\n",
    "\n",
    "3. **Revenue Growth**:\n",
    "   - Cross-sell/upsell opportunities\n",
    "   - Segment-specific pricing\n",
    "   - Reduce customer churn\n",
    "\n",
    "### Limitations and Considerations\n",
    "\n",
    "1. **Current Limitations**:\n",
    "   - Only spending data (no demographics, geography details)\n",
    "   - Single time snapshot (no temporal patterns)\n",
    "   - Assumes stable segments over time\n",
    "\n",
    "2. **Important Notes**:\n",
    "   - Segments may overlap (fuzzy boundaries)\n",
    "   - Customers can move between segments\n",
    "   - Regular re-clustering needed\n",
    "   - Business context essential for naming\n",
    "\n",
    "3. **Future Improvements**:\n",
    "   - Add temporal data (seasonality, trends)\n",
    "   - Include customer demographics\n",
    "   - Geographic segmentation\n",
    "   - Predictive segment migration\n",
    "\n",
    "### Comparison with Classification\n",
    "\n",
    "**When to Use Clustering**:\n",
    "- No predefined categories\n",
    "- Exploratory data analysis\n",
    "- Discovering hidden patterns\n",
    "- Customer segmentation\n",
    "\n",
    "**When to Use Classification**:\n",
    "- Have labeled data\n",
    "- Predicting known outcomes\n",
    "- Clear target variable\n",
    "- Disease diagnosis, fraud detection\n",
    "\n",
    "### Resources for Further Learning\n",
    "\n",
    "- [PyCaret Clustering Tutorial](https://pycaret.gitbook.io/docs/get-started/tutorials/clustering)\n",
    "- [Scikit-learn Clustering](https://scikit-learn.org/stable/modules/clustering.html)\n",
    "- [Customer Segmentation Best Practices](https://www.kaggle.com/learn)\n",
    "\n",
    "---\n",
    "\n",
    "**Author**: Bala Anbalagan  \n",
    "**Date**: January 2025  \n",
    "**Dataset**: [Kaggle - Wholesale Customers Dataset](https://www.kaggle.com/binovi/wholesale-customers-data-set)  \n",
    "**Original**: UCI Machine Learning Repository  \n",
    "**License**: MIT  \n",
    "\n",
    "---\n",
    "\n",
    "## Thank you for following this clustering tutorial!\n",
    "\n",
    "**Key Achievement**: We discovered meaningful customer segments from unlabeled data using unsupervised learning!\n",
    "\n",
    "**Main Insight**: Different customer types exist with distinct purchasing patterns - restaurants vs retail vs specialized customers.\n",
    "\n",
    "**Next Steps**:\n",
    "- Apply to your own customer data\n",
    "- Experiment with different K values\n",
    "- Implement segment-specific strategies\n",
    "\n",
    "**Disclaimer**: This is for educational purposes. Real-world segmentation should include additional customer data, domain expertise, and business validation."
   ]
  }
 ],
 "metadata": {
  "kernelspec": {
   "display_name": "venv",
   "language": "python",
   "name": "python3"
  },
  "language_info": {
   "codemirror_mode": {
    "name": "ipython",
    "version": 3
   },
   "file_extension": ".py",
   "mimetype": "text/x-python",
   "name": "python",
   "nbconvert_exporter": "python",
   "pygments_lexer": "ipython3",
   "version": "3.9.6"
  }
 },
 "nbformat": 4,
 "nbformat_minor": 4
}
