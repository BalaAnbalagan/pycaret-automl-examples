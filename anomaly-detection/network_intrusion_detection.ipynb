{
 "cells": [
  {
   "cell_type": "markdown",
   "metadata": {},
   "source": [
    "---\n",
    "\n",
    "## Cell 0: Setup Virtual Environment (Local Environment Only)\n",
    "\n",
    "### What\n",
    "We're creating a dedicated virtual environment for this project to isolate dependencies and ensure reproducibility.\n",
    "\n",
    "### Why\n",
    "Using a virtual environment is a best practice because:\n",
    "- Isolates project dependencies from system Python\n",
    "- Prevents version conflicts with other projects\n",
    "- Makes the project portable and reproducible\n",
    "- Allows specific package versions without affecting other projects\n",
    "\n",
    "### Technical Details\n",
    "**For Local Development**:\n",
    "1. Create a virtual environment using Python 3.9+\n",
    "2. Activate the virtual environment\n",
    "3. Install PyCaret with specific compatible versions\n",
    "\n",
    "**For Google Colab**: Skip this cell (Colab manages its own environment)\n",
    "\n",
    "### Instructions\n",
    "\n",
    "**Option 1: Using venv (recommended)**\n",
    "```bash\n",
    "# Navigate to your project directory\n",
    "cd /Users/banbalagan/Projects/pycaret-automl-examples\n",
    "\n",
    "# Create virtual environment\n",
    "python3.9 -m venv venv\n",
    "\n",
    "# Activate virtual environment\n",
    "# On macOS/Linux:\n",
    "source venv/bin/activate\n",
    "# On Windows:\n",
    "# venv\\Scripts\\activate\n",
    "\n",
    "# Verify Python version\n",
    "python --version\n",
    "\n",
    "# Continue to next cell for package installation\n",
    "```\n",
    "\n",
    "**Option 2: Using conda**\n",
    "```bash\n",
    "# Create conda environment\n",
    "conda create -n pycaret-env python=3.9 -y\n",
    "\n",
    "# Activate environment\n",
    "conda activate pycaret-env\n",
    "```\n",
    "\n",
    "### Expected Output\n",
    "After activation, your terminal prompt should show `(venv)` or `(pycaret-env)` prefix, indicating the virtual environment is active.\n",
    "\n",
    "### Important Notes\n",
    "- Run this in your terminal BEFORE opening Jupyter Notebook\n",
    "- After creating/activating the virtual environment, install Jupyter in it:\n",
    "  ```bash\n",
    "  pip install jupyter notebook\n",
    "  ```\n",
    "- Then launch Jupyter from within the activated environment:\n",
    "  ```bash\n",
    "  jupyter notebook\n",
    "  ```\n",
    "- Select the kernel that corresponds to your virtual environment in Jupyter"
   ]
  },
  {
   "cell_type": "markdown",
   "metadata": {},
   "source": [
    "---\n",
    "\n",
    "## Cell 1: Install and Import Required Libraries\n",
    "\n",
    "### What\n",
    "We're installing PyCaret with compatible dependencies and importing all necessary Python libraries for our analysis.\n",
    "\n",
    "### Why\n",
    "Google Colab comes with pre-installed packages that can conflict with PyCaret's dependencies. For local environments, we install specific package versions to ensure stability and reproducibility.\n",
    "\n",
    "### Technical Details\n",
    "- **Google Colab**: Install compatible versions to avoid runtime crashes\n",
    "- **Local Environment**: Install PyCaret with specific versions (Option 2 - recommended)\n",
    "- Import all necessary libraries for data analysis and machine learning\n",
    "\n",
    "### Expected Output\n",
    "- **Google Colab**: Installation messages and a reminder to restart the runtime\n",
    "- **Local Environment**: Clean installation of all required packages\n",
    "\n",
    "### IMPORTANT (Google Colab Users)\n",
    "⚠️ After running this cell in Colab, you MUST restart the runtime:\n",
    "- Click: **Runtime → Restart runtime** (or Ctrl+M .)\n",
    "- After restart, skip this cell and run all other cells normally"
   ]
  },
  {
   "cell_type": "code",
   "execution_count": 17,
   "metadata": {},
   "outputs": [
    {
     "name": "stdout",
     "output_type": "stream",
     "text": [
      "============================================================\n",
      "📍 Local Environment Detected\n",
      "============================================================\n",
      "Installing PyCaret with specific compatible versions...\n",
      "Using Option 2: Controlled dependency installation\n",
      "\n",
      "Step 1/4: Installing base packages...\n",
      "zsh:1: 1.23.0, not found\n",
      "Step 2/4: Installing PyCaret...\n",
      "Step 3/4: Installing additional ML libraries...\n",
      "Step 4/4: Installing notebook support packages...\n",
      "\n",
      "============================================================\n",
      "✅ Installation Complete!\n",
      "============================================================\n",
      "All packages installed successfully in your virtual environment.\n",
      "You can now proceed with running the rest of the notebook.\n",
      "============================================================\n",
      "\n",
      "📚 Importing libraries...\n",
      "\n",
      "✓ Libraries imported successfully!\n",
      "   - Python version: 3.9.6\n",
      "   - Pandas version: 2.1.4\n",
      "   - NumPy version: 1.26.4\n",
      "   - Working directory: /Users/banbalagan/Projects/pycaret-automl-examples/anomaly-detection\n",
      "   - Virtual environment: Active ✓\n",
      "   - Environment path: /Users/banbalagan/Projects/pycaret-automl-examples/venv\n",
      "\n",
      "============================================================\n"
     ]
    }
   ],
   "source": [
    "# ============================================================\n",
    "# INSTALLATION CELL - Environment Detection & Package Setup\n",
    "# ============================================================\n",
    "\n",
    "import sys\n",
    "import os\n",
    "\n",
    "# Check if running in Colab\n",
    "IN_COLAB = 'google.colab' in sys.modules\n",
    "\n",
    "if IN_COLAB:\n",
    "    print(\"=\" * 60)\n",
    "    print(\"🔧 Google Colab Detected\")\n",
    "    print(\"=\" * 60)\n",
    "    print(\"📦 Installing PyCaret with compatible dependencies...\")\n",
    "    print(\"⏳ This will take 2-3 minutes, please be patient...\")\n",
    "\n",
    "    # Upgrade pip first\n",
    "    !pip install -q --upgrade pip\n",
    "\n",
    "    # Install compatible base packages FIRST (prevents conflicts)\n",
    "    print(\"Step 1/3: Installing base packages with compatible versions...\")\n",
    "    !pip install -q --upgrade \\\n",
    "        numpy>=1.23.0,<2.0.0 \\\n",
    "        pandas>=2.0.0,<2.3.0 \\\n",
    "        scipy>=1.10.0,<1.14.0 \\\n",
    "        scikit-learn>=1.3.0,<1.6.0 \\\n",
    "        matplotlib>=3.7.0,<3.9.0\n",
    "\n",
    "    # Install PyCaret (will use already installed base packages)\n",
    "    print(\"Step 2/3: Installing PyCaret...\")\n",
    "    !pip install -q pycaret\n",
    "\n",
    "    # Install additional ML packages\n",
    "    print(\"Step 3/3: Installing additional ML packages...\")\n",
    "    !pip install -q \\\n",
    "        category-encoders \\\n",
    "        lightgbm \\\n",
    "        xgboost \\\n",
    "        catboost \\\n",
    "        optuna \\\n",
    "        plotly \\\n",
    "        kaleido\n",
    "\n",
    "    print(\"\\n\" + \"=\" * 60)\n",
    "    print(\"✅ Installation Complete!\")\n",
    "    print(\"=\" * 60)\n",
    "    print(\"⚠️  CRITICAL: You MUST restart the runtime now!\")\n",
    "    print(\"   👉 Click: Runtime → Restart runtime (or Ctrl+M .)\")\n",
    "    print(\"🔄 After restart:\")\n",
    "    print(\"   1. Skip this installation cell\")\n",
    "    print(\"   2. Run all other cells normally\")\n",
    "    print(\"   3. Everything will work without crashes!\")\n",
    "    print(\"=\" * 60)\n",
    "\n",
    "else:\n",
    "    print(\"=\" * 60)\n",
    "    print(\"📍 Local Environment Detected\")\n",
    "    print(\"=\" * 60)\n",
    "    print(\"Installing PyCaret with specific compatible versions...\")\n",
    "    print(\"Using Option 2: Controlled dependency installation\\n\")\n",
    "    \n",
    "    # Upgrade pip first\n",
    "    !pip install -q --upgrade pip\n",
    "    \n",
    "    # Install base packages with specific versions (Option 2)\n",
    "    print(\"Step 1/4: Installing base packages...\")\n",
    "    !pip install -q \\\n",
    "        numpy>=1.23.0,<2.0.0 \\\n",
    "        pandas>=2.0.0,<2.3.0 \\\n",
    "        scipy>=1.10.0,<1.14.0 \\\n",
    "        scikit-learn>=1.3.0,<1.6.0 \\\n",
    "        matplotlib>=3.7.0,<3.9.0 \\\n",
    "        seaborn>=0.12.0\n",
    "    \n",
    "    # Install PyCaret\n",
    "    print(\"Step 2/4: Installing PyCaret...\")\n",
    "    !pip install -q pycaret\n",
    "    \n",
    "    # Install additional ML packages\n",
    "    print(\"Step 3/4: Installing additional ML libraries...\")\n",
    "    !pip install -q \\\n",
    "        category-encoders \\\n",
    "        lightgbm \\\n",
    "        xgboost \\\n",
    "        catboost \\\n",
    "        optuna \\\n",
    "        plotly \\\n",
    "        kaleido\n",
    "    \n",
    "    # Install notebook support packages\n",
    "    print(\"Step 4/4: Installing notebook support packages...\")\n",
    "    !pip install -q ipywidgets\n",
    "    \n",
    "    print(\"\\n\" + \"=\" * 60)\n",
    "    print(\"✅ Installation Complete!\")\n",
    "    print(\"=\" * 60)\n",
    "    print(\"All packages installed successfully in your virtual environment.\")\n",
    "    print(\"You can now proceed with running the rest of the notebook.\")\n",
    "    print(\"=\" * 60)\n",
    "\n",
    "# Import libraries after installation\n",
    "print(\"\\n📚 Importing libraries...\")\n",
    "import pandas as pd\n",
    "import numpy as np\n",
    "import matplotlib.pyplot as plt\n",
    "import seaborn as sns\n",
    "import warnings\n",
    "warnings.filterwarnings('ignore')\n",
    "\n",
    "# Set visualization style\n",
    "sns.set_style('whitegrid')\n",
    "plt.rcParams['figure.figsize'] = (10, 6)\n",
    "\n",
    "print(\"\\n✓ Libraries imported successfully!\")\n",
    "print(f\"   - Python version: {sys.version.split()[0]}\")\n",
    "print(f\"   - Pandas version: {pd.__version__}\")\n",
    "print(f\"   - NumPy version: {np.__version__}\")\n",
    "print(f\"   - Working directory: {os.getcwd()}\")\n",
    "\n",
    "# Check if running in virtual environment\n",
    "if hasattr(sys, 'real_prefix') or (hasattr(sys, 'base_prefix') and sys.base_prefix != sys.prefix):\n",
    "    print(f\"   - Virtual environment: Active ✓\")\n",
    "    print(f\"   - Environment path: {sys.prefix}\")\n",
    "else:\n",
    "    print(\"   - Virtual environment: Not detected (consider using venv)\")\n",
    "    \n",
    "print(\"\\n\" + \"=\" * 60)"
   ]
  },
  {
   "cell_type": "markdown",
   "metadata": {},
   "source": [
    "---\n",
    "\n",
    "## Cell 2: Load Network Traffic Dataset\n",
    "\n",
    "### What\n",
    "Loading network traffic data for anomaly detection.\n",
    "\n",
    "### Why\n",
    "For demonstration, we'll create synthetic network traffic data with normal and anomalous patterns. In production:\n",
    "- Real-time network packet capture\n",
    "- Feature extraction from flow data\n",
    "- Continuous monitoring\n",
    "\n",
    "### Technical Details\n",
    "- **Local Environment**: Can load from local PCAP/CSV files if available\n",
    "- **Google Colab & Demo**: Creates synthetic network traffic data\n",
    "- Network traffic features capture flow characteristics that can reveal attacks\n",
    "\n",
    "### Dataset Locations\n",
    "- **Local Path**: `/Users/banbalagan/Projects/pycaret-automl-examples/datasets/anomaly-detection/BCCC-CIC-IDS2017/BCCC-CIC-IDS-2017/` (multiple CSV files)\n",
    "- **Demo Mode**: Synthetic data generation for educational purposes\n",
    "\n",
    "### Expected Output\n",
    "Dataset loaded with network flow features."
   ]
  },
  {
   "cell_type": "code",
   "execution_count": 18,
   "metadata": {},
   "outputs": [
    {
     "name": "stdout",
     "output_type": "stream",
     "text": [
      "============================================================\n",
      "📂 Loading dataset from local directory...\n",
      "============================================================\n",
      "Path: /Users/banbalagan/Projects/pycaret-automl-examples/datasets/anomaly-detection/BCCC-CIC-IDS2017/BCCC-CIC-IDS-2017/\n",
      "\n",
      "Found 18 CSV file(s)\n",
      "\n",
      "Loading first file as sample...\n",
      "✓ Dataset loaded successfully from: portscan.csv\n",
      "  (Loaded first 1000 rows for demonstration)\n",
      "\n",
      "🧹 Cleaning data...\n",
      "  - Found 'label' column (converted to true_anomaly)\n",
      "  - Keeping 115 numeric features\n",
      "  - Cleaned 115 numeric features\n",
      "\n",
      "============================================================\n",
      "DATASET INFORMATION\n",
      "============================================================\n",
      "Shape: 1000 network flows, 115 features\n",
      "Memory usage: 898.56 KB\n",
      "\n",
      "True distribution (for evaluation):\n",
      "- Normal traffic: 0\n",
      "- Anomalous traffic: 1000\n",
      "\n",
      "============================================================\n",
      "FIRST 5 ROWS\n",
      "============================================================\n"
     ]
    },
    {
     "data": {
      "text/html": [
       "<div>\n",
       "<style scoped>\n",
       "    .dataframe tbody tr th:only-of-type {\n",
       "        vertical-align: middle;\n",
       "    }\n",
       "\n",
       "    .dataframe tbody tr th {\n",
       "        vertical-align: top;\n",
       "    }\n",
       "\n",
       "    .dataframe thead th {\n",
       "        text-align: right;\n",
       "    }\n",
       "</style>\n",
       "<table border=\"1\" class=\"dataframe\">\n",
       "  <thead>\n",
       "    <tr style=\"text-align: right;\">\n",
       "      <th></th>\n",
       "      <th>duration</th>\n",
       "      <th>packets_count</th>\n",
       "      <th>fwd_packets_count</th>\n",
       "      <th>bwd_packets_count</th>\n",
       "      <th>total_payload_bytes</th>\n",
       "      <th>fwd_total_payload_bytes</th>\n",
       "      <th>bwd_total_payload_bytes</th>\n",
       "      <th>payload_bytes_max</th>\n",
       "      <th>payload_bytes_min</th>\n",
       "      <th>payload_bytes_mean</th>\n",
       "      <th>...</th>\n",
       "      <th>bwd_packets_IAT_mean</th>\n",
       "      <th>bwd_packets_IAT_std</th>\n",
       "      <th>bwd_packets_IAT_max</th>\n",
       "      <th>bwd_packets_IAT_min</th>\n",
       "      <th>bwd_packets_IAT_total</th>\n",
       "      <th>subflow_fwd_packets</th>\n",
       "      <th>subflow_bwd_packets</th>\n",
       "      <th>subflow_fwd_bytes</th>\n",
       "      <th>subflow_bwd_bytes</th>\n",
       "      <th>true_anomaly</th>\n",
       "    </tr>\n",
       "  </thead>\n",
       "  <tbody>\n",
       "    <tr>\n",
       "      <th>0</th>\n",
       "      <td>0.003921</td>\n",
       "      <td>7</td>\n",
       "      <td>4</td>\n",
       "      <td>3</td>\n",
       "      <td>20</td>\n",
       "      <td>0</td>\n",
       "      <td>20</td>\n",
       "      <td>20</td>\n",
       "      <td>0</td>\n",
       "      <td>2.857143</td>\n",
       "      <td>...</td>\n",
       "      <td>0.001898</td>\n",
       "      <td>0.000871</td>\n",
       "      <td>0.002769</td>\n",
       "      <td>0.001028</td>\n",
       "      <td>0.003797</td>\n",
       "      <td>0.0</td>\n",
       "      <td>0.0</td>\n",
       "      <td>0.0</td>\n",
       "      <td>0.0</td>\n",
       "      <td>1</td>\n",
       "    </tr>\n",
       "    <tr>\n",
       "      <th>1</th>\n",
       "      <td>0.011778</td>\n",
       "      <td>7</td>\n",
       "      <td>4</td>\n",
       "      <td>3</td>\n",
       "      <td>41</td>\n",
       "      <td>0</td>\n",
       "      <td>41</td>\n",
       "      <td>41</td>\n",
       "      <td>0</td>\n",
       "      <td>5.857143</td>\n",
       "      <td>...</td>\n",
       "      <td>0.005830</td>\n",
       "      <td>0.003743</td>\n",
       "      <td>0.009573</td>\n",
       "      <td>0.002087</td>\n",
       "      <td>0.011660</td>\n",
       "      <td>0.0</td>\n",
       "      <td>0.0</td>\n",
       "      <td>0.0</td>\n",
       "      <td>0.0</td>\n",
       "      <td>1</td>\n",
       "    </tr>\n",
       "    <tr>\n",
       "      <th>2</th>\n",
       "      <td>0.004274</td>\n",
       "      <td>7</td>\n",
       "      <td>4</td>\n",
       "      <td>3</td>\n",
       "      <td>20</td>\n",
       "      <td>0</td>\n",
       "      <td>20</td>\n",
       "      <td>20</td>\n",
       "      <td>0</td>\n",
       "      <td>2.857143</td>\n",
       "      <td>...</td>\n",
       "      <td>0.002071</td>\n",
       "      <td>0.000948</td>\n",
       "      <td>0.003019</td>\n",
       "      <td>0.001124</td>\n",
       "      <td>0.004143</td>\n",
       "      <td>0.0</td>\n",
       "      <td>0.0</td>\n",
       "      <td>0.0</td>\n",
       "      <td>0.0</td>\n",
       "      <td>1</td>\n",
       "    </tr>\n",
       "    <tr>\n",
       "      <th>3</th>\n",
       "      <td>0.011113</td>\n",
       "      <td>7</td>\n",
       "      <td>4</td>\n",
       "      <td>3</td>\n",
       "      <td>41</td>\n",
       "      <td>0</td>\n",
       "      <td>41</td>\n",
       "      <td>41</td>\n",
       "      <td>0</td>\n",
       "      <td>5.857143</td>\n",
       "      <td>...</td>\n",
       "      <td>0.005488</td>\n",
       "      <td>0.003066</td>\n",
       "      <td>0.008554</td>\n",
       "      <td>0.002422</td>\n",
       "      <td>0.010976</td>\n",
       "      <td>0.0</td>\n",
       "      <td>0.0</td>\n",
       "      <td>0.0</td>\n",
       "      <td>0.0</td>\n",
       "      <td>1</td>\n",
       "    </tr>\n",
       "    <tr>\n",
       "      <th>4</th>\n",
       "      <td>0.004356</td>\n",
       "      <td>7</td>\n",
       "      <td>4</td>\n",
       "      <td>3</td>\n",
       "      <td>20</td>\n",
       "      <td>0</td>\n",
       "      <td>20</td>\n",
       "      <td>20</td>\n",
       "      <td>0</td>\n",
       "      <td>2.857143</td>\n",
       "      <td>...</td>\n",
       "      <td>0.002154</td>\n",
       "      <td>0.001104</td>\n",
       "      <td>0.003257</td>\n",
       "      <td>0.001050</td>\n",
       "      <td>0.004307</td>\n",
       "      <td>0.0</td>\n",
       "      <td>0.0</td>\n",
       "      <td>0.0</td>\n",
       "      <td>0.0</td>\n",
       "      <td>1</td>\n",
       "    </tr>\n",
       "  </tbody>\n",
       "</table>\n",
       "<p>5 rows × 115 columns</p>\n",
       "</div>"
      ],
      "text/plain": [
       "   duration  packets_count  fwd_packets_count  bwd_packets_count  \\\n",
       "0  0.003921              7                  4                  3   \n",
       "1  0.011778              7                  4                  3   \n",
       "2  0.004274              7                  4                  3   \n",
       "3  0.011113              7                  4                  3   \n",
       "4  0.004356              7                  4                  3   \n",
       "\n",
       "   total_payload_bytes  fwd_total_payload_bytes  bwd_total_payload_bytes  \\\n",
       "0                   20                        0                       20   \n",
       "1                   41                        0                       41   \n",
       "2                   20                        0                       20   \n",
       "3                   41                        0                       41   \n",
       "4                   20                        0                       20   \n",
       "\n",
       "   payload_bytes_max  payload_bytes_min  payload_bytes_mean  ...  \\\n",
       "0                 20                  0            2.857143  ...   \n",
       "1                 41                  0            5.857143  ...   \n",
       "2                 20                  0            2.857143  ...   \n",
       "3                 41                  0            5.857143  ...   \n",
       "4                 20                  0            2.857143  ...   \n",
       "\n",
       "   bwd_packets_IAT_mean  bwd_packets_IAT_std  bwd_packets_IAT_max  \\\n",
       "0              0.001898             0.000871             0.002769   \n",
       "1              0.005830             0.003743             0.009573   \n",
       "2              0.002071             0.000948             0.003019   \n",
       "3              0.005488             0.003066             0.008554   \n",
       "4              0.002154             0.001104             0.003257   \n",
       "\n",
       "   bwd_packets_IAT_min  bwd_packets_IAT_total  subflow_fwd_packets  \\\n",
       "0             0.001028               0.003797                  0.0   \n",
       "1             0.002087               0.011660                  0.0   \n",
       "2             0.001124               0.004143                  0.0   \n",
       "3             0.002422               0.010976                  0.0   \n",
       "4             0.001050               0.004307                  0.0   \n",
       "\n",
       "   subflow_bwd_packets  subflow_fwd_bytes  subflow_bwd_bytes  true_anomaly  \n",
       "0                  0.0                0.0                0.0             1  \n",
       "1                  0.0                0.0                0.0             1  \n",
       "2                  0.0                0.0                0.0             1  \n",
       "3                  0.0                0.0                0.0             1  \n",
       "4                  0.0                0.0                0.0             1  \n",
       "\n",
       "[5 rows x 115 columns]"
      ]
     },
     "execution_count": 18,
     "metadata": {},
     "output_type": "execute_result"
    }
   ],
   "source": [
    "import sys\n",
    "import os\n",
    "import glob\n",
    "\n",
    "# Check if running in Colab\n",
    "IN_COLAB = 'google.colab' in sys.modules\n",
    "\n",
    "# Define dataset paths\n",
    "LOCAL_DIR = '/Users/banbalagan/Projects/pycaret-automl-examples/datasets/anomaly-detection/BCCC-CIC-IDS2017/BCCC-CIC-IDS-2017/'\n",
    "\n",
    "# Try to load from local directory first (for local development)\n",
    "if not IN_COLAB and os.path.exists(LOCAL_DIR):\n",
    "    print(\"=\" * 60)\n",
    "    print(\"📂 Loading dataset from local directory...\")\n",
    "    print(\"=\" * 60)\n",
    "    print(f\"Path: {LOCAL_DIR}\\n\")\n",
    "    \n",
    "    # Find all CSV files in the directory\n",
    "    csv_files = glob.glob(os.path.join(LOCAL_DIR, '*.csv'))\n",
    "    \n",
    "    if csv_files:\n",
    "        print(f\"Found {len(csv_files)} CSV file(s)\")\n",
    "        print(\"\\nLoading first file as sample...\")\n",
    "        # Load first file as sample (these files can be large)\n",
    "        df_raw = pd.read_csv(csv_files[0], nrows=1000)  # Load first 1000 rows for demo\n",
    "        print(f\"✓ Dataset loaded successfully from: {os.path.basename(csv_files[0])}\")\n",
    "        print(f\"  (Loaded first 1000 rows for demonstration)\")\n",
    "        \n",
    "        # Clean the real network traffic data\n",
    "        print(\"\\n🧹 Cleaning data...\")\n",
    "        \n",
    "        # Drop non-numeric columns (flow_id, timestamp, IPs, ports)\n",
    "        non_numeric_cols = ['flow_id', 'timestamp', 'src_ip', 'src_port', 'dst_ip', 'dst_port']\n",
    "        df_raw = df_raw.drop(columns=[col for col in non_numeric_cols if col in df_raw.columns])\n",
    "        \n",
    "        # Handle 'label' column if present (this is ground truth)\n",
    "        if 'label' in df_raw.columns:\n",
    "            # Store label for potential evaluation\n",
    "            df_raw['true_anomaly'] = (df_raw['label'] != 'benign').astype(int)\n",
    "            df_raw = df_raw.drop(columns=['label'])\n",
    "            print(\"  - Found 'label' column (converted to true_anomaly)\")\n",
    "        \n",
    "        # Handle any remaining non-numeric columns\n",
    "        numeric_cols = df_raw.select_dtypes(include=[np.number]).columns\n",
    "        if len(numeric_cols) < len(df_raw.columns):\n",
    "            print(f\"  - Keeping {len(numeric_cols)} numeric features\")\n",
    "            df = df_raw[numeric_cols].copy()\n",
    "        else:\n",
    "            df = df_raw.copy()\n",
    "        \n",
    "        # Handle infinity and NaN values\n",
    "        df = df.replace([np.inf, -np.inf], np.nan)\n",
    "        df = df.fillna(0)\n",
    "        \n",
    "        print(f\"  - Cleaned {len(df.columns)} numeric features\")\n",
    "        use_synthetic = False\n",
    "    else:\n",
    "        print(\"⚠️  No CSV files found in directory.\")\n",
    "        print(\"Creating synthetic data for demonstration...\\n\")\n",
    "        use_synthetic = True\n",
    "        \n",
    "elif not IN_COLAB:\n",
    "    # Local environment but directory doesn't exist\n",
    "    print(\"=\" * 60)\n",
    "    print(\"⚠️  Local directory not found...\")\n",
    "    print(\"=\" * 60)\n",
    "    print(f\"Expected location: {LOCAL_DIR}\")\n",
    "    print(\"\\nCreating synthetic network traffic data for demonstration...\\n\")\n",
    "    use_synthetic = True\n",
    "    \n",
    "else:\n",
    "    # Google Colab - use synthetic data\n",
    "    print(\"=\" * 60)\n",
    "    print(\"☁️  Google Colab Detected\")\n",
    "    print(\"=\" * 60)\n",
    "    print(\"Creating synthetic network traffic data for demonstration...\\n\")\n",
    "    use_synthetic = True\n",
    "\n",
    "# Create synthetic data if needed\n",
    "if use_synthetic or not 'df' in locals():\n",
    "    np.random.seed(42)\n",
    "    \n",
    "    # Generate normal network traffic (90%)\n",
    "    n_normal = 900\n",
    "    normal_data = {\n",
    "        'duration': np.random.normal(120000, 30000, n_normal),\n",
    "        'fwd_packets_count': np.random.poisson(50, n_normal),\n",
    "        'bwd_packets_count': np.random.poisson(45, n_normal),\n",
    "        'bytes_rate': np.random.normal(5000, 1000, n_normal),\n",
    "        'packets_rate': np.random.normal(100, 20, n_normal),\n",
    "        'fwd_total_header_bytes': np.random.normal(200, 50, n_normal),\n",
    "        'bwd_total_header_bytes': np.random.normal(180, 40, n_normal)\n",
    "    }\n",
    "    \n",
    "    # Generate anomalous traffic (10% - attacks, scans, etc.)\n",
    "    n_anomaly = 100\n",
    "    anomaly_data = {\n",
    "        'duration': np.random.normal(5000, 2000, n_anomaly),  # Very short\n",
    "        'fwd_packets_count': np.random.poisson(200, n_anomaly),  # Unusually high\n",
    "        'bwd_packets_count': np.random.poisson(5, n_anomaly),  # Unusually low\n",
    "        'bytes_rate': np.random.normal(50000, 10000, n_anomaly),  # Very high\n",
    "        'packets_rate': np.random.normal(500, 100, n_anomaly),  # Very high\n",
    "        'fwd_total_header_bytes': np.random.normal(400, 100, n_anomaly),  # High\n",
    "        'bwd_total_header_bytes': np.random.normal(50, 20, n_anomaly)  # Low\n",
    "    }\n",
    "    \n",
    "    # Combine and create DataFrame\n",
    "    df_normal = pd.DataFrame(normal_data)\n",
    "    df_anomaly = pd.DataFrame(anomaly_data)\n",
    "    df = pd.concat([df_normal, df_anomaly], ignore_index=True)\n",
    "    \n",
    "    # Shuffle\n",
    "    df = df.sample(frac=1, random_state=42).reset_index(drop=True)\n",
    "    \n",
    "    # Add true labels (for evaluation only - not used in training)\n",
    "    true_labels = [0]*n_normal + [1]*n_anomaly\n",
    "    df['true_anomaly'] = true_labels\n",
    "    df = df.sample(frac=1, random_state=42).reset_index(drop=True)\n",
    "    \n",
    "    print(\"✓ Synthetic network traffic dataset created!\")\n",
    "\n",
    "# Display basic information\n",
    "print(\"\\n\" + \"=\" * 60)\n",
    "print(\"DATASET INFORMATION\")\n",
    "print(\"=\" * 60)\n",
    "print(f\"Shape: {df.shape[0]} network flows, {df.shape[1]} features\")\n",
    "print(f\"Memory usage: {df.memory_usage(deep=True).sum() / 1024:.2f} KB\")\n",
    "\n",
    "if 'true_anomaly' in df.columns:\n",
    "    print(f\"\\nTrue distribution (for evaluation):\")\n",
    "    print(f\"- Normal traffic: {(df['true_anomaly']==0).sum()}\")\n",
    "    print(f\"- Anomalous traffic: {(df['true_anomaly']==1).sum()}\")\n",
    "\n",
    "print(\"\\n\" + \"=\" * 60)\n",
    "print(\"FIRST 5 ROWS\")\n",
    "print(\"=\" * 60)\n",
    "df.head()"
   ]
  },
  {
   "cell_type": "markdown",
   "metadata": {},
   "source": [
    "---\n",
    "\n",
    "## Cell 3: Exploratory Data Analysis\n",
    "\n",
    "### What\n",
    "Exploring network traffic patterns to understand normal vs anomalous behavior.\n",
    "\n",
    "### Why\n",
    "Understanding data helps:\n",
    "- Identify features that distinguish anomalies\n",
    "- Set realistic expectations\n",
    "- Guide algorithm selection\n",
    "\n",
    "### Technical Details\n",
    "We'll visualize distributions to see if anomalies are visually distinct.\n",
    "\n",
    "### Expected Output\n",
    "Statistical summary and visualizations."
   ]
  },
  {
   "cell_type": "code",
   "execution_count": 19,
   "metadata": {},
   "outputs": [
    {
     "name": "stdout",
     "output_type": "stream",
     "text": [
      "============================================================\n",
      "NETWORK TRAFFIC ANALYSIS\n",
      "============================================================\n",
      "ℹ️  Using synthetic data with ground truth labels\n",
      "\n",
      "Number of features: 114\n",
      "\n",
      "Statistical Summary:\n"
     ]
    },
    {
     "data": {
      "text/html": [
       "<div>\n",
       "<style scoped>\n",
       "    .dataframe tbody tr th:only-of-type {\n",
       "        vertical-align: middle;\n",
       "    }\n",
       "\n",
       "    .dataframe tbody tr th {\n",
       "        vertical-align: top;\n",
       "    }\n",
       "\n",
       "    .dataframe thead th {\n",
       "        text-align: right;\n",
       "    }\n",
       "</style>\n",
       "<table border=\"1\" class=\"dataframe\">\n",
       "  <thead>\n",
       "    <tr style=\"text-align: right;\">\n",
       "      <th></th>\n",
       "      <th>duration</th>\n",
       "      <th>packets_count</th>\n",
       "      <th>fwd_packets_count</th>\n",
       "      <th>bwd_packets_count</th>\n",
       "      <th>total_payload_bytes</th>\n",
       "      <th>fwd_total_payload_bytes</th>\n",
       "      <th>bwd_total_payload_bytes</th>\n",
       "      <th>payload_bytes_max</th>\n",
       "      <th>payload_bytes_min</th>\n",
       "      <th>payload_bytes_mean</th>\n",
       "      <th>...</th>\n",
       "      <th>fwd_packets_IAT_total</th>\n",
       "      <th>bwd_packets_IAT_mean</th>\n",
       "      <th>bwd_packets_IAT_std</th>\n",
       "      <th>bwd_packets_IAT_max</th>\n",
       "      <th>bwd_packets_IAT_min</th>\n",
       "      <th>bwd_packets_IAT_total</th>\n",
       "      <th>subflow_fwd_packets</th>\n",
       "      <th>subflow_bwd_packets</th>\n",
       "      <th>subflow_fwd_bytes</th>\n",
       "      <th>subflow_bwd_bytes</th>\n",
       "    </tr>\n",
       "  </thead>\n",
       "  <tbody>\n",
       "    <tr>\n",
       "      <th>count</th>\n",
       "      <td>1000.000000</td>\n",
       "      <td>1000.000000</td>\n",
       "      <td>1000.000000</td>\n",
       "      <td>1000.000000</td>\n",
       "      <td>1000.000000</td>\n",
       "      <td>1000.00000</td>\n",
       "      <td>1000.000000</td>\n",
       "      <td>1000.000000</td>\n",
       "      <td>1000.0</td>\n",
       "      <td>1000.000000</td>\n",
       "      <td>...</td>\n",
       "      <td>1.000000e+03</td>\n",
       "      <td>1.000000e+03</td>\n",
       "      <td>1000.000000</td>\n",
       "      <td>1.000000e+03</td>\n",
       "      <td>1.000000e+03</td>\n",
       "      <td>1.000000e+03</td>\n",
       "      <td>1000.000000</td>\n",
       "      <td>1000.000000</td>\n",
       "      <td>1000.000000</td>\n",
       "      <td>1000.000000</td>\n",
       "    </tr>\n",
       "    <tr>\n",
       "      <th>mean</th>\n",
       "      <td>0.082770</td>\n",
       "      <td>2.166000</td>\n",
       "      <td>1.509000</td>\n",
       "      <td>0.657000</td>\n",
       "      <td>363.197000</td>\n",
       "      <td>2.78300</td>\n",
       "      <td>360.414000</td>\n",
       "      <td>158.406000</td>\n",
       "      <td>0.0</td>\n",
       "      <td>28.039379</td>\n",
       "      <td>...</td>\n",
       "      <td>1.171070e+09</td>\n",
       "      <td>5.967802e+08</td>\n",
       "      <td>0.027908</td>\n",
       "      <td>5.967802e+08</td>\n",
       "      <td>5.967802e+08</td>\n",
       "      <td>5.967802e+08</td>\n",
       "      <td>0.097500</td>\n",
       "      <td>0.072500</td>\n",
       "      <td>1.246500</td>\n",
       "      <td>1.246500</td>\n",
       "    </tr>\n",
       "    <tr>\n",
       "      <th>std</th>\n",
       "      <td>0.700637</td>\n",
       "      <td>2.375729</td>\n",
       "      <td>1.307528</td>\n",
       "      <td>1.128106</td>\n",
       "      <td>2009.800471</td>\n",
       "      <td>48.14688</td>\n",
       "      <td>1997.172147</td>\n",
       "      <td>882.632536</td>\n",
       "      <td>0.0</td>\n",
       "      <td>156.257746</td>\n",
       "      <td>...</td>\n",
       "      <td>6.204355e+08</td>\n",
       "      <td>7.343251e+08</td>\n",
       "      <td>0.249258</td>\n",
       "      <td>7.343251e+08</td>\n",
       "      <td>7.343251e+08</td>\n",
       "      <td>7.343251e+08</td>\n",
       "      <td>0.845848</td>\n",
       "      <td>0.631976</td>\n",
       "      <td>25.567013</td>\n",
       "      <td>25.567013</td>\n",
       "    </tr>\n",
       "    <tr>\n",
       "      <th>min</th>\n",
       "      <td>0.000000</td>\n",
       "      <td>1.000000</td>\n",
       "      <td>0.000000</td>\n",
       "      <td>0.000000</td>\n",
       "      <td>0.000000</td>\n",
       "      <td>0.00000</td>\n",
       "      <td>0.000000</td>\n",
       "      <td>0.000000</td>\n",
       "      <td>0.0</td>\n",
       "      <td>0.000000</td>\n",
       "      <td>...</td>\n",
       "      <td>0.000000e+00</td>\n",
       "      <td>0.000000e+00</td>\n",
       "      <td>0.000000</td>\n",
       "      <td>0.000000e+00</td>\n",
       "      <td>0.000000e+00</td>\n",
       "      <td>0.000000e+00</td>\n",
       "      <td>0.000000</td>\n",
       "      <td>0.000000</td>\n",
       "      <td>0.000000</td>\n",
       "      <td>0.000000</td>\n",
       "    </tr>\n",
       "    <tr>\n",
       "      <th>25%</th>\n",
       "      <td>0.000000</td>\n",
       "      <td>1.000000</td>\n",
       "      <td>1.000000</td>\n",
       "      <td>0.000000</td>\n",
       "      <td>0.000000</td>\n",
       "      <td>0.00000</td>\n",
       "      <td>0.000000</td>\n",
       "      <td>0.000000</td>\n",
       "      <td>0.0</td>\n",
       "      <td>0.000000</td>\n",
       "      <td>...</td>\n",
       "      <td>1.499447e+09</td>\n",
       "      <td>0.000000e+00</td>\n",
       "      <td>0.000000</td>\n",
       "      <td>0.000000e+00</td>\n",
       "      <td>0.000000e+00</td>\n",
       "      <td>0.000000e+00</td>\n",
       "      <td>0.000000</td>\n",
       "      <td>0.000000</td>\n",
       "      <td>0.000000</td>\n",
       "      <td>0.000000</td>\n",
       "    </tr>\n",
       "    <tr>\n",
       "      <th>50%</th>\n",
       "      <td>0.000000</td>\n",
       "      <td>1.000000</td>\n",
       "      <td>1.000000</td>\n",
       "      <td>0.000000</td>\n",
       "      <td>0.000000</td>\n",
       "      <td>0.00000</td>\n",
       "      <td>0.000000</td>\n",
       "      <td>0.000000</td>\n",
       "      <td>0.0</td>\n",
       "      <td>0.000000</td>\n",
       "      <td>...</td>\n",
       "      <td>1.499450e+09</td>\n",
       "      <td>0.000000e+00</td>\n",
       "      <td>0.000000</td>\n",
       "      <td>0.000000e+00</td>\n",
       "      <td>0.000000e+00</td>\n",
       "      <td>0.000000e+00</td>\n",
       "      <td>0.000000</td>\n",
       "      <td>0.000000</td>\n",
       "      <td>0.000000</td>\n",
       "      <td>0.000000</td>\n",
       "    </tr>\n",
       "    <tr>\n",
       "      <th>75%</th>\n",
       "      <td>0.000126</td>\n",
       "      <td>2.000000</td>\n",
       "      <td>1.000000</td>\n",
       "      <td>1.000000</td>\n",
       "      <td>0.000000</td>\n",
       "      <td>0.00000</td>\n",
       "      <td>0.000000</td>\n",
       "      <td>0.000000</td>\n",
       "      <td>0.0</td>\n",
       "      <td>0.000000</td>\n",
       "      <td>...</td>\n",
       "      <td>1.499450e+09</td>\n",
       "      <td>1.499447e+09</td>\n",
       "      <td>0.000000</td>\n",
       "      <td>1.499447e+09</td>\n",
       "      <td>1.499447e+09</td>\n",
       "      <td>1.499447e+09</td>\n",
       "      <td>0.000000</td>\n",
       "      <td>0.000000</td>\n",
       "      <td>0.000000</td>\n",
       "      <td>0.000000</td>\n",
       "    </tr>\n",
       "    <tr>\n",
       "      <th>max</th>\n",
       "      <td>9.605611</td>\n",
       "      <td>20.000000</td>\n",
       "      <td>11.000000</td>\n",
       "      <td>9.000000</td>\n",
       "      <td>11638.000000</td>\n",
       "      <td>1473.00000</td>\n",
       "      <td>11595.000000</td>\n",
       "      <td>5792.000000</td>\n",
       "      <td>0.0</td>\n",
       "      <td>1058.000000</td>\n",
       "      <td>...</td>\n",
       "      <td>1.499450e+09</td>\n",
       "      <td>1.499450e+09</td>\n",
       "      <td>2.403082</td>\n",
       "      <td>1.499450e+09</td>\n",
       "      <td>1.499450e+09</td>\n",
       "      <td>1.499450e+09</td>\n",
       "      <td>8.000000</td>\n",
       "      <td>6.000000</td>\n",
       "      <td>736.500000</td>\n",
       "      <td>736.500000</td>\n",
       "    </tr>\n",
       "  </tbody>\n",
       "</table>\n",
       "<p>8 rows × 114 columns</p>\n",
       "</div>"
      ],
      "text/plain": [
       "          duration  packets_count  fwd_packets_count  bwd_packets_count  \\\n",
       "count  1000.000000    1000.000000        1000.000000        1000.000000   \n",
       "mean      0.082770       2.166000           1.509000           0.657000   \n",
       "std       0.700637       2.375729           1.307528           1.128106   \n",
       "min       0.000000       1.000000           0.000000           0.000000   \n",
       "25%       0.000000       1.000000           1.000000           0.000000   \n",
       "50%       0.000000       1.000000           1.000000           0.000000   \n",
       "75%       0.000126       2.000000           1.000000           1.000000   \n",
       "max       9.605611      20.000000          11.000000           9.000000   \n",
       "\n",
       "       total_payload_bytes  fwd_total_payload_bytes  bwd_total_payload_bytes  \\\n",
       "count          1000.000000               1000.00000              1000.000000   \n",
       "mean            363.197000                  2.78300               360.414000   \n",
       "std            2009.800471                 48.14688              1997.172147   \n",
       "min               0.000000                  0.00000                 0.000000   \n",
       "25%               0.000000                  0.00000                 0.000000   \n",
       "50%               0.000000                  0.00000                 0.000000   \n",
       "75%               0.000000                  0.00000                 0.000000   \n",
       "max           11638.000000               1473.00000             11595.000000   \n",
       "\n",
       "       payload_bytes_max  payload_bytes_min  payload_bytes_mean  ...  \\\n",
       "count        1000.000000             1000.0         1000.000000  ...   \n",
       "mean          158.406000                0.0           28.039379  ...   \n",
       "std           882.632536                0.0          156.257746  ...   \n",
       "min             0.000000                0.0            0.000000  ...   \n",
       "25%             0.000000                0.0            0.000000  ...   \n",
       "50%             0.000000                0.0            0.000000  ...   \n",
       "75%             0.000000                0.0            0.000000  ...   \n",
       "max          5792.000000                0.0         1058.000000  ...   \n",
       "\n",
       "       fwd_packets_IAT_total  bwd_packets_IAT_mean  bwd_packets_IAT_std  \\\n",
       "count           1.000000e+03          1.000000e+03          1000.000000   \n",
       "mean            1.171070e+09          5.967802e+08             0.027908   \n",
       "std             6.204355e+08          7.343251e+08             0.249258   \n",
       "min             0.000000e+00          0.000000e+00             0.000000   \n",
       "25%             1.499447e+09          0.000000e+00             0.000000   \n",
       "50%             1.499450e+09          0.000000e+00             0.000000   \n",
       "75%             1.499450e+09          1.499447e+09             0.000000   \n",
       "max             1.499450e+09          1.499450e+09             2.403082   \n",
       "\n",
       "       bwd_packets_IAT_max  bwd_packets_IAT_min  bwd_packets_IAT_total  \\\n",
       "count         1.000000e+03         1.000000e+03           1.000000e+03   \n",
       "mean          5.967802e+08         5.967802e+08           5.967802e+08   \n",
       "std           7.343251e+08         7.343251e+08           7.343251e+08   \n",
       "min           0.000000e+00         0.000000e+00           0.000000e+00   \n",
       "25%           0.000000e+00         0.000000e+00           0.000000e+00   \n",
       "50%           0.000000e+00         0.000000e+00           0.000000e+00   \n",
       "75%           1.499447e+09         1.499447e+09           1.499447e+09   \n",
       "max           1.499450e+09         1.499450e+09           1.499450e+09   \n",
       "\n",
       "       subflow_fwd_packets  subflow_bwd_packets  subflow_fwd_bytes  \\\n",
       "count          1000.000000          1000.000000        1000.000000   \n",
       "mean              0.097500             0.072500           1.246500   \n",
       "std               0.845848             0.631976          25.567013   \n",
       "min               0.000000             0.000000           0.000000   \n",
       "25%               0.000000             0.000000           0.000000   \n",
       "50%               0.000000             0.000000           0.000000   \n",
       "75%               0.000000             0.000000           0.000000   \n",
       "max               8.000000             6.000000         736.500000   \n",
       "\n",
       "       subflow_bwd_bytes  \n",
       "count        1000.000000  \n",
       "mean            1.246500  \n",
       "std            25.567013  \n",
       "min             0.000000  \n",
       "25%             0.000000  \n",
       "50%             0.000000  \n",
       "75%             0.000000  \n",
       "max           736.500000  \n",
       "\n",
       "[8 rows x 114 columns]"
      ]
     },
     "metadata": {},
     "output_type": "display_data"
    },
    {
     "data": {
      "image/png": "[encoded data removed]",
      "text/plain": [
       "<Figure size 1800x1200 with 12 Axes>"
      ]
     },
     "metadata": {},
     "output_type": "display_data"
    },
    {
     "name": "stdout",
     "output_type": "stream",
     "text": [
      "\n",
      "📊 Showing distributions for first 12 of 114 features\n",
      "\n",
      "Key Observations:\n",
      "- Most traffic follows normal patterns (main distribution)\n",
      "- Some outliers visible (potential anomalies)\n",
      "- Different features show different spread\n",
      "- Anomaly detection will flag unusual combinations\n"
     ]
    }
   ],
   "source": [
    "print(\"=\" * 60)\n",
    "print(\"NETWORK TRAFFIC ANALYSIS\")\n",
    "print(\"=\" * 60)\n",
    "\n",
    "# Remove true_anomaly for unsupervised analysis (if present in synthetic data)\n",
    "if 'true_anomaly' in df.columns:\n",
    "    features_df = df.drop('true_anomaly', axis=1)\n",
    "    print(\"ℹ️  Using synthetic data with ground truth labels\")\n",
    "else:\n",
    "    features_df = df.copy()\n",
    "    print(\"ℹ️  Using real network traffic data (no ground truth)\")\n",
    "\n",
    "print(f\"\\nNumber of features: {len(features_df.columns)}\")\n",
    "print(\"\\nStatistical Summary:\")\n",
    "display(features_df.describe())\n",
    "\n",
    "# Visualize distributions (limit to first 12 features for readability)\n",
    "n_features = min(len(features_df.columns), 12)\n",
    "selected_cols = features_df.columns[:n_features]\n",
    "\n",
    "# Calculate grid size\n",
    "n_cols = 4\n",
    "n_rows = (n_features + n_cols - 1) // n_cols  # Ceiling division\n",
    "\n",
    "fig, axes = plt.subplots(n_rows, n_cols, figsize=(18, n_rows * 4))\n",
    "axes = axes.ravel()\n",
    "\n",
    "for idx, col in enumerate(selected_cols):\n",
    "    axes[idx].hist(features_df[col], bins=50, alpha=0.7, edgecolor='black')\n",
    "    axes[idx].set_title(col, fontsize=10, fontweight='bold')\n",
    "    axes[idx].set_xlabel('Value')\n",
    "    axes[idx].set_ylabel('Frequency')\n",
    "    axes[idx].grid(alpha=0.3)\n",
    "\n",
    "# Remove extra subplots\n",
    "for idx in range(n_features, len(axes)):\n",
    "    fig.delaxes(axes[idx])\n",
    "\n",
    "plt.tight_layout()\n",
    "plt.show()\n",
    "\n",
    "if len(features_df.columns) > 12:\n",
    "    print(f\"\\n📊 Showing distributions for first {n_features} of {len(features_df.columns)} features\")\n",
    "else:\n",
    "    print(f\"\\n📊 Showing distributions for all {n_features} features\")\n",
    "\n",
    "print(\"\\nKey Observations:\")\n",
    "print(\"- Most traffic follows normal patterns (main distribution)\")\n",
    "print(\"- Some outliers visible (potential anomalies)\")\n",
    "print(\"- Different features show different spread\")\n",
    "print(\"- Anomaly detection will flag unusual combinations\")"
   ]
  },
  {
   "cell_type": "markdown",
   "metadata": {},
   "source": [
    "---\n",
    "\n",
    "## Cell 4: PyCaret Setup for Anomaly Detection\n",
    "\n",
    "### What\n",
    "Initializing PyCaret's anomaly detection environment.\n",
    "\n",
    "### Why\n",
    "Anomaly detection setup prepares data for:\n",
    "- Outlier identification\n",
    "- Anomaly scoring\n",
    "- Threshold-based flagging\n",
    "\n",
    "### Technical Details\n",
    "Like clustering, anomaly detection is unsupervised:\n",
    "- No target variable\n",
    "- No train/test split (use all data)\n",
    "- Normalization important\n",
    "\n",
    "### Expected Output\n",
    "Setup summary for anomaly detection."
   ]
  },
  {
   "cell_type": "code",
   "execution_count": 20,
   "metadata": {},
   "outputs": [
    {
     "name": "stdout",
     "output_type": "stream",
     "text": [
      "============================================================\n",
      "PYCARET SETUP - ANOMALY DETECTION\n",
      "============================================================\n",
      "\n",
      "Configuring unsupervised anomaly detection...\n",
      "\n"
     ]
    },
    {
     "data": {
      "text/html": [
       "<style type=\"text/css\">\n",
       "#T_42a3f_row4_col1, #T_42a3f_row8_col1 {\n",
       "  background-color: lightgreen;\n",
       "}\n",
       "</style>\n",
       "<table id=\"T_42a3f\">\n",
       "  <thead>\n",
       "    <tr>\n",
       "      <th class=\"blank level0\" >&nbsp;</th>\n",
       "      <th id=\"T_42a3f_level0_col0\" class=\"col_heading level0 col0\" >Description</th>\n",
       "      <th id=\"T_42a3f_level0_col1\" class=\"col_heading level0 col1\" >Value</th>\n",
       "    </tr>\n",
       "  </thead>\n",
       "  <tbody>\n",
       "    <tr>\n",
       "      <th id=\"T_42a3f_level0_row0\" class=\"row_heading level0 row0\" >0</th>\n",
       "      <td id=\"T_42a3f_row0_col0\" class=\"data row0 col0\" >Session id</td>\n",
       "      <td id=\"T_42a3f_row0_col1\" class=\"data row0 col1\" >42</td>\n",
       "    </tr>\n",
       "    <tr>\n",
       "      <th id=\"T_42a3f_level0_row1\" class=\"row_heading level0 row1\" >1</th>\n",
       "      <td id=\"T_42a3f_row1_col0\" class=\"data row1 col0\" >Original data shape</td>\n",
       "      <td id=\"T_42a3f_row1_col1\" class=\"data row1 col1\" >(1000, 114)</td>\n",
       "    </tr>\n",
       "    <tr>\n",
       "      <th id=\"T_42a3f_level0_row2\" class=\"row_heading level0 row2\" >2</th>\n",
       "      <td id=\"T_42a3f_row2_col0\" class=\"data row2 col0\" >Transformed data shape</td>\n",
       "      <td id=\"T_42a3f_row2_col1\" class=\"data row2 col1\" >(1000, 114)</td>\n",
       "    </tr>\n",
       "    <tr>\n",
       "      <th id=\"T_42a3f_level0_row3\" class=\"row_heading level0 row3\" >3</th>\n",
       "      <td id=\"T_42a3f_row3_col0\" class=\"data row3 col0\" >Numeric features</td>\n",
       "      <td id=\"T_42a3f_row3_col1\" class=\"data row3 col1\" >114</td>\n",
       "    </tr>\n",
       "    <tr>\n",
       "      <th id=\"T_42a3f_level0_row4\" class=\"row_heading level0 row4\" >4</th>\n",
       "      <td id=\"T_42a3f_row4_col0\" class=\"data row4 col0\" >Preprocess</td>\n",
       "      <td id=\"T_42a3f_row4_col1\" class=\"data row4 col1\" >True</td>\n",
       "    </tr>\n",
       "    <tr>\n",
       "      <th id=\"T_42a3f_level0_row5\" class=\"row_heading level0 row5\" >5</th>\n",
       "      <td id=\"T_42a3f_row5_col0\" class=\"data row5 col0\" >Imputation type</td>\n",
       "      <td id=\"T_42a3f_row5_col1\" class=\"data row5 col1\" >simple</td>\n",
       "    </tr>\n",
       "    <tr>\n",
       "      <th id=\"T_42a3f_level0_row6\" class=\"row_heading level0 row6\" >6</th>\n",
       "      <td id=\"T_42a3f_row6_col0\" class=\"data row6 col0\" >Numeric imputation</td>\n",
       "      <td id=\"T_42a3f_row6_col1\" class=\"data row6 col1\" >mean</td>\n",
       "    </tr>\n",
       "    <tr>\n",
       "      <th id=\"T_42a3f_level0_row7\" class=\"row_heading level0 row7\" >7</th>\n",
       "      <td id=\"T_42a3f_row7_col0\" class=\"data row7 col0\" >Categorical imputation</td>\n",
       "      <td id=\"T_42a3f_row7_col1\" class=\"data row7 col1\" >mode</td>\n",
       "    </tr>\n",
       "    <tr>\n",
       "      <th id=\"T_42a3f_level0_row8\" class=\"row_heading level0 row8\" >8</th>\n",
       "      <td id=\"T_42a3f_row8_col0\" class=\"data row8 col0\" >Normalize</td>\n",
       "      <td id=\"T_42a3f_row8_col1\" class=\"data row8 col1\" >True</td>\n",
       "    </tr>\n",
       "    <tr>\n",
       "      <th id=\"T_42a3f_level0_row9\" class=\"row_heading level0 row9\" >9</th>\n",
       "      <td id=\"T_42a3f_row9_col0\" class=\"data row9 col0\" >Normalize method</td>\n",
       "      <td id=\"T_42a3f_row9_col1\" class=\"data row9 col1\" >zscore</td>\n",
       "    </tr>\n",
       "    <tr>\n",
       "      <th id=\"T_42a3f_level0_row10\" class=\"row_heading level0 row10\" >10</th>\n",
       "      <td id=\"T_42a3f_row10_col0\" class=\"data row10 col0\" >CPU Jobs</td>\n",
       "      <td id=\"T_42a3f_row10_col1\" class=\"data row10 col1\" >-1</td>\n",
       "    </tr>\n",
       "    <tr>\n",
       "      <th id=\"T_42a3f_level0_row11\" class=\"row_heading level0 row11\" >11</th>\n",
       "      <td id=\"T_42a3f_row11_col0\" class=\"data row11 col0\" >Use GPU</td>\n",
       "      <td id=\"T_42a3f_row11_col1\" class=\"data row11 col1\" >False</td>\n",
       "    </tr>\n",
       "    <tr>\n",
       "      <th id=\"T_42a3f_level0_row12\" class=\"row_heading level0 row12\" >12</th>\n",
       "      <td id=\"T_42a3f_row12_col0\" class=\"data row12 col0\" >Log Experiment</td>\n",
       "      <td id=\"T_42a3f_row12_col1\" class=\"data row12 col1\" >False</td>\n",
       "    </tr>\n",
       "    <tr>\n",
       "      <th id=\"T_42a3f_level0_row13\" class=\"row_heading level0 row13\" >13</th>\n",
       "      <td id=\"T_42a3f_row13_col0\" class=\"data row13 col0\" >Experiment Name</td>\n",
       "      <td id=\"T_42a3f_row13_col1\" class=\"data row13 col1\" >anomaly-default-name</td>\n",
       "    </tr>\n",
       "    <tr>\n",
       "      <th id=\"T_42a3f_level0_row14\" class=\"row_heading level0 row14\" >14</th>\n",
       "      <td id=\"T_42a3f_row14_col0\" class=\"data row14 col0\" >USI</td>\n",
       "      <td id=\"T_42a3f_row14_col1\" class=\"data row14 col1\" >79cd</td>\n",
       "    </tr>\n",
       "  </tbody>\n",
       "</table>\n"
      ],
      "text/plain": [
       "<pandas.io.formats.style.Styler at 0x156292d60>"
      ]
     },
     "metadata": {},
     "output_type": "display_data"
    },
    {
     "name": "stdout",
     "output_type": "stream",
     "text": [
      "\n",
      "============================================================\n",
      "✓ Anomaly detection setup complete!\n",
      "============================================================\n",
      "\n",
      "Key Points:\n",
      "- UNSUPERVISED: No labels used in training\n",
      "- GOAL: Flag unusual network flows\n",
      "- ASSUMPTION: Most traffic is normal, anomalies are rare\n",
      "\n",
      "Ready to detect network intrusions!\n"
     ]
    }
   ],
   "source": [
    "from pycaret.anomaly import *\n",
    "\n",
    "print(\"=\" * 60)\n",
    "print(\"PYCARET SETUP - ANOMALY DETECTION\")\n",
    "print(\"=\" * 60)\n",
    "print(\"\\nConfiguring unsupervised anomaly detection...\\n\")\n",
    "\n",
    "# Setup (exclude true_anomaly from training)\n",
    "# Changed from session_seed to session_id for PyCaret 3.x\n",
    "anomaly_setup = setup(\n",
    "    data=features_df,\n",
    "    normalize=True,\n",
    "    session_id=42,\n",
    "    verbose=True\n",
    ")\n",
    "\n",
    "print(\"\\n\" + \"=\" * 60)\n",
    "print(\"✓ Anomaly detection setup complete!\")\n",
    "print(\"=\" * 60)\n",
    "print(\"\\nKey Points:\")\n",
    "print(\"- UNSUPERVISED: No labels used in training\")\n",
    "print(\"- GOAL: Flag unusual network flows\")\n",
    "print(\"- ASSUMPTION: Most traffic is normal, anomalies are rare\")\n",
    "print(\"\\nReady to detect network intrusions!\")"
   ]
  },
  {
   "cell_type": "markdown",
   "metadata": {},
   "source": [
    "---\n",
    "\n",
    "## Cell 5: Create Anomaly Detection Models\n",
    "\n",
    "### What\n",
    "Creating multiple anomaly detection models with different algorithms.\n",
    "\n",
    "### Why\n",
    "Different algorithms detect different types of anomalies:\n",
    "\n",
    "**Isolation Forest**:\n",
    "- Fast and scalable\n",
    "- Isolates anomalies using random trees\n",
    "- Good for high-dimensional data\n",
    "\n",
    "**LOF (Local Outlier Factor)**:\n",
    "- Density-based detection\n",
    "- Compares local density to neighbors\n",
    "- Good for varying density clusters\n",
    "\n",
    "**One-Class SVM**:\n",
    "- Learns boundary around normal data\n",
    "- Flags points outside boundary\n",
    "- Good for well-defined normal region\n",
    "\n",
    "### Technical Details\n",
    "Each algorithm assigns anomaly scores and labels.\n",
    "\n",
    "### Expected Output\n",
    "Models created with anomaly detection results."
   ]
  },
  {
   "cell_type": "code",
   "execution_count": 21,
   "metadata": {},
   "outputs": [
    {
     "name": "stdout",
     "output_type": "stream",
     "text": [
      "============================================================\n",
      "CREATING ANOMALY DETECTION MODELS\n",
      "============================================================\n",
      "\n",
      "1. Isolation Forest\n",
      "   - Fast, scalable algorithm\n",
      "   - Isolates anomalies using random trees\n"
     ]
    },
    {
     "data": {
      "text/html": [],
      "text/plain": [
       "<IPython.core.display.HTML object>"
      ]
     },
     "metadata": {},
     "output_type": "display_data"
    },
    {
     "data": {
      "text/html": [],
      "text/plain": [
       "<IPython.core.display.HTML object>"
      ]
     },
     "metadata": {},
     "output_type": "display_data"
    },
    {
     "data": {
      "text/html": [],
      "text/plain": [
       "<IPython.core.display.HTML object>"
      ]
     },
     "metadata": {},
     "output_type": "display_data"
    },
    {
     "name": "stdout",
     "output_type": "stream",
     "text": [
      "\n",
      "2. Local Outlier Factor (LOF)\n",
      "   - Density-based detection\n",
      "   - Compares local density to neighbors\n"
     ]
    },
    {
     "data": {
      "text/html": [],
      "text/plain": [
       "<IPython.core.display.HTML object>"
      ]
     },
     "metadata": {},
     "output_type": "display_data"
    },
    {
     "data": {
      "text/html": [],
      "text/plain": [
       "<IPython.core.display.HTML object>"
      ]
     },
     "metadata": {},
     "output_type": "display_data"
    },
    {
     "data": {
      "text/html": [],
      "text/plain": [
       "<IPython.core.display.HTML object>"
      ]
     },
     "metadata": {},
     "output_type": "display_data"
    },
    {
     "name": "stdout",
     "output_type": "stream",
     "text": [
      "\n",
      "3. One-Class SVM\n",
      "   - Learns boundary around normal data\n",
      "   - Flags outliers outside boundary\n"
     ]
    },
    {
     "data": {
      "text/html": [],
      "text/plain": [
       "<IPython.core.display.HTML object>"
      ]
     },
     "metadata": {},
     "output_type": "display_data"
    },
    {
     "data": {
      "text/html": [],
      "text/plain": [
       "<IPython.core.display.HTML object>"
      ]
     },
     "metadata": {},
     "output_type": "display_data"
    },
    {
     "data": {
      "text/html": [],
      "text/plain": [
       "<IPython.core.display.HTML object>"
      ]
     },
     "metadata": {},
     "output_type": "display_data"
    },
    {
     "name": "stdout",
     "output_type": "stream",
     "text": [
      "\n",
      "============================================================\n",
      "All models created!\n",
      "============================================================\n",
      "\n",
      "Note: 'fraction=0.1' means expect ~10% anomalies\n",
      "Adjust based on your network's typical anomaly rate\n"
     ]
    }
   ],
   "source": [
    "print(\"=\" * 60)\n",
    "print(\"CREATING ANOMALY DETECTION MODELS\")\n",
    "print(\"=\" * 60)\n",
    "\n",
    "# Isolation Forest\n",
    "print(\"\\n1. Isolation Forest\")\n",
    "print(\"   - Fast, scalable algorithm\")\n",
    "print(\"   - Isolates anomalies using random trees\")\n",
    "iforest = create_model('iforest', fraction=0.1)\n",
    "\n",
    "# LOF (Local Outlier Factor)\n",
    "print(\"\\n2. Local Outlier Factor (LOF)\")\n",
    "print(\"   - Density-based detection\")\n",
    "print(\"   - Compares local density to neighbors\")\n",
    "lof = create_model('lof', fraction=0.1)\n",
    "\n",
    "# One-Class SVM\n",
    "print(\"\\n3. One-Class SVM\")\n",
    "print(\"   - Learns boundary around normal data\")\n",
    "print(\"   - Flags outliers outside boundary\")\n",
    "ocsvm = create_model('svm', fraction=0.1)\n",
    "\n",
    "print(\"\\n\" + \"=\" * 60)\n",
    "print(\"All models created!\")\n",
    "print(\"=\" * 60)\n",
    "print(\"\\nNote: 'fraction=0.1' means expect ~10% anomalies\")\n",
    "print(\"Adjust based on your network's typical anomaly rate\")"
   ]
  },
  {
   "cell_type": "markdown",
   "metadata": {},
   "source": [
    "---\n",
    "\n",
    "## Cell 6: Assign Anomaly Labels and Scores\n",
    "\n",
    "### What\n",
    "Assigning anomaly labels (0=normal, 1=anomaly) and scores to each network flow.\n",
    "\n",
    "### Why\n",
    "Anomaly detection output includes:\n",
    "- **Binary label**: Normal (0) or Anomaly (1)\n",
    "- **Anomaly score**: Continuous score (higher = more anomalous)\n",
    "- **Decision function**: Distance from normal region\n",
    "\n",
    "### Technical Details\n",
    "Scores allow ranking:\n",
    "- Investigate highest-scoring flows first\n",
    "- Adjust thresholds based on resources\n",
    "- Create priority alerts\n",
    "\n",
    "### Expected Output\n",
    "Dataset with anomaly predictions and scores."
   ]
  },
  {
   "cell_type": "code",
   "execution_count": 22,
   "metadata": {},
   "outputs": [
    {
     "name": "stdout",
     "output_type": "stream",
     "text": [
      "============================================================\n",
      "ASSIGNING ANOMALY LABELS AND SCORES\n",
      "============================================================\n",
      "\n",
      "Predictions completed!\n",
      "\n",
      "Columns added:\n",
      "- Anomaly: Binary label (0=Normal, 1=Anomaly)\n",
      "- Anomaly_Score: Continuous score (higher = more suspicious)\n",
      "\n",
      "============================================================\n",
      "DETECTION RESULTS\n",
      "============================================================\n",
      "\n",
      "Total flows analyzed: 1000\n",
      "Flagged as anomalies: 78\n",
      "Marked as normal: 922\n",
      "\n",
      "Sample predictions (sorted by anomaly score):\n"
     ]
    },
    {
     "data": {
      "text/html": [
       "<div>\n",
       "<style scoped>\n",
       "    .dataframe tbody tr th:only-of-type {\n",
       "        vertical-align: middle;\n",
       "    }\n",
       "\n",
       "    .dataframe tbody tr th {\n",
       "        vertical-align: top;\n",
       "    }\n",
       "\n",
       "    .dataframe thead th {\n",
       "        text-align: right;\n",
       "    }\n",
       "</style>\n",
       "<table border=\"1\" class=\"dataframe\">\n",
       "  <thead>\n",
       "    <tr style=\"text-align: right;\">\n",
       "      <th></th>\n",
       "      <th>duration</th>\n",
       "      <th>packets_count</th>\n",
       "      <th>Anomaly</th>\n",
       "      <th>Anomaly_Score</th>\n",
       "      <th>true_anomaly</th>\n",
       "    </tr>\n",
       "  </thead>\n",
       "  <tbody>\n",
       "    <tr>\n",
       "      <th>26</th>\n",
       "      <td>9.605611</td>\n",
       "      <td>20</td>\n",
       "      <td>1</td>\n",
       "      <td>0.200997</td>\n",
       "      <td>1</td>\n",
       "    </tr>\n",
       "    <tr>\n",
       "      <th>23</th>\n",
       "      <td>1.840034</td>\n",
       "      <td>10</td>\n",
       "      <td>1</td>\n",
       "      <td>0.172505</td>\n",
       "      <td>1</td>\n",
       "    </tr>\n",
       "    <tr>\n",
       "      <th>634</th>\n",
       "      <td>6.026895</td>\n",
       "      <td>14</td>\n",
       "      <td>1</td>\n",
       "      <td>0.153934</td>\n",
       "      <td>1</td>\n",
       "    </tr>\n",
       "    <tr>\n",
       "      <th>790</th>\n",
       "      <td>0.002193</td>\n",
       "      <td>11</td>\n",
       "      <td>1</td>\n",
       "      <td>0.152661</td>\n",
       "      <td>1</td>\n",
       "    </tr>\n",
       "    <tr>\n",
       "      <th>748</th>\n",
       "      <td>0.005535</td>\n",
       "      <td>15</td>\n",
       "      <td>1</td>\n",
       "      <td>0.151175</td>\n",
       "      <td>1</td>\n",
       "    </tr>\n",
       "    <tr>\n",
       "      <th>640</th>\n",
       "      <td>0.389966</td>\n",
       "      <td>14</td>\n",
       "      <td>1</td>\n",
       "      <td>0.149124</td>\n",
       "      <td>1</td>\n",
       "    </tr>\n",
       "    <tr>\n",
       "      <th>724</th>\n",
       "      <td>0.382072</td>\n",
       "      <td>14</td>\n",
       "      <td>1</td>\n",
       "      <td>0.148145</td>\n",
       "      <td>1</td>\n",
       "    </tr>\n",
       "    <tr>\n",
       "      <th>768</th>\n",
       "      <td>0.230924</td>\n",
       "      <td>14</td>\n",
       "      <td>1</td>\n",
       "      <td>0.148145</td>\n",
       "      <td>1</td>\n",
       "    </tr>\n",
       "    <tr>\n",
       "      <th>704</th>\n",
       "      <td>0.004509</td>\n",
       "      <td>15</td>\n",
       "      <td>1</td>\n",
       "      <td>0.144821</td>\n",
       "      <td>1</td>\n",
       "    </tr>\n",
       "    <tr>\n",
       "      <th>810</th>\n",
       "      <td>0.002464</td>\n",
       "      <td>11</td>\n",
       "      <td>1</td>\n",
       "      <td>0.144417</td>\n",
       "      <td>1</td>\n",
       "    </tr>\n",
       "  </tbody>\n",
       "</table>\n",
       "</div>"
      ],
      "text/plain": [
       "     duration  packets_count  Anomaly  Anomaly_Score  true_anomaly\n",
       "26   9.605611             20        1       0.200997             1\n",
       "23   1.840034             10        1       0.172505             1\n",
       "634  6.026895             14        1       0.153934             1\n",
       "790  0.002193             11        1       0.152661             1\n",
       "748  0.005535             15        1       0.151175             1\n",
       "640  0.389966             14        1       0.149124             1\n",
       "724  0.382072             14        1       0.148145             1\n",
       "768  0.230924             14        1       0.148145             1\n",
       "704  0.004509             15        1       0.144821             1\n",
       "810  0.002464             11        1       0.144417             1"
      ]
     },
     "metadata": {},
     "output_type": "display_data"
    }
   ],
   "source": [
    "print(\"=\" * 60)\n",
    "print(\"ASSIGNING ANOMALY LABELS AND SCORES\")\n",
    "print(\"=\" * 60)\n",
    "\n",
    "# Assign predictions (using Isolation Forest)\n",
    "predictions = assign_model(iforest)\n",
    "\n",
    "# Add true labels for evaluation (if we have them)\n",
    "if 'true_anomaly' in df.columns:\n",
    "    predictions['true_anomaly'] = df['true_anomaly'].values\n",
    "    has_ground_truth = True\n",
    "else:\n",
    "    has_ground_truth = False\n",
    "\n",
    "print(\"\\nPredictions completed!\")\n",
    "print(f\"\\nColumns added:\")\n",
    "print(\"- Anomaly: Binary label (0=Normal, 1=Anomaly)\")\n",
    "print(\"- Anomaly_Score: Continuous score (higher = more suspicious)\")\n",
    "\n",
    "print(\"\\n\" + \"=\" * 60)\n",
    "print(\"DETECTION RESULTS\")\n",
    "print(\"=\" * 60)\n",
    "print(f\"\\nTotal flows analyzed: {len(predictions)}\")\n",
    "print(f\"Flagged as anomalies: {(predictions['Anomaly']==1).sum()}\")\n",
    "print(f\"Marked as normal: {(predictions['Anomaly']==0).sum()}\")\n",
    "\n",
    "# Select first 2 feature columns dynamically (excluding Anomaly, Anomaly_Score, true_anomaly)\n",
    "feature_cols = [col for col in predictions.columns if col not in ['Anomaly', 'Anomaly_Score', 'true_anomaly']]\n",
    "display_cols = feature_cols[:2] + ['Anomaly', 'Anomaly_Score']\n",
    "\n",
    "print(\"\\nSample predictions (sorted by anomaly score):\")\n",
    "if has_ground_truth:\n",
    "    display_cols_with_truth = display_cols + ['true_anomaly']\n",
    "    display(predictions[display_cols_with_truth].sort_values('Anomaly_Score', ascending=False).head(10))\n",
    "else:\n",
    "    display(predictions[display_cols].sort_values('Anomaly_Score', ascending=False).head(10))"
   ]
  },
  {
   "cell_type": "markdown",
   "metadata": {},
   "source": [
    "---\n",
    "\n",
    "## Cell 7: Evaluate Detection Performance\n",
    "\n",
    "### What\n",
    "Evaluating how well our model detects true anomalies (since we have ground truth for this demo).\n",
    "\n",
    "### Why\n",
    "In production, we don't have labels, but for this demo:\n",
    "- Check if model catches real attacks\n",
    "- Understand false positive rate\n",
    "- Validate approach before deployment\n",
    "\n",
    "### Technical Details\n",
    "Key metrics:\n",
    "- **Precision**: Of flagged flows, how many are truly anomalous?\n",
    "- **Recall**: Of true anomalies, how many did we catch?\n",
    "- **F1-Score**: Balance between precision and recall\n",
    "\n",
    "### Expected Output\n",
    "Confusion matrix and performance metrics."
   ]
  },
  {
   "cell_type": "code",
   "execution_count": 23,
   "metadata": {},
   "outputs": [
    {
     "name": "stdout",
     "output_type": "stream",
     "text": [
      "============================================================\n",
      "ANOMALY DETECTION PERFORMANCE\n",
      "============================================================\n",
      "\n",
      "Note: In production, we don't have true labels.\n",
      "This evaluation is possible because we created synthetic data.\n",
      "\n",
      "              precision    recall  f1-score   support\n",
      "\n",
      "      Normal       0.00      0.00      0.00         0\n",
      "     Anomaly       1.00      0.08      0.14      1000\n",
      "\n",
      "    accuracy                           0.08      1000\n",
      "   macro avg       0.50      0.04      0.07      1000\n",
      "weighted avg       1.00      0.08      0.14      1000\n",
      "\n"
     ]
    },
    {
     "data": {
      "image/png": "[encoded data removed]",
      "text/plain": [
       "<Figure size 800x600 with 2 Axes>"
      ]
     },
     "metadata": {},
     "output_type": "display_data"
    },
    {
     "name": "stdout",
     "output_type": "stream",
     "text": [
      "\n",
      "============================================================\n",
      "CONFUSION MATRIX BREAKDOWN\n",
      "============================================================\n",
      "\n",
      "True Negatives (TN):  0 - Correctly identified normal traffic\n",
      "False Positives (FP): 0 - False alarms (normal flagged as anomaly)\n",
      "False Negatives (FN): 922 - Missed attacks (anomaly marked as normal) ⚠️\n",
      "True Positives (TP):  78 - Correctly caught anomalies ✓\n",
      "\n",
      "============================================================\n",
      "CYBERSECURITY PERSPECTIVE\n",
      "============================================================\n",
      "\n",
      "- False Positives (FP): Alert fatigue, wasted investigation time\n",
      "- False Negatives (FN): Missed threats - MOST CRITICAL!\n",
      "\n",
      "Trade-off: Lower threshold = More FP but fewer FN (catch more attacks)\n"
     ]
    }
   ],
   "source": [
    "from sklearn.metrics import classification_report, confusion_matrix\n",
    "\n",
    "print(\"=\" * 60)\n",
    "print(\"ANOMALY DETECTION PERFORMANCE\")\n",
    "print(\"=\" * 60)\n",
    "\n",
    "# Check if we have ground truth labels\n",
    "if 'true_anomaly' in predictions.columns:\n",
    "    print(\"\\nNote: In production, we don't have true labels.\")\n",
    "    print(\"This evaluation is possible because we created synthetic data.\\n\")\n",
    "\n",
    "    # Classification report\n",
    "    print(classification_report(predictions['true_anomaly'], predictions['Anomaly'],\n",
    "                              target_names=['Normal', 'Anomaly']))\n",
    "\n",
    "    # Confusion matrix\n",
    "    cm = confusion_matrix(predictions['true_anomaly'], predictions['Anomaly'])\n",
    "\n",
    "    plt.figure(figsize=(8, 6))\n",
    "    sns.heatmap(cm, annot=True, fmt='d', cmap='Blues',\n",
    "                xticklabels=['Normal', 'Anomaly'],\n",
    "                yticklabels=['Normal', 'Anomaly'])\n",
    "    plt.title('Confusion Matrix - Anomaly Detection', fontsize=14, fontweight='bold')\n",
    "    plt.ylabel('True Label', fontsize=12)\n",
    "    plt.xlabel('Predicted Label', fontsize=12)\n",
    "    plt.tight_layout()\n",
    "    plt.show()\n",
    "\n",
    "    print(\"\\n\" + \"=\" * 60)\n",
    "    print(\"CONFUSION MATRIX BREAKDOWN\")\n",
    "    print(\"=\" * 60)\n",
    "    tn, fp, fn, tp = cm.ravel()\n",
    "    print(f\"\\nTrue Negatives (TN):  {tn} - Correctly identified normal traffic\")\n",
    "    print(f\"False Positives (FP): {fp} - False alarms (normal flagged as anomaly)\")\n",
    "    print(f\"False Negatives (FN): {fn} - Missed attacks (anomaly marked as normal) ⚠️\")\n",
    "    print(f\"True Positives (TP):  {tp} - Correctly caught anomalies ✓\")\n",
    "\n",
    "    print(\"\\n\" + \"=\" * 60)\n",
    "    print(\"CYBERSECURITY PERSPECTIVE\")\n",
    "    print(\"=\" * 60)\n",
    "    print(\"\\n- False Positives (FP): Alert fatigue, wasted investigation time\")\n",
    "    print(\"- False Negatives (FN): Missed threats - MOST CRITICAL!\")\n",
    "    print(\"\\nTrade-off: Lower threshold = More FP but fewer FN (catch more attacks)\")\n",
    "else:\n",
    "    print(\"\\n⚠️  No ground truth labels available (real network traffic data)\")\n",
    "    print(\"=\" * 60)\n",
    "    print(\"IN PRODUCTION MODE\")\n",
    "    print(\"=\" * 60)\n",
    "    print(\"\\nWithout labeled data, we focus on:\")\n",
    "    print(\"1. Anomaly score distribution analysis\")\n",
    "    print(\"2. Manual investigation of top-scoring flows\")\n",
    "    print(\"3. Feedback loop to improve detection over time\")\n",
    "    print(\"4. Integration with security monitoring systems\")\n",
    "    \n",
    "    # Show anomaly score distribution\n",
    "    plt.figure(figsize=(10, 6))\n",
    "    plt.hist(predictions['Anomaly_Score'], bins=50, alpha=0.7, edgecolor='black', color='steelblue')\n",
    "    plt.axvline(predictions['Anomaly_Score'].median(), color='red', linestyle='--', \n",
    "                label=f'Median: {predictions[\"Anomaly_Score\"].median():.3f}')\n",
    "    plt.title('Distribution of Anomaly Scores', fontsize=14, fontweight='bold')\n",
    "    plt.xlabel('Anomaly Score', fontsize=12)\n",
    "    plt.ylabel('Frequency', fontsize=12)\n",
    "    plt.legend()\n",
    "    plt.grid(alpha=0.3)\n",
    "    plt.tight_layout()\n",
    "    plt.show()\n",
    "    \n",
    "    print(\"\\n\" + \"=\" * 60)\n",
    "    print(\"NEXT STEPS FOR INVESTIGATION\")\n",
    "    print(\"=\" * 60)\n",
    "    print(\"\\n1. Review top 10 highest-scoring flows manually\")\n",
    "    print(\"2. Correlate with firewall/IDS logs\")\n",
    "    print(\"3. Check for known attack signatures\")\n",
    "    print(\"4. Adjust threshold based on investigation capacity\")\n",
    "    print(\"5. Create feedback loop to retrain model\")"
   ]
  },
  {
   "cell_type": "markdown",
   "metadata": {},
   "source": [
    "---\n",
    "\n",
    "## Cell 8: Visualize Anomalies\n",
    "\n",
    "### What\n",
    "Visualizing detected anomalies in 2D space using dimensionality reduction.\n",
    "\n",
    "### Why\n",
    "Helps understand:\n",
    "- Where anomalies lie in feature space\n",
    "- If they form patterns\n",
    "- Model behavior\n",
    "\n",
    "### Technical Details\n",
    "PCA or t-SNE reduces dimensions for visualization.\n",
    "\n",
    "### Expected Output\n",
    "2D plot showing normal vs anomalous flows."
   ]
  },
  {
   "cell_type": "code",
   "execution_count": 24,
   "metadata": {},
   "outputs": [
    {
     "name": "stdout",
     "output_type": "stream",
     "text": [
      "============================================================\n",
      "VISUALIZING ANOMALIES IN 2D\n",
      "============================================================\n"
     ]
    },
    {
     "data": {
      "text/html": [],
      "text/plain": [
       "<IPython.core.display.HTML object>"
      ]
     },
     "metadata": {},
     "output_type": "display_data"
    },
    {
     "data": {
      "application/vnd.plotly.v1+json": {
       "config": {
        "plotlyServerURL": "https://plot.ly"
       },
       "data": [
        {
         "customdata": {
          "bdata": "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",
          "dtype": "f4",
          "shape": "1000, 1"
         },
         "hovertemplate": "0=%{x}<br>1=%{y}<br>2=%{z}<br>Feature=%{customdata[0]}<br>Anomaly=%{marker.color}<extra></extra>",
         "legendgroup": "",
         "marker": {
          "color": {
           "bdata": "AQEBAQEBAQEBAQEBAQEBAQEBAQEBAQEBAQEBAAAAAAAAAAAAAAAAAAAAAAAAAAAAAAAAAAAAAAAAAAAAAAAAAAAAAAAAAAAAAAAAAAAAAAAAAAAAAAAAAAAAAAAAAAAAAAAAAAAAAAAAAAAAAAAAAAAAAAAAAAAAAAAAAAAAAAAAAAAAAAAAAAAAAAAAAAAAAAAAAAAAAAAAAAAAAAAAAAAAAAAAAAAAAAAAAAAAAAAAAAAAAAAAAAAAAAAAAAAAAAAAAAAAAAAAAAAAAAAAAAAAAAAAAAAAAAAAAAAAAAAAAAAAAAAAAAAAAAAAAAAAAAAAAAAAAAAAAAAAAAAAAAAAAAAAAAAAAAAAAAAAAAAAAAAAAAAAAAAAAAAAAAAAAAAAAAAAAAAAAAAAAAAAAAAAAAAAAAAAAAAAAAAAAAAAAAAAAAAAAAAAAAAAAAAAAAAAAAAAAAAAAAAAAAAAAAAAAAAAAAAAAAAAAAAAAAAAAAAAAAAAAAAAAAAAAAAAAAAAAAAAAAAAAAAAAAAAAAAAAAAAAAAAAAAAAAAAAAAAAAAAAAAAAAAAAAAAAAAAAAAAAAAAAAAAAAAAAAAAAAAAAAAAAAAAAAAAAAAAAAAAAAAAAAAAAAAAAAAAAAAAAAAAAAAAAAAAAAAAAAAAAAAAAAAAAAAAAAAAAAAAAAAAAAAAAAAAAAAAAAAAAAAAAAAAAAAAAAAAAAAAAAAAAAAAAAAAAAAAAAAAAAAAAQAAAAAAAAAAAAAAAAAAAAAAAAAAAAAAAAAAAAAAAAAAAAAAAAAAAAAAAAAAAAAAAAAAAAEAAAAAAAEAAQAAAAAAAAAAAAAAAAAAAAEAAAAAAAEAAQAAAAAAAAAAAAAAAAAAAAEAAAAAAAEAAQAAAAAAAAAAAAAAAQAAAAAAAQABAAAAAAAAAAAAAAABAAAAAAABAAEAAAAAAAAAAAAAAAEAAAAAAAEAAQAAAAAAAAAAAAAAAAAAAAEAAAAAAAEAAQAAAAAAAAAAAAAAAQAAAAAAAQABAAAAAAAAAAAAAAABAAAAAAABAAEAAAAAAAAAAAAAAAEAAQABAAEAAQAAAAAAAAAAAAAAAAAAAAEAAQABAAEAAQABAAEAAQABAAEAAQABAAEAAQABAAEAAQEAAAAAAAAAAAAAAAAAAAAAAAAAAAAAAAAAAAAAAAAAAAAAAAAAAAAAAAAAAAAAAAAAAAAAAAAAAAAAAAAAAAAAAAAAAAAAAAAAAAAAAAAAAAAAAAAAAAAAAAAAAAAAAAAAAAAAAAAAAAAAAAAAAAAAAAAAAAAAAAAAAAAAAAAAAAAAAAAAAAAAAAAAAA==",
           "dtype": "i1"
          },
          "coloraxis": "coloraxis",
          "opacity": 0.7,
          "symbol": "circle"
         },
         "mode": "markers",
         "name": "",
         "scene": "scene",
         "showlegend": false,
         "type": "scatter3d",
         "x": {
          "bdata": "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",
          "dtype": "f4"
         },
         "y": {
          "bdata": "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",
          "dtype": "f4"
         },
         "z": {
          "bdata": "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",
          "dtype": "f4"
         }
        }
       ],
       "layout": {
        "coloraxis": {
         "colorbar": {
          "title": {
           "text": "Anomaly"
          }
         },
         "colorscale": [
          [
           0,
           "#0d0887"
          ],
          [
           0.1111111111111111,
           "#46039f"
          ],
          [
           0.2222222222222222,
           "#7201a8"
          ],
          [
           0.3333333333333333,
           "#9c179e"
          ],
          [
           0.4444444444444444,
           "#bd3786"
          ],
          [
           0.5555555555555556,
           "#d8576b"
          ],
          [
           0.6666666666666666,
           "#ed7953"
          ],
          [
           0.7777777777777778,
           "#fb9f3a"
          ],
          [
           0.8888888888888888,
           "#fdca26"
          ],
          [
           1,
           "#f0f921"
          ]
         ]
        },
        "height": 800,
        "legend": {
         "tracegroupgap": 0
        },
        "scene": {
         "domain": {
          "x": [
           0,
           1
          ],
          "y": [
           0,
           1
          ]
         },
         "xaxis": {
          "title": {
           "text": "0"
          }
         },
         "yaxis": {
          "title": {
           "text": "1"
          }
         },
         "zaxis": {
          "title": {
           "text": "2"
          }
         }
        },
        "template": {
         "data": {
          "bar": [
           {
            "error_x": {
             "color": "#2a3f5f"
            },
            "error_y": {
             "color": "#2a3f5f"
            },
            "marker": {
             "line": {
              "color": "#E5ECF6",
              "width": 0.5
             },
             "pattern": {
              "fillmode": "overlay",
              "size": 10,
              "solidity": 0.2
             }
            },
            "type": "bar"
           }
          ],
          "barpolar": [
           {
            "marker": {
             "line": {
              "color": "#E5ECF6",
              "width": 0.5
             },
             "pattern": {
              "fillmode": "overlay",
              "size": 10,
              "solidity": 0.2
             }
            },
            "type": "barpolar"
           }
          ],
          "carpet": [
           {
            "aaxis": {
             "endlinecolor": "#2a3f5f",
             "gridcolor": "white",
             "linecolor": "white",
             "minorgridcolor": "white",
             "startlinecolor": "#2a3f5f"
            },
            "baxis": {
             "endlinecolor": "#2a3f5f",
             "gridcolor": "white",
             "linecolor": "white",
             "minorgridcolor": "white",
             "startlinecolor": "#2a3f5f"
            },
            "type": "carpet"
           }
          ],
          "choropleth": [
           {
            "colorbar": {
             "outlinewidth": 0,
             "ticks": ""
            },
            "type": "choropleth"
           }
          ],
          "contour": [
           {
            "colorbar": {
             "outlinewidth": 0,
             "ticks": ""
            },
            "colorscale": [
             [
              0,
              "#0d0887"
             ],
             [
              0.1111111111111111,
              "#46039f"
             ],
             [
              0.2222222222222222,
              "#7201a8"
             ],
             [
              0.3333333333333333,
              "#9c179e"
             ],
             [
              0.4444444444444444,
              "#bd3786"
             ],
             [
              0.5555555555555556,
              "#d8576b"
             ],
             [
              0.6666666666666666,
              "#ed7953"
             ],
             [
              0.7777777777777778,
              "#fb9f3a"
             ],
             [
              0.8888888888888888,
              "#fdca26"
             ],
             [
              1,
              "#f0f921"
             ]
            ],
            "type": "contour"
           }
          ],
          "contourcarpet": [
           {
            "colorbar": {
             "outlinewidth": 0,
             "ticks": ""
            },
            "type": "contourcarpet"
           }
          ],
          "heatmap": [
           {
            "colorbar": {
             "outlinewidth": 0,
             "ticks": ""
            },
            "colorscale": [
             [
              0,
              "#0d0887"
             ],
             [
              0.1111111111111111,
              "#46039f"
             ],
             [
              0.2222222222222222,
              "#7201a8"
             ],
             [
              0.3333333333333333,
              "#9c179e"
             ],
             [
              0.4444444444444444,
              "#bd3786"
             ],
             [
              0.5555555555555556,
              "#d8576b"
             ],
             [
              0.6666666666666666,
              "#ed7953"
             ],
             [
              0.7777777777777778,
              "#fb9f3a"
             ],
             [
              0.8888888888888888,
              "#fdca26"
             ],
             [
              1,
              "#f0f921"
             ]
            ],
            "type": "heatmap"
           }
          ],
          "histogram": [
           {
            "marker": {
             "pattern": {
              "fillmode": "overlay",
              "size": 10,
              "solidity": 0.2
             }
            },
            "type": "histogram"
           }
          ],
          "histogram2d": [
           {
            "colorbar": {
             "outlinewidth": 0,
             "ticks": ""
            },
            "colorscale": [
             [
              0,
              "#0d0887"
             ],
             [
              0.1111111111111111,
              "#46039f"
             ],
             [
              0.2222222222222222,
              "#7201a8"
             ],
             [
              0.3333333333333333,
              "#9c179e"
             ],
             [
              0.4444444444444444,
              "#bd3786"
             ],
             [
              0.5555555555555556,
              "#d8576b"
             ],
             [
              0.6666666666666666,
              "#ed7953"
             ],
             [
              0.7777777777777778,
              "#fb9f3a"
             ],
             [
              0.8888888888888888,
              "#fdca26"
             ],
             [
              1,
              "#f0f921"
             ]
            ],
            "type": "histogram2d"
           }
          ],
          "histogram2dcontour": [
           {
            "colorbar": {
             "outlinewidth": 0,
             "ticks": ""
            },
            "colorscale": [
             [
              0,
              "#0d0887"
             ],
             [
              0.1111111111111111,
              "#46039f"
             ],
             [
              0.2222222222222222,
              "#7201a8"
             ],
             [
              0.3333333333333333,
              "#9c179e"
             ],
             [
              0.4444444444444444,
              "#bd3786"
             ],
             [
              0.5555555555555556,
              "#d8576b"
             ],
             [
              0.6666666666666666,
              "#ed7953"
             ],
             [
              0.7777777777777778,
              "#fb9f3a"
             ],
             [
              0.8888888888888888,
              "#fdca26"
             ],
             [
              1,
              "#f0f921"
             ]
            ],
            "type": "histogram2dcontour"
           }
          ],
          "mesh3d": [
           {
            "colorbar": {
             "outlinewidth": 0,
             "ticks": ""
            },
            "type": "mesh3d"
           }
          ],
          "parcoords": [
           {
            "line": {
             "colorbar": {
              "outlinewidth": 0,
              "ticks": ""
             }
            },
            "type": "parcoords"
           }
          ],
          "pie": [
           {
            "automargin": true,
            "type": "pie"
           }
          ],
          "scatter": [
           {
            "fillpattern": {
             "fillmode": "overlay",
             "size": 10,
             "solidity": 0.2
            },
            "type": "scatter"
           }
          ],
          "scatter3d": [
           {
            "line": {
             "colorbar": {
              "outlinewidth": 0,
              "ticks": ""
             }
            },
            "marker": {
             "colorbar": {
              "outlinewidth": 0,
              "ticks": ""
             }
            },
            "type": "scatter3d"
           }
          ],
          "scattercarpet": [
           {
            "marker": {
             "colorbar": {
              "outlinewidth": 0,
              "ticks": ""
             }
            },
            "type": "scattercarpet"
           }
          ],
          "scattergeo": [
           {
            "marker": {
             "colorbar": {
              "outlinewidth": 0,
              "ticks": ""
             }
            },
            "type": "scattergeo"
           }
          ],
          "scattergl": [
           {
            "marker": {
             "colorbar": {
              "outlinewidth": 0,
              "ticks": ""
             }
            },
            "type": "scattergl"
           }
          ],
          "scattermap": [
           {
            "marker": {
             "colorbar": {
              "outlinewidth": 0,
              "ticks": ""
             }
            },
            "type": "scattermap"
           }
          ],
          "scattermapbox": [
           {
            "marker": {
             "colorbar": {
              "outlinewidth": 0,
              "ticks": ""
             }
            },
            "type": "scattermapbox"
           }
          ],
          "scatterpolar": [
           {
            "marker": {
             "colorbar": {
              "outlinewidth": 0,
              "ticks": ""
             }
            },
            "type": "scatterpolar"
           }
          ],
          "scatterpolargl": [
           {
            "marker": {
             "colorbar": {
              "outlinewidth": 0,
              "ticks": ""
             }
            },
            "type": "scatterpolargl"
           }
          ],
          "scatterternary": [
           {
            "marker": {
             "colorbar": {
              "outlinewidth": 0,
              "ticks": ""
             }
            },
            "type": "scatterternary"
           }
          ],
          "surface": [
           {
            "colorbar": {
             "outlinewidth": 0,
             "ticks": ""
            },
            "colorscale": [
             [
              0,
              "#0d0887"
             ],
             [
              0.1111111111111111,
              "#46039f"
             ],
             [
              0.2222222222222222,
              "#7201a8"
             ],
             [
              0.3333333333333333,
              "#9c179e"
             ],
             [
              0.4444444444444444,
              "#bd3786"
             ],
             [
              0.5555555555555556,
              "#d8576b"
             ],
             [
              0.6666666666666666,
              "#ed7953"
             ],
             [
              0.7777777777777778,
              "#fb9f3a"
             ],
             [
              0.8888888888888888,
              "#fdca26"
             ],
             [
              1,
              "#f0f921"
             ]
            ],
            "type": "surface"
           }
          ],
          "table": [
           {
            "cells": {
             "fill": {
              "color": "#EBF0F8"
             },
             "line": {
              "color": "white"
             }
            },
            "header": {
             "fill": {
              "color": "#C8D4E3"
             },
             "line": {
              "color": "white"
             }
            },
            "type": "table"
           }
          ]
         },
         "layout": {
          "annotationdefaults": {
           "arrowcolor": "#2a3f5f",
           "arrowhead": 0,
           "arrowwidth": 1
          },
          "autotypenumbers": "strict",
          "coloraxis": {
           "colorbar": {
            "outlinewidth": 0,
            "ticks": ""
           }
          },
          "colorscale": {
           "diverging": [
            [
             0,
             "#8e0152"
            ],
            [
             0.1,
             "#c51b7d"
            ],
            [
             0.2,
             "#de77ae"
            ],
            [
             0.3,
             "#f1b6da"
            ],
            [
             0.4,
             "#fde0ef"
            ],
            [
             0.5,
             "#f7f7f7"
            ],
            [
             0.6,
             "#e6f5d0"
            ],
            [
             0.7,
             "#b8e186"
            ],
            [
             0.8,
             "#7fbc41"
            ],
            [
             0.9,
             "#4d9221"
            ],
            [
             1,
             "#276419"
            ]
           ],
           "sequential": [
            [
             0,
             "#0d0887"
            ],
            [
             0.1111111111111111,
             "#46039f"
            ],
            [
             0.2222222222222222,
             "#7201a8"
            ],
            [
             0.3333333333333333,
             "#9c179e"
            ],
            [
             0.4444444444444444,
             "#bd3786"
            ],
            [
             0.5555555555555556,
             "#d8576b"
            ],
            [
             0.6666666666666666,
             "#ed7953"
            ],
            [
             0.7777777777777778,
             "#fb9f3a"
            ],
            [
             0.8888888888888888,
             "#fdca26"
            ],
            [
             1,
             "#f0f921"
            ]
           ],
           "sequentialminus": [
            [
             0,
             "#0d0887"
            ],
            [
             0.1111111111111111,
             "#46039f"
            ],
            [
             0.2222222222222222,
             "#7201a8"
            ],
            [
             0.3333333333333333,
             "#9c179e"
            ],
            [
             0.4444444444444444,
             "#bd3786"
            ],
            [
             0.5555555555555556,
             "#d8576b"
            ],
            [
             0.6666666666666666,
             "#ed7953"
            ],
            [
             0.7777777777777778,
             "#fb9f3a"
            ],
            [
             0.8888888888888888,
             "#fdca26"
            ],
            [
             1,
             "#f0f921"
            ]
           ]
          },
          "colorway": [
           "#636efa",
           "#EF553B",
           "#00cc96",
           "#ab63fa",
           "#FFA15A",
           "#19d3f3",
           "#FF6692",
           "#B6E880",
           "#FF97FF",
           "#FECB52"
          ],
          "font": {
           "color": "#2a3f5f"
          },
          "geo": {
           "bgcolor": "white",
           "lakecolor": "white",
           "landcolor": "#E5ECF6",
           "showlakes": true,
           "showland": true,
           "subunitcolor": "white"
          },
          "hoverlabel": {
           "align": "left"
          },
          "hovermode": "closest",
          "mapbox": {
           "style": "light"
          },
          "paper_bgcolor": "white",
          "plot_bgcolor": "#E5ECF6",
          "polar": {
           "angularaxis": {
            "gridcolor": "white",
            "linecolor": "white",
            "ticks": ""
           },
           "bgcolor": "#E5ECF6",
           "radialaxis": {
            "gridcolor": "white",
            "linecolor": "white",
            "ticks": ""
           }
          },
          "scene": {
           "xaxis": {
            "backgroundcolor": "#E5ECF6",
            "gridcolor": "white",
            "gridwidth": 2,
            "linecolor": "white",
            "showbackground": true,
            "ticks": "",
            "zerolinecolor": "white"
           },
           "yaxis": {
            "backgroundcolor": "#E5ECF6",
            "gridcolor": "white",
            "gridwidth": 2,
            "linecolor": "white",
            "showbackground": true,
            "ticks": "",
            "zerolinecolor": "white"
           },
           "zaxis": {
            "backgroundcolor": "#E5ECF6",
            "gridcolor": "white",
            "gridwidth": 2,
            "linecolor": "white",
            "showbackground": true,
            "ticks": "",
            "zerolinecolor": "white"
           }
          },
          "shapedefaults": {
           "line": {
            "color": "#2a3f5f"
           }
          },
          "ternary": {
           "aaxis": {
            "gridcolor": "white",
            "linecolor": "white",
            "ticks": ""
           },
           "baxis": {
            "gridcolor": "white",
            "linecolor": "white",
            "ticks": ""
           },
           "bgcolor": "#E5ECF6",
           "caxis": {
            "gridcolor": "white",
            "linecolor": "white",
            "ticks": ""
           }
          },
          "title": {
           "x": 0.05
          },
          "xaxis": {
           "automargin": true,
           "gridcolor": "white",
           "linecolor": "white",
           "ticks": "",
           "title": {
            "standoff": 15
           },
           "zerolinecolor": "white",
           "zerolinewidth": 2
          },
          "yaxis": {
           "automargin": true,
           "gridcolor": "white",
           "linecolor": "white",
           "ticks": "",
           "title": {
            "standoff": 15
           },
           "zerolinecolor": "white",
           "zerolinewidth": 2
          }
         }
        },
        "title": {
         "text": "3d TSNE Plot for Outliers"
        },
        "width": 900
       }
      }
     },
     "metadata": {},
     "output_type": "display_data"
    },
    {
     "name": "stdout",
     "output_type": "stream",
     "text": [
      "\n",
      "============================================================\n",
      "INTERPRETING THE VISUALIZATION\n",
      "============================================================\n",
      "\n",
      "- Blue points: Normal network traffic\n",
      "- Red/Yellow points: Detected anomalies\n",
      "- t-SNE reduces 7 dimensions to 2D\n",
      "\n",
      "Good detection shows:\n",
      "- Anomalies at edges/outside main cluster\n",
      "- Clear separation from normal traffic\n",
      "- Some clustering of similar attack types\n"
     ]
    }
   ],
   "source": [
    "print(\"=\" * 60)\n",
    "print(\"VISUALIZING ANOMALIES IN 2D\")\n",
    "print(\"=\" * 60)\n",
    "\n",
    "# PyCaret's built-in visualization\n",
    "plot_model(iforest, plot='tsne')\n",
    "\n",
    "print(\"\\n\" + \"=\" * 60)\n",
    "print(\"INTERPRETING THE VISUALIZATION\")\n",
    "print(\"=\" * 60)\n",
    "print(\"\\n- Blue points: Normal network traffic\")\n",
    "print(\"- Red/Yellow points: Detected anomalies\")\n",
    "print(\"- t-SNE reduces 7 dimensions to 2D\")\n",
    "print(\"\\nGood detection shows:\")\n",
    "print(\"- Anomalies at edges/outside main cluster\")\n",
    "print(\"- Clear separation from normal traffic\")\n",
    "print(\"- Some clustering of similar attack types\")"
   ]
  },
  {
   "cell_type": "markdown",
   "metadata": {},
   "source": [
    "---\n",
    "\n",
    "## Cell 9: Analyze Top Anomalies\n",
    "\n",
    "### What\n",
    "Examining the most suspicious network flows for investigation.\n",
    "\n",
    "### Why\n",
    "In production:\n",
    "- Security teams investigate top-scoring flows first\n",
    "- Limited resources require prioritization\n",
    "- Understanding patterns helps create rules\n",
    "\n",
    "### Technical Details\n",
    "Sort by anomaly score to get most suspicious flows.\n",
    "\n",
    "### Expected Output\n",
    "List of highest-scoring anomalies with characteristics."
   ]
  },
  {
   "cell_type": "code",
   "execution_count": 25,
   "metadata": {},
   "outputs": [
    {
     "name": "stdout",
     "output_type": "stream",
     "text": [
      "============================================================\n",
      "TOP 10 MOST SUSPICIOUS NETWORK FLOWS\n",
      "============================================================\n",
      "\n",
      "These flows should be investigated first:\n",
      "\n"
     ]
    },
    {
     "data": {
      "text/html": [
       "<div>\n",
       "<style scoped>\n",
       "    .dataframe tbody tr th:only-of-type {\n",
       "        vertical-align: middle;\n",
       "    }\n",
       "\n",
       "    .dataframe tbody tr th {\n",
       "        vertical-align: top;\n",
       "    }\n",
       "\n",
       "    .dataframe thead th {\n",
       "        text-align: right;\n",
       "    }\n",
       "</style>\n",
       "<table border=\"1\" class=\"dataframe\">\n",
       "  <thead>\n",
       "    <tr style=\"text-align: right;\">\n",
       "      <th></th>\n",
       "      <th>duration</th>\n",
       "      <th>packets_count</th>\n",
       "      <th>fwd_packets_count</th>\n",
       "      <th>bwd_packets_count</th>\n",
       "      <th>Anomaly_Score</th>\n",
       "      <th>true_anomaly</th>\n",
       "    </tr>\n",
       "  </thead>\n",
       "  <tbody>\n",
       "    <tr>\n",
       "      <th>26</th>\n",
       "      <td>9.605611</td>\n",
       "      <td>20</td>\n",
       "      <td>11</td>\n",
       "      <td>9</td>\n",
       "      <td>0.200997</td>\n",
       "      <td>1</td>\n",
       "    </tr>\n",
       "    <tr>\n",
       "      <th>23</th>\n",
       "      <td>1.840034</td>\n",
       "      <td>10</td>\n",
       "      <td>6</td>\n",
       "      <td>4</td>\n",
       "      <td>0.172505</td>\n",
       "      <td>1</td>\n",
       "    </tr>\n",
       "    <tr>\n",
       "      <th>634</th>\n",
       "      <td>6.026895</td>\n",
       "      <td>14</td>\n",
       "      <td>8</td>\n",
       "      <td>6</td>\n",
       "      <td>0.153934</td>\n",
       "      <td>1</td>\n",
       "    </tr>\n",
       "    <tr>\n",
       "      <th>790</th>\n",
       "      <td>0.002193</td>\n",
       "      <td>11</td>\n",
       "      <td>6</td>\n",
       "      <td>5</td>\n",
       "      <td>0.152661</td>\n",
       "      <td>1</td>\n",
       "    </tr>\n",
       "    <tr>\n",
       "      <th>748</th>\n",
       "      <td>0.005535</td>\n",
       "      <td>15</td>\n",
       "      <td>9</td>\n",
       "      <td>6</td>\n",
       "      <td>0.151175</td>\n",
       "      <td>1</td>\n",
       "    </tr>\n",
       "    <tr>\n",
       "      <th>640</th>\n",
       "      <td>0.389966</td>\n",
       "      <td>14</td>\n",
       "      <td>8</td>\n",
       "      <td>6</td>\n",
       "      <td>0.149124</td>\n",
       "      <td>1</td>\n",
       "    </tr>\n",
       "    <tr>\n",
       "      <th>724</th>\n",
       "      <td>0.382072</td>\n",
       "      <td>14</td>\n",
       "      <td>8</td>\n",
       "      <td>6</td>\n",
       "      <td>0.148145</td>\n",
       "      <td>1</td>\n",
       "    </tr>\n",
       "    <tr>\n",
       "      <th>768</th>\n",
       "      <td>0.230924</td>\n",
       "      <td>14</td>\n",
       "      <td>8</td>\n",
       "      <td>6</td>\n",
       "      <td>0.148145</td>\n",
       "      <td>1</td>\n",
       "    </tr>\n",
       "    <tr>\n",
       "      <th>704</th>\n",
       "      <td>0.004509</td>\n",
       "      <td>15</td>\n",
       "      <td>9</td>\n",
       "      <td>6</td>\n",
       "      <td>0.144821</td>\n",
       "      <td>1</td>\n",
       "    </tr>\n",
       "    <tr>\n",
       "      <th>810</th>\n",
       "      <td>0.002464</td>\n",
       "      <td>11</td>\n",
       "      <td>6</td>\n",
       "      <td>5</td>\n",
       "      <td>0.144417</td>\n",
       "      <td>1</td>\n",
       "    </tr>\n",
       "  </tbody>\n",
       "</table>\n",
       "</div>"
      ],
      "text/plain": [
       "     duration  packets_count  fwd_packets_count  bwd_packets_count  \\\n",
       "26   9.605611             20                 11                  9   \n",
       "23   1.840034             10                  6                  4   \n",
       "634  6.026895             14                  8                  6   \n",
       "790  0.002193             11                  6                  5   \n",
       "748  0.005535             15                  9                  6   \n",
       "640  0.389966             14                  8                  6   \n",
       "724  0.382072             14                  8                  6   \n",
       "768  0.230924             14                  8                  6   \n",
       "704  0.004509             15                  9                  6   \n",
       "810  0.002464             11                  6                  5   \n",
       "\n",
       "     Anomaly_Score  true_anomaly  \n",
       "26        0.200997             1  \n",
       "23        0.172505             1  \n",
       "634       0.153934             1  \n",
       "790       0.152661             1  \n",
       "748       0.151175             1  \n",
       "640       0.149124             1  \n",
       "724       0.148145             1  \n",
       "768       0.148145             1  \n",
       "704       0.144821             1  \n",
       "810       0.144417             1  "
      ]
     },
     "metadata": {},
     "output_type": "display_data"
    },
    {
     "name": "stdout",
     "output_type": "stream",
     "text": [
      "\n",
      "============================================================\n",
      "CHARACTERISTICS OF DETECTED ANOMALIES\n",
      "============================================================\n",
      "\n",
      "Average values: Normal vs Anomalous traffic (first 10 features)\n"
     ]
    },
    {
     "data": {
      "text/html": [
       "<div>\n",
       "<style scoped>\n",
       "    .dataframe tbody tr th:only-of-type {\n",
       "        vertical-align: middle;\n",
       "    }\n",
       "\n",
       "    .dataframe tbody tr th {\n",
       "        vertical-align: top;\n",
       "    }\n",
       "\n",
       "    .dataframe thead th {\n",
       "        text-align: right;\n",
       "    }\n",
       "</style>\n",
       "<table border=\"1\" class=\"dataframe\">\n",
       "  <thead>\n",
       "    <tr style=\"text-align: right;\">\n",
       "      <th></th>\n",
       "      <th>Feature</th>\n",
       "      <th>Normal_Mean</th>\n",
       "      <th>Anomaly_Mean</th>\n",
       "      <th>Difference_%</th>\n",
       "    </tr>\n",
       "  </thead>\n",
       "  <tbody>\n",
       "    <tr>\n",
       "      <th>0</th>\n",
       "      <td>duration</td>\n",
       "      <td>0.000147</td>\n",
       "      <td>1.059413</td>\n",
       "      <td>7.186309e+05</td>\n",
       "    </tr>\n",
       "    <tr>\n",
       "      <th>1</th>\n",
       "      <td>packets_count</td>\n",
       "      <td>1.678959</td>\n",
       "      <td>7.923077</td>\n",
       "      <td>3.719000e+02</td>\n",
       "    </tr>\n",
       "    <tr>\n",
       "      <th>2</th>\n",
       "      <td>fwd_packets_count</td>\n",
       "      <td>1.249458</td>\n",
       "      <td>4.576923</td>\n",
       "      <td>2.663000e+02</td>\n",
       "    </tr>\n",
       "    <tr>\n",
       "      <th>3</th>\n",
       "      <td>bwd_packets_count</td>\n",
       "      <td>0.429501</td>\n",
       "      <td>3.346154</td>\n",
       "      <td>6.791000e+02</td>\n",
       "    </tr>\n",
       "    <tr>\n",
       "      <th>4</th>\n",
       "      <td>total_payload_bytes</td>\n",
       "      <td>0.000000</td>\n",
       "      <td>4656.371795</td>\n",
       "      <td>4.656372e+15</td>\n",
       "    </tr>\n",
       "    <tr>\n",
       "      <th>5</th>\n",
       "      <td>fwd_total_payload_bytes</td>\n",
       "      <td>0.000000</td>\n",
       "      <td>35.679487</td>\n",
       "      <td>3.567949e+13</td>\n",
       "    </tr>\n",
       "    <tr>\n",
       "      <th>6</th>\n",
       "      <td>bwd_total_payload_bytes</td>\n",
       "      <td>0.000000</td>\n",
       "      <td>4620.692308</td>\n",
       "      <td>4.620692e+15</td>\n",
       "    </tr>\n",
       "    <tr>\n",
       "      <th>7</th>\n",
       "      <td>payload_bytes_max</td>\n",
       "      <td>0.000000</td>\n",
       "      <td>2030.846154</td>\n",
       "      <td>2.030846e+15</td>\n",
       "    </tr>\n",
       "    <tr>\n",
       "      <th>8</th>\n",
       "      <td>payload_bytes_min</td>\n",
       "      <td>0.000000</td>\n",
       "      <td>0.000000</td>\n",
       "      <td>0.000000e+00</td>\n",
       "    </tr>\n",
       "    <tr>\n",
       "      <th>9</th>\n",
       "      <td>payload_bytes_mean</td>\n",
       "      <td>0.000000</td>\n",
       "      <td>359.479218</td>\n",
       "      <td>3.594792e+14</td>\n",
       "    </tr>\n",
       "  </tbody>\n",
       "</table>\n",
       "</div>"
      ],
      "text/plain": [
       "                   Feature  Normal_Mean  Anomaly_Mean  Difference_%\n",
       "0                 duration     0.000147      1.059413  7.186309e+05\n",
       "1            packets_count     1.678959      7.923077  3.719000e+02\n",
       "2        fwd_packets_count     1.249458      4.576923  2.663000e+02\n",
       "3        bwd_packets_count     0.429501      3.346154  6.791000e+02\n",
       "4      total_payload_bytes     0.000000   4656.371795  4.656372e+15\n",
       "5  fwd_total_payload_bytes     0.000000     35.679487  3.567949e+13\n",
       "6  bwd_total_payload_bytes     0.000000   4620.692308  4.620692e+15\n",
       "7        payload_bytes_max     0.000000   2030.846154  2.030846e+15\n",
       "8        payload_bytes_min     0.000000      0.000000  0.000000e+00\n",
       "9       payload_bytes_mean     0.000000    359.479218  3.594792e+14"
      ]
     },
     "metadata": {},
     "output_type": "display_data"
    },
    {
     "name": "stdout",
     "output_type": "stream",
     "text": [
      "\n",
      "Key patterns in anomalies:\n",
      "- duration: 718630.9% higher than normal\n",
      "- packets_count: 371.9% higher than normal\n",
      "- fwd_packets_count: 266.3% higher than normal\n",
      "- bwd_packets_count: 679.1% higher than normal\n",
      "- total_payload_bytes: 4656371794871795.0% higher than normal\n",
      "- fwd_total_payload_bytes: 35679487179487.2% higher than normal\n",
      "- bwd_total_payload_bytes: 4620692307692308.0% higher than normal\n",
      "- payload_bytes_max: 2030846153846154.0% higher than normal\n",
      "- payload_bytes_mean: 359479217529296.9% higher than normal\n"
     ]
    }
   ],
   "source": [
    "print(\"=\" * 60)\n",
    "print(\"TOP 10 MOST SUSPICIOUS NETWORK FLOWS\")\n",
    "print(\"=\" * 60)\n",
    "\n",
    "# Get top anomalies\n",
    "top_anomalies = predictions[predictions['Anomaly']==1].sort_values('Anomaly_Score', ascending=False).head(10)\n",
    "\n",
    "# Select relevant columns dynamically\n",
    "feature_cols = [col for col in predictions.columns if col not in ['Anomaly', 'Anomaly_Score', 'true_anomaly']]\n",
    "display_cols = feature_cols[:4] + ['Anomaly_Score']  # First 4 features + score\n",
    "\n",
    "print(\"\\nThese flows should be investigated first:\\n\")\n",
    "if 'true_anomaly' in predictions.columns:\n",
    "    display(top_anomalies[display_cols + ['true_anomaly']])\n",
    "else:\n",
    "    display(top_anomalies[display_cols])\n",
    "\n",
    "print(\"\\n\" + \"=\" * 60)\n",
    "print(\"CHARACTERISTICS OF DETECTED ANOMALIES\")\n",
    "print(\"=\" * 60)\n",
    "\n",
    "# Prepare data for comparison (remove prediction columns)\n",
    "cols_to_drop = ['Anomaly', 'Anomaly_Score']\n",
    "if 'true_anomaly' in predictions.columns:\n",
    "    cols_to_drop.append('true_anomaly')\n",
    "\n",
    "anomalies_only = predictions[predictions['Anomaly']==1].drop(cols_to_drop, axis=1)\n",
    "normal_only = predictions[predictions['Anomaly']==0].drop(cols_to_drop, axis=1)\n",
    "\n",
    "# Show comparison for first 10 features (for readability)\n",
    "comparison_cols = anomalies_only.columns[:10]\n",
    "\n",
    "comparison = pd.DataFrame({\n",
    "    'Feature': comparison_cols,\n",
    "    'Normal_Mean': normal_only[comparison_cols].mean().values,\n",
    "    'Anomaly_Mean': anomalies_only[comparison_cols].mean().values\n",
    "})\n",
    "comparison['Difference_%'] = ((comparison['Anomaly_Mean'] - comparison['Normal_Mean']) / \n",
    "                               (comparison['Normal_Mean'] + 1e-10) * 100).round(1)  # Add small value to avoid division by zero\n",
    "\n",
    "print(f\"\\nAverage values: Normal vs Anomalous traffic (first {len(comparison_cols)} features)\")\n",
    "display(comparison)\n",
    "\n",
    "print(\"\\nKey patterns in anomalies:\")\n",
    "for idx, row in comparison.iterrows():\n",
    "    if abs(row['Difference_%']) > 50:\n",
    "        direction = \"higher\" if row['Difference_%'] > 0 else \"lower\"\n",
    "        print(f\"- {row['Feature']}: {abs(row['Difference_%']):.1f}% {direction} than normal\")"
   ]
  },
  {
   "cell_type": "markdown",
   "metadata": {},
   "source": [
    "---\n",
    "\n",
    "## Cell 10: Save Anomaly Detection Model\n",
    "\n",
    "### What\n",
    "Saving the trained anomaly detection model for deployment.\n",
    "\n",
    "### Why\n",
    "Production deployment:\n",
    "- Real-time network monitoring\n",
    "- Continuous threat detection\n",
    "- Automated alerting\n",
    "- Integration with SIEM systems\n",
    "\n",
    "### Technical Details\n",
    "Model can score new flows in real-time.\n",
    "\n",
    "### Expected Output\n",
    "Saved model ready for production use."
   ]
  },
  {
   "cell_type": "code",
   "execution_count": 26,
   "metadata": {},
   "outputs": [
    {
     "name": "stdout",
     "output_type": "stream",
     "text": [
      "============================================================\n",
      "SAVING ANOMALY DETECTION MODEL\n",
      "============================================================\n",
      "Transformation Pipeline and Model Successfully Saved\n",
      "\n",
      "✓ Model saved as 'network_intrusion_detector.pkl'\n",
      "\n",
      "============================================================\n",
      "DEPLOYMENT ARCHITECTURE\n",
      "============================================================\n",
      "\n",
      "1. Network Traffic Capture\n",
      "   ↓ Extract flow features\n",
      "2. Feature Engineering\n",
      "   ↓ Normalize, transform\n",
      "3. Anomaly Detection Model\n",
      "   ↓ Score each flow\n",
      "4. Alert System\n",
      "   ↓ High scores trigger alerts\n",
      "5. Security Team Investigation\n",
      "\n",
      "============================================================\n",
      "PRODUCTION CONSIDERATIONS\n",
      "============================================================\n",
      "\n",
      "- Set appropriate anomaly threshold based on team capacity\n",
      "- Implement alert prioritization (score-based)\n",
      "- Regular model retraining with new normal traffic\n",
      "- Feedback loop: Confirmed attacks improve model\n",
      "- Integration with firewall for automatic blocking\n",
      "\n",
      "============================================================\n",
      "TO USE THE MODEL\n",
      "============================================================\n",
      "\n",
      "```python\n",
      "from pycaret.anomaly import load_model, predict_model\n",
      "model = load_model('network_intrusion_detector')\n",
      "predictions = predict_model(model, data=new_traffic)\n",
      "suspicious = predictions[predictions['Anomaly']==1]\n",
      "```\n"
     ]
    }
   ],
   "source": [
    "print(\"=\" * 60)\n",
    "print(\"SAVING ANOMALY DETECTION MODEL\")\n",
    "print(\"=\" * 60)\n",
    "\n",
    "model_name = 'network_intrusion_detector'\n",
    "save_model(iforest, model_name)\n",
    "\n",
    "print(f\"\\n✓ Model saved as '{model_name}.pkl'\")\n",
    "\n",
    "print(\"\\n\" + \"=\" * 60)\n",
    "print(\"DEPLOYMENT ARCHITECTURE\")\n",
    "print(\"=\" * 60)\n",
    "print(\"\\n1. Network Traffic Capture\")\n",
    "print(\"   ↓ Extract flow features\")\n",
    "print(\"2. Feature Engineering\")\n",
    "print(\"   ↓ Normalize, transform\")\n",
    "print(\"3. Anomaly Detection Model\")\n",
    "print(\"   ↓ Score each flow\")\n",
    "print(\"4. Alert System\")\n",
    "print(\"   ↓ High scores trigger alerts\")\n",
    "print(\"5. Security Team Investigation\")\n",
    "\n",
    "print(\"\\n\" + \"=\" * 60)\n",
    "print(\"PRODUCTION CONSIDERATIONS\")\n",
    "print(\"=\" * 60)\n",
    "print(\"\\n- Set appropriate anomaly threshold based on team capacity\")\n",
    "print(\"- Implement alert prioritization (score-based)\")\n",
    "print(\"- Regular model retraining with new normal traffic\")\n",
    "print(\"- Feedback loop: Confirmed attacks improve model\")\n",
    "print(\"- Integration with firewall for automatic blocking\")\n",
    "\n",
    "print(\"\\n\" + \"=\" * 60)\n",
    "print(\"TO USE THE MODEL\")\n",
    "print(\"=\" * 60)\n",
    "print(\"\\n```python\")\n",
    "print(\"from pycaret.anomaly import load_model, predict_model\")\n",
    "print(f\"model = load_model('{model_name}')\")\n",
    "print(\"predictions = predict_model(model, data=new_traffic)\")\n",
    "print(\"suspicious = predictions[predictions['Anomaly']==1]\")\n",
    "print(\"```\")"
   ]
  },
  {
   "cell_type": "markdown",
   "metadata": {},
   "source": [
    "---\n",
    "\n",
    "## Conclusions and Key Takeaways\n",
    "\n",
    "### What We Accomplished\n",
    "\n",
    "1. **Anomaly Detection**: Identified unusual network traffic patterns\n",
    "2. **Unsupervised Learning**: No labeled attacks needed for training\n",
    "3. **Multiple Algorithms**: Compared Isolation Forest, LOF, One-Class SVM\n",
    "4. **Anomaly Scoring**: Ranked suspicious flows for investigation\n",
    "5. **Production Ready**: Model ready for real-time intrusion detection\n",
    "\n",
    "### Key Learnings\n",
    "\n",
    "#### Anomaly Detection vs Other ML Tasks\n",
    "\n",
    "| Aspect | Classification | Clustering | Anomaly Detection |\n",
    "|--------|---------------|-----------|------------------|\n",
    "| Goal | Predict labels | Find groups | Find outliers |\n",
    "| Labels | Required | None | None |\n",
    "| Output | Class | Cluster ID | Anomaly score |\n",
    "| Assumption | Balanced classes | Natural groups | Most data is normal |\n",
    "| Use Case | Diagnosis | Segmentation | Fraud, intrusion |\n",
    "\n",
    "#### Technical Skills\n",
    "- **Isolation Forest**: Fast, scalable outlier detection\n",
    "- **LOF**: Density-based anomaly detection\n",
    "- **One-Class SVM**: Boundary-based detection\n",
    "- **Anomaly Scoring**: Continuous scores for prioritization\n",
    "- **Threshold Selection**: Balancing false positives vs false negatives\n",
    "\n",
    "#### Cybersecurity Applications\n",
    "- **Network Intrusion Detection**: Flag suspicious traffic\n",
    "- **Zero-Day Attacks**: Detect unknown threats\n",
    "- **Insider Threats**: Unusual user behavior\n",
    "- **DDoS Detection**: Abnormal traffic patterns\n",
    "- **Malware Detection**: Anomalous system behavior\n",
    "\n",
    "### Anomaly Detection Algorithms\n",
    "\n",
    "**Isolation Forest**:\n",
    "- **How**: Isolates anomalies using random trees\n",
    "- **Strengths**: Fast, scalable, handles high dimensions\n",
    "- **Best for**: Large datasets, real-time detection\n",
    "\n",
    "**Local Outlier Factor (LOF)**:\n",
    "- **How**: Compares local density to neighbors\n",
    "- **Strengths**: Good for varying density regions\n",
    "- **Best for**: Complex data with multiple normal patterns\n",
    "\n",
    "**One-Class SVM**:\n",
    "- **How**: Learns boundary around normal data\n",
    "- **Strengths**: Effective for well-defined normal region\n",
    "- **Best for**: High-dimensional data with clear normal zone\n",
    "\n",
    "### Business Value\n",
    "\n",
    "1. **Security**:\n",
    "   - Early threat detection\n",
    "   - Reduced dwell time\n",
    "   - Proactive defense\n",
    "\n",
    "2. **Cost Savings**:\n",
    "   - Prevent data breaches ($millions)\n",
    "   - Reduce manual monitoring\n",
    "   - Minimize downtime\n",
    "\n",
    "3. **Compliance**:\n",
    "   - Meet security monitoring requirements\n",
    "   - Audit trail of threats\n",
    "   - Demonstrate due diligence\n",
    "\n",
    "### Challenges and Considerations\n",
    "\n",
    "1. **False Positives**:\n",
    "   - Alert fatigue if too many\n",
    "   - Wasted investigation time\n",
    "   - Need to tune threshold\n",
    "\n",
    "2. **False Negatives**:\n",
    "   - Missed attacks are costly\n",
    "   - More dangerous than false positives\n",
    "   - Balance with other security layers\n",
    "\n",
    "3. **Concept Drift**:\n",
    "   - Normal traffic patterns change\n",
    "   - New attack types emerge\n",
    "   - Regular retraining needed\n",
    "\n",
    "### Production Deployment\n",
    "\n",
    "**Real-time Pipeline**:\n",
    "1. Capture network packets\n",
    "2. Extract flow features\n",
    "3. Normalize/preprocess\n",
    "4. Score with model\n",
    "5. Alert if anomaly\n",
    "6. Investigate and respond\n",
    "\n",
    "**Best Practices**:\n",
    "- Start with conservative threshold (fewer alerts)\n",
    "- Gradually tune based on investigation feedback\n",
    "- Implement tiered alerting (critical/medium/low)\n",
    "- Integrate with SIEM for correlation\n",
    "- Regular model updates with new normal traffic\n",
    "- Maintain human-in-the-loop for critical decisions\n",
    "\n",
    "### Limitations\n",
    "\n",
    "1. **Training Data Quality**:\n",
    "   - Assumes training data is mostly normal\n",
    "   - Contaminated training = poor detection\n",
    "\n",
    "2. **Novel Attacks**:\n",
    "   - Can miss sophisticated attacks that mimic normal traffic\n",
    "   - Should be one layer in defense-in-depth strategy\n",
    "\n",
    "3. **Feature Engineering**:\n",
    "   - Quality of features crucial\n",
    "   - Domain expertise needed\n",
    "\n",
    "### Future Enhancements\n",
    "\n",
    "1. **Deep Learning**: Neural networks for complex patterns\n",
    "2. **Ensemble Methods**: Combine multiple detectors\n",
    "3. **Temporal Analysis**: Sequence-based detection\n",
    "4. **Contextual Features**: User, time, location context\n",
    "5. **Active Learning**: Feedback from investigations\n",
    "\n",
    "### Resources\n",
    "\n",
    "- [PyCaret Anomaly Detection](https://pycaret.gitbook.io/docs/get-started/tutorials/anomaly-detection)\n",
    "- [Scikit-learn Outlier Detection](https://scikit-learn.org/stable/modules/outlier_detection.html)\n",
    "- [Network Intrusion Detection](https://www.coursera.org/)\n",
    "\n",
    "---\n",
    "\n",
    "**Author**: Bala Anbalagan  \n",
    "**Date**: October 2025  \n",
    "**Dataset**: Real network traffic from CIC-IDS-2017 (DoS GoldenEye attack dataset)  \n",
    "**License**: MIT  \n",
    "\n",
    "---\n",
    "\n",
    "## Thank you for following this anomaly detection tutorial!\n",
    "\n",
    "**Key Achievement**: Built an unsupervised intrusion detection system without labeled attacks!\n",
    "\n",
    "**Main Insight**: Anomaly detection excels at finding unusual patterns, making it perfect for cybersecurity where new threats constantly emerge.\n",
    "\n",
    "**Next Steps**:\n",
    "- Apply to real network traffic data\n",
    "- Integrate with SIEM systems\n",
    "- Deploy for continuous monitoring\n",
    "\n",
    "**Disclaimer**: For educational purposes. Production intrusion detection requires comprehensive security architecture, not just anomaly detection. Always combine with firewalls, IDS/IPS, endpoint protection, and security expertise."
   ]
  }
 ],
 "metadata": {
  "kernelspec": {
   "display_name": "Python 3",
   "language": "python",
   "name": "python3"
  },
  "language_info": {
   "codemirror_mode": {
    "name": "ipython",
    "version": 3
   },
   "file_extension": ".py",
   "mimetype": "text/x-python",
   "name": "python",
   "nbconvert_exporter": "python",
   "pygments_lexer": "ipython3",
   "version": "3.8.0"
  }
 },
 "nbformat": 4,
 "nbformat_minor": 4
}
